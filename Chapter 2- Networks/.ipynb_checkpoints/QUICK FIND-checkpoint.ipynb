{
 "cells": [
  {
   "cell_type": "markdown",
   "metadata": {},
   "source": [
    "# QUICK FIND"
   ]
  },
  {
   "cell_type": "code",
   "execution_count": 2,
   "metadata": {},
   "outputs": [],
   "source": [
    "import numpy as np\n",
    "import math \n",
    "\n",
    "%matplotlib inline\n",
    "import matplotlib.pyplot as plt # side-stepping mpl backend\n",
    "import matplotlib.gridspec as gridspec # subplots\n",
    "import warnings\n",
    "\n",
    "warnings.filterwarnings(\"ignore\")\n",
    "class ListTable(list):\n",
    "    \"\"\" Overridden list class which takes a 2-dimensional list of \n",
    "        the form [[1,2,3],[4,5,6]], and renders an HTML Table in \n",
    "        IPython Notebook. \"\"\"\n",
    "    \n",
    "    def _repr_html_(self):\n",
    "        html = [\"<table>\"]\n",
    "        for row in self:\n",
    "            html.append(\"<tr>\")\n",
    "            \n",
    "            for col in row:\n",
    "                html.append(\"<td>{0}</td>\".format(col))\n",
    "            \n",
    "            html.append(\"</tr>\")\n",
    "        html.append(\"</table>\")\n",
    "        return ''.join(html)"
   ]
  },
  {
   "cell_type": "code",
   "execution_count": 3,
   "metadata": {},
   "outputs": [
    {
     "data": {
      "text/html": [
       "<script>\n",
       "code_show=true; \n",
       "function code_toggle() {\n",
       " if (code_show){\n",
       " $('div.input').hide();\n",
       " } else {\n",
       " $('div.input').show();\n",
       " }\n",
       " code_show = !code_show\n",
       "} \n",
       "$( document ).ready(code_toggle);\n",
       "</script>\n",
       "<form action=\"javascript:code_toggle()\"><input type=\"submit\" value=\"Click here to toggle on/off the raw code.\"></form>"
      ],
      "text/plain": [
       "<IPython.core.display.HTML object>"
      ]
     },
     "execution_count": 3,
     "metadata": {},
     "output_type": "execute_result"
    }
   ],
   "source": [
    "warnings.filterwarnings(\"ignore\")\n",
    "from IPython.display import HTML\n",
    "\n",
    "HTML('''<script>\n",
    "code_show=true; \n",
    "function code_toggle() {\n",
    " if (code_show){\n",
    " $('div.input').hide();\n",
    " } else {\n",
    " $('div.input').show();\n",
    " }\n",
    " code_show = !code_show\n",
    "} \n",
    "$( document ).ready(code_toggle);\n",
    "</script>\n",
    "<form action=\"javascript:code_toggle()\"><input type=\"submit\" value=\"Click here to toggle on/off the raw code.\"></form>''')\n"
   ]
  },
  {
   "cell_type": "code",
   "execution_count": 4,
   "metadata": {},
   "outputs": [],
   "source": [
    "def Union(Connect,ID,count):\n",
    "    n=len(ID)\n",
    "    pID=ID[Connect[0]]\n",
    "    qID=ID[Connect[1]]\n",
    "\n",
    "    if(pID==qID):\n",
    "        table.append(np.append(np.append(str(Connect),ID),count))\n",
    "        print(np.append(str(Connect),ID))\n",
    "        return ID,count;\n",
    "\n",
    "    for i in range(0,n):\n",
    "        if ID[i]==pID:\n",
    "            ID[i]=qID\n",
    "    count=count-1\n",
    "    \n",
    "    table.append(np.append(np.append(str(Connect),ID),count))\n",
    "    #print(np.append(str(Connect),ID))\n",
    "    table\n",
    "    return ID,count;"
   ]
  },
  {
   "cell_type": "code",
   "execution_count": 5,
   "metadata": {},
   "outputs": [],
   "source": [
    "def plot_network(ID):\n",
    "    A=np.append(np.arange(0,5),np.arange(0,5)) # X CO-ORD FOR BOX 1\n",
    "    B=np.append(np.zeros(5),np.ones(5))\n",
    "    fig = plt.figure()                                                               \n",
    "    ax = fig.add_subplot(1,1,1)                                                      \n",
    "    for i in range(2*5): \n",
    "        ax.text(A[i]+0.1, B[i]+0.1,i)\n",
    "\n",
    "    plt.plot(A,B,'o',color='red', label = 'y0')\n",
    "    \n",
    "    GROUPS=np.unique(ID)\n",
    "    NAME=np.arange(0,10)\n",
    "    \n",
    "    for k in GROUPS:\n",
    "        plt.plot([A[i] for i in NAME[ID==k]],[B[i] for i in NAME[ID==k]], label = 'GROUP')\n",
    "    \n",
    "    ax.set_aspect('equal')\n",
    "    plt.xlim(-1,5)\n",
    "    plt.ylim(-1,2)\n",
    "    plt.gca().xaxis.set_major_locator(plt.NullLocator())\n",
    "    plt.gca().yaxis.set_major_locator(plt.NullLocator())\n",
    "    plt.show()\n"
   ]
  },
  {
   "cell_type": "code",
   "execution_count": 6,
   "metadata": {},
   "outputs": [],
   "source": [
    "table = ListTable()\n",
    "ID=np.arange(0,10)\n",
    "table.append(np.append(np.append('Connect',ID),'Count'))\n",
    "count=len(ID)"
   ]
  },
  {
   "cell_type": "code",
   "execution_count": 7,
   "metadata": {},
   "outputs": [],
   "source": [
    "Connect=np.array([1,2])\n",
    "[ID,count]=Union(Connect,ID,count)"
   ]
  },
  {
   "cell_type": "code",
   "execution_count": 8,
   "metadata": {},
   "outputs": [],
   "source": [
    "Connect=np.array([0,1])\n",
    "[ID,count]=Union(Connect,ID,count)"
   ]
  },
  {
   "cell_type": "code",
   "execution_count": 9,
   "metadata": {},
   "outputs": [
    {
     "data": {
      "image/png": "[encoded data removed]",
      "text/plain": [
       "<Figure size 432x288 with 1 Axes>"
      ]
     },
     "metadata": {},
     "output_type": "display_data"
    }
   ],
   "source": [
    "\n",
    "plot_network(ID)"
   ]
  },
  {
   "cell_type": "code",
   "execution_count": 10,
   "metadata": {},
   "outputs": [
    {
     "data": {
      "text/html": [
       "<table><tr><td>Connect</td><td>0</td><td>1</td><td>2</td><td>3</td><td>4</td><td>5</td><td>6</td><td>7</td><td>8</td><td>9</td><td>Count</td></tr><tr><td>[1 2]</td><td>0</td><td>2</td><td>2</td><td>3</td><td>4</td><td>5</td><td>6</td><td>7</td><td>8</td><td>9</td><td>9</td></tr><tr><td>[0 1]</td><td>2</td><td>2</td><td>2</td><td>3</td><td>4</td><td>5</td><td>6</td><td>7</td><td>8</td><td>9</td><td>8</td></tr></table>"
      ],
      "text/plain": [
       "[array(['Connect', '0', '1', '2', '3', '4', '5', '6', '7', '8', '9',\n",
       "        'Count'], dtype='<U21'),\n",
       " array(['[1 2]', '0', '2', '2', '3', '4', '5', '6', '7', '8', '9', '9'],\n",
       "       dtype='<U21'),\n",
       " array(['[0 1]', '2', '2', '2', '3', '4', '5', '6', '7', '8', '9', '8'],\n",
       "       dtype='<U21')]"
      ]
     },
     "execution_count": 10,
     "metadata": {},
     "output_type": "execute_result"
    }
   ],
   "source": [
    "table"
   ]
  },
  {
   "cell_type": "code",
   "execution_count": 11,
   "metadata": {},
   "outputs": [],
   "source": [
    "Connect=np.array([2,9])\n",
    "[ID,count]=Union(Connect,ID,count)"
   ]
  },
  {
   "cell_type": "code",
   "execution_count": 12,
   "metadata": {},
   "outputs": [
    {
     "data": {
      "text/html": [
       "<table><tr><td>Connect</td><td>0</td><td>1</td><td>2</td><td>3</td><td>4</td><td>5</td><td>6</td><td>7</td><td>8</td><td>9</td><td>Count</td></tr><tr><td>[1 2]</td><td>0</td><td>2</td><td>2</td><td>3</td><td>4</td><td>5</td><td>6</td><td>7</td><td>8</td><td>9</td><td>9</td></tr><tr><td>[0 1]</td><td>2</td><td>2</td><td>2</td><td>3</td><td>4</td><td>5</td><td>6</td><td>7</td><td>8</td><td>9</td><td>8</td></tr><tr><td>[2 9]</td><td>9</td><td>9</td><td>9</td><td>3</td><td>4</td><td>5</td><td>6</td><td>7</td><td>8</td><td>9</td><td>7</td></tr></table>"
      ],
      "text/plain": [
       "[array(['Connect', '0', '1', '2', '3', '4', '5', '6', '7', '8', '9',\n",
       "        'Count'], dtype='<U21'),\n",
       " array(['[1 2]', '0', '2', '2', '3', '4', '5', '6', '7', '8', '9', '9'],\n",
       "       dtype='<U21'),\n",
       " array(['[0 1]', '2', '2', '2', '3', '4', '5', '6', '7', '8', '9', '8'],\n",
       "       dtype='<U21'),\n",
       " array(['[2 9]', '9', '9', '9', '3', '4', '5', '6', '7', '8', '9', '7'],\n",
       "       dtype='<U21')]"
      ]
     },
     "execution_count": 12,
     "metadata": {},
     "output_type": "execute_result"
    }
   ],
   "source": [
    "table"
   ]
  },
  {
   "cell_type": "code",
   "execution_count": 13,
   "metadata": {},
   "outputs": [
    {
     "name": "stdout",
     "output_type": "stream",
     "text": [
      "['[2 0]' '9' '9' '9' '3' '4' '5' '6' '7' '8' '9']\n"
     ]
    }
   ],
   "source": [
    "Connect=np.array([2,0])\n",
    "[ID,count]=Union(Connect,ID,count)"
   ]
  },
  {
   "cell_type": "code",
   "execution_count": 14,
   "metadata": {},
   "outputs": [
    {
     "data": {
      "text/html": [
       "<table><tr><td>Connect</td><td>0</td><td>1</td><td>2</td><td>3</td><td>4</td><td>5</td><td>6</td><td>7</td><td>8</td><td>9</td><td>Count</td></tr><tr><td>[1 2]</td><td>0</td><td>2</td><td>2</td><td>3</td><td>4</td><td>5</td><td>6</td><td>7</td><td>8</td><td>9</td><td>9</td></tr><tr><td>[0 1]</td><td>2</td><td>2</td><td>2</td><td>3</td><td>4</td><td>5</td><td>6</td><td>7</td><td>8</td><td>9</td><td>8</td></tr><tr><td>[2 9]</td><td>9</td><td>9</td><td>9</td><td>3</td><td>4</td><td>5</td><td>6</td><td>7</td><td>8</td><td>9</td><td>7</td></tr><tr><td>[2 0]</td><td>9</td><td>9</td><td>9</td><td>3</td><td>4</td><td>5</td><td>6</td><td>7</td><td>8</td><td>9</td><td>7</td></tr></table>"
      ],
      "text/plain": [
       "[array(['Connect', '0', '1', '2', '3', '4', '5', '6', '7', '8', '9',\n",
       "        'Count'], dtype='<U21'),\n",
       " array(['[1 2]', '0', '2', '2', '3', '4', '5', '6', '7', '8', '9', '9'],\n",
       "       dtype='<U21'),\n",
       " array(['[0 1]', '2', '2', '2', '3', '4', '5', '6', '7', '8', '9', '8'],\n",
       "       dtype='<U21'),\n",
       " array(['[2 9]', '9', '9', '9', '3', '4', '5', '6', '7', '8', '9', '7'],\n",
       "       dtype='<U21'),\n",
       " array(['[2 0]', '9', '9', '9', '3', '4', '5', '6', '7', '8', '9', '7'],\n",
       "       dtype='<U21')]"
      ]
     },
     "execution_count": 14,
     "metadata": {},
     "output_type": "execute_result"
    }
   ],
   "source": [
    "table"
   ]
  },
  {
   "cell_type": "code",
   "execution_count": null,
   "metadata": {},
   "outputs": [],
   "source": []
  },
  {
   "cell_type": "code",
   "execution_count": null,
   "metadata": {},
   "outputs": [],
   "source": []
  },
  {
   "cell_type": "code",
   "execution_count": null,
   "metadata": {},
   "outputs": [],
   "source": []
  }
 ],
 "metadata": {
  "kernelspec": {
   "display_name": "Python 3",
   "language": "python",
   "name": "python3"
  },
  "language_info": {
   "codemirror_mode": {
    "name": "ipython",
    "version": 3
   },
   "file_extension": ".py",
   "mimetype": "text/x-python",
   "name": "python",
   "nbconvert_exporter": "python",
   "pygments_lexer": "ipython3",
   "version": "3.7.3"
  }
 },
 "nbformat": 4,
 "nbformat_minor": 2
}
