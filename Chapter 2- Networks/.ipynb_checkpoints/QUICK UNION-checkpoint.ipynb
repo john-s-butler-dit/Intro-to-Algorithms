{
 "cells": [
  {
   "cell_type": "markdown",
   "metadata": {},
   "source": [
    "# QUICK UNION"
   ]
  },
  {
   "cell_type": "code",
   "execution_count": 1,
   "metadata": {},
   "outputs": [],
   "source": [
    "import numpy as np\n",
    "import math \n",
    "\n",
    "%matplotlib inline\n",
    "import matplotlib.pyplot as plt # side-stepping mpl backend\n",
    "import matplotlib.gridspec as gridspec # subplots\n",
    "import warnings\n",
    "\n",
    "warnings.filterwarnings(\"ignore\")\n",
    "class ListTable(list):\n",
    "    \"\"\" Overridden list class which takes a 2-dimensional list of \n",
    "        the form [[1,2,3],[4,5,6]], and renders an HTML Table in \n",
    "        IPython Notebook. \"\"\"\n",
    "    \n",
    "    def _repr_html_(self):\n",
    "        html = [\"<table>\"]\n",
    "        for row in self:\n",
    "            html.append(\"<tr>\")\n",
    "            \n",
    "            for col in row:\n",
    "                html.append(\"<td>{0}</td>\".format(col))\n",
    "            \n",
    "            html.append(\"</tr>\")\n",
    "        html.append(\"</table>\")\n",
    "        return ''.join(html)"
   ]
  },
  {
   "cell_type": "code",
   "execution_count": 2,
   "metadata": {},
   "outputs": [],
   "source": [
    "def Quick_Union(Connect,ID,count):\n",
    "    \n",
    "    root_pID=find_root(Connect[0],ID)\n",
    "    root_qID=find_root(Connect[1],ID)\n",
    "\n",
    "    if(root_pID==root_qID):\n",
    "        table.append(np.append(np.append(str(Connect),ID),count))\n",
    "        print(np.append(str(Connect),ID))\n",
    "        return ID,count;\n",
    "\n",
    "    ID[root_pID]=root_qID\n",
    "\n",
    "    count=count-1\n",
    "    \n",
    "    table.append(np.append(np.append(str(Connect),ID),count))\n",
    "    # print(np.append(str(Connect),ID))\n",
    "    table\n",
    "    return ID,count;"
   ]
  },
  {
   "cell_type": "code",
   "execution_count": 3,
   "metadata": {},
   "outputs": [],
   "source": [
    "def find_root(p,ID):\n",
    "    while (p!=ID[p]):\n",
    "        p=ID[p]\n",
    "\n",
    "    return p"
   ]
  },
  {
   "cell_type": "code",
   "execution_count": 4,
   "metadata": {},
   "outputs": [],
   "source": [
    "def plot_network(ID):\n",
    "    A=np.append(np.arange(0,5),np.arange(0,5)) # X CO-ORD FOR BOX 1\n",
    "    B=np.append(np.zeros(5),np.ones(5))\n",
    "    fig = plt.figure()                                                               \n",
    "    ax = fig.add_subplot(1,1,1)                                                      \n",
    "    for i in range(2*5): \n",
    "        ax.text(A[i]+0.1, B[i]+0.1,i)\n",
    "\n",
    "    plt.plot(A,B,'o',color='red', label = 'y0')\n",
    "    \n",
    "    GROUPS=np.unique(ID)\n",
    "    NAME=np.arange(0,10)\n",
    "    \n",
    "    for k in GROUPS:\n",
    "        plt.plot([A[i] for i in NAME[ID==k]],[B[i] for i in NAME[ID==k]], label = 'GROUP')\n",
    "    \n",
    "    ax.set_aspect('equal')\n",
    "    plt.xlim(-1,5)\n",
    "    plt.ylim(-1,2)\n",
    "    plt.gca().xaxis.set_major_locator(plt.NullLocator())\n",
    "    plt.gca().yaxis.set_major_locator(plt.NullLocator())\n",
    "    plt.show()\n"
   ]
  },
  {
   "cell_type": "code",
   "execution_count": 5,
   "metadata": {},
   "outputs": [],
   "source": [
    "table = ListTable()\n",
    "ID=np.arange(0,10)\n",
    "table.append(np.append(np.append('Name',ID),'Group'))\n",
    "table.append(np.append(np.append('ID',ID),'Count'))\n",
    "count=len(ID)"
   ]
  },
  {
   "cell_type": "code",
   "execution_count": 9,
   "metadata": {},
   "outputs": [
    {
     "name": "stdout",
     "output_type": "stream",
     "text": [
      "['[5 6]' '0' '1' '2' '4' '4' '6' '6' '7' '8' '9']\n"
     ]
    },
    {
     "data": {
      "text/plain": [
       "(array([0, 1, 2, 4, 4, 6, 6, 7, 8, 9]), 8)"
      ]
     },
     "execution_count": 9,
     "metadata": {},
     "output_type": "execute_result"
    }
   ],
   "source": [
    "Connect=np.array([5,6])\n",
    "Quick_Union(Connect,ID,count)"
   ]
  },
  {
   "cell_type": "code",
   "execution_count": 7,
   "metadata": {},
   "outputs": [],
   "source": [
    "Connect=np.array([3,4])\n",
    "[ID,count]=Quick_Union(Connect,ID,count)"
   ]
  },
  {
   "cell_type": "code",
   "execution_count": 8,
   "metadata": {},
   "outputs": [
    {
     "data": {
      "text/html": [
       "<table><tr><td>Name</td><td>0</td><td>1</td><td>2</td><td>3</td><td>4</td><td>5</td><td>6</td><td>7</td><td>8</td><td>9</td><td>Group</td></tr><tr><td>ID</td><td>0</td><td>1</td><td>2</td><td>3</td><td>4</td><td>5</td><td>6</td><td>7</td><td>8</td><td>9</td><td>Count</td></tr><tr><td>[5 6]</td><td>0</td><td>1</td><td>2</td><td>3</td><td>4</td><td>6</td><td>6</td><td>7</td><td>8</td><td>9</td><td>9</td></tr><tr><td>[3 4]</td><td>0</td><td>1</td><td>2</td><td>4</td><td>4</td><td>6</td><td>6</td><td>7</td><td>8</td><td>9</td><td>8</td></tr></table>"
      ],
      "text/plain": [
       "[array(['Name', '0', '1', '2', '3', '4', '5', '6', '7', '8', '9', 'Group'],\n",
       "       dtype='<U21'),\n",
       " array(['ID', '0', '1', '2', '3', '4', '5', '6', '7', '8', '9', 'Count'],\n",
       "       dtype='<U21'),\n",
       " array(['[5 6]', '0', '1', '2', '3', '4', '6', '6', '7', '8', '9', '9'],\n",
       "       dtype='<U21'),\n",
       " array(['[3 4]', '0', '1', '2', '4', '4', '6', '6', '7', '8', '9', '8'],\n",
       "       dtype='<U21')]"
      ]
     },
     "execution_count": 8,
     "metadata": {},
     "output_type": "execute_result"
    }
   ],
   "source": [
    "table"
   ]
  },
  {
   "cell_type": "code",
   "execution_count": null,
   "metadata": {},
   "outputs": [],
   "source": []
  }
 ],
 "metadata": {
  "kernelspec": {
   "display_name": "Python 3",
   "language": "python",
   "name": "python3"
  },
  "language_info": {
   "codemirror_mode": {
    "name": "ipython",
    "version": 3
   },
   "file_extension": ".py",
   "mimetype": "text/x-python",
   "name": "python",
   "nbconvert_exporter": "python",
   "pygments_lexer": "ipython3",
   "version": "3.7.3"
  }
 },
 "nbformat": 4,
 "nbformat_minor": 2
}
