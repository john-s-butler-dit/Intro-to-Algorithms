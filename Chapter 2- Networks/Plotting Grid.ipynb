{
 "cells": [
  {
   "cell_type": "code",
   "execution_count": 1,
   "metadata": {},
   "outputs": [],
   "source": [
    "## Library\n",
    "import numpy as np\n",
    "import math \n",
    "\n",
    "%matplotlib inline\n",
    "import matplotlib.pyplot as plt # side-stepping mpl backend\n",
    "import matplotlib.gridspec as gridspec # subplots\n",
    "import warnings\n",
    "\n",
    "warnings.filterwarnings(\"ignore\")"
   ]
  },
  {
   "cell_type": "code",
   "execution_count": 5,
   "metadata": {},
   "outputs": [
    {
     "data": {
      "image/png": "[encoded data removed]",
      "text/plain": [
       "<Figure size 432x288 with 1 Axes>"
      ]
     },
     "metadata": {
      "needs_background": "light"
     },
     "output_type": "display_data"
    }
   ],
   "source": [
    "n=5\n",
    "A=list(range(n)) +list(range(n)) # X CO-ORD FOR BOX 1\n",
    "B=np.array([1.5, 1.5, -1.5, -1.5 ]) # Y CO-ORD FOR BOX 1\n",
    "A=list(range(n)) +list(range(n))\n",
    "a=np.ones((1,n))\n",
    "b=0*np.ones((1,n))\n",
    "B=np.append(b,a)\n",
    "C=np.array([0.5, 0.5, -0.5, -0.5, 0.5 ]) # X CO-ORD FOR BOX 2\n",
    "D=np.array([0.5, -0.5, -0.5, 0.5, 0.5]) # X CO-ORD FOR BOX 2\n",
    "                                       \n",
    "major_ticks = np.arange(0, 5, 1)                                              \n",
    "minor_ticks = np.arange(0, 5, 0.5)                                               \n",
    "                                                                                                                       \n",
    "\n",
    "fig = plt.figure()                                                               \n",
    "ax = fig.add_subplot(1,1,1)                                                      \n",
    "\n",
    "ax.set_xticks(major_ticks)                                                       \n",
    "ax.set_xticks(minor_ticks, minor=True)                                           \n",
    "ax.set_yticks(major_ticks)                                                       \n",
    "ax.set_yticks(minor_ticks, minor=True)                                           \n",
    "\n",
    "# and a corresponding grid                                                       \n",
    "\n",
    "ax.grid(which='both')                                                            \n",
    "\n",
    "labels = [' ']\n",
    "\n",
    "# You can specify a rotation for the tick labels in degrees or with keywords.\n",
    "# Pad margins so tha\n",
    "\n",
    "# or if you want differnet settings for the grids:                               \n",
    "ax.grid(which='minor', alpha=0.2)                                                \n",
    "ax.grid(which='major', alpha=0.7)          \n",
    "i=0\n",
    "\n",
    "for i in range(2*n): \n",
    "    ax.text(A[i]+0.1, B[i]+0.1,i)\n",
    "\n",
    "                                      \n",
    "plt.plot(A,B,'o',color='red', label = 'y0')\n",
    "#plt.plot(C,D,color='blue')\n",
    "ax.set_aspect('equal')\n",
    "plt.xticks(major_ticks, labels)\n",
    "plt.yticks(major_ticks, labels)\n",
    "plt.xlim(-1,n)\n",
    "plt.ylim(-1,2)\n",
    "plt.show()\n"
   ]
  },
  {
   "cell_type": "code",
   "execution_count": null,
   "metadata": {},
   "outputs": [],
   "source": []
  }
 ],
 "metadata": {
  "kernelspec": {
   "display_name": "Python 3",
   "language": "python",
   "name": "python3"
  },
  "language_info": {
   "codemirror_mode": {
    "name": "ipython",
    "version": 3
   },
   "file_extension": ".py",
   "mimetype": "text/x-python",
   "name": "python",
   "nbconvert_exporter": "python",
   "pygments_lexer": "ipython3",
   "version": "3.6.8"
  }
 },
 "nbformat": 4,
 "nbformat_minor": 2
}
