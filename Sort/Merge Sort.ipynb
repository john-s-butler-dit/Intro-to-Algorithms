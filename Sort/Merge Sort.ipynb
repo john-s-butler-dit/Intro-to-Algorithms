{
 "cells": [
  {
   "cell_type": "markdown",
   "metadata": {},
   "source": [
    "# Merge Sort"
   ]
  },
  {
   "cell_type": "code",
   "execution_count": 3,
   "metadata": {
    "collapsed": false
   },
   "outputs": [
    {
     "name": "stdout",
     "output_type": "stream",
     "text": [
      "Splitting  [54, 26, 93, 17, 77, 31, 44, 55, 20, 22, 33]\n",
      "Splitting  [54, 26, 93, 17, 77]\n",
      "Splitting  [54, 26]\n",
      "Splitting  [54]\n",
      "Merging  [54]\n",
      "Splitting  [26]\n",
      "Merging  [26]\n",
      "Merging  [26, 54]\n",
      "Splitting  [93, 17, 77]\n",
      "Splitting  [93]\n",
      "Merging  [93]\n",
      "Splitting  [17, 77]\n",
      "Splitting  [17]\n",
      "Merging  [17]\n",
      "Splitting  [77]\n",
      "Merging  [77]\n",
      "Merging  [17, 77]\n",
      "Merging  [17, 77, 93]\n",
      "Merging  [17, 26, 54, 77, 93]\n",
      "Splitting  [31, 44, 55, 20, 22, 33]\n",
      "Splitting  [31, 44, 55]\n",
      "Splitting  [31]\n",
      "Merging  [31]\n",
      "Splitting  [44, 55]\n",
      "Splitting  [44]\n",
      "Merging  [44]\n",
      "Splitting  [55]\n",
      "Merging  [55]\n",
      "Merging  [44, 55]\n",
      "Merging  [31, 44, 55]\n",
      "Splitting  [20, 22, 33]\n",
      "Splitting  [20]\n",
      "Merging  [20]\n",
      "Splitting  [22, 33]\n",
      "Splitting  [22]\n",
      "Merging  [22]\n",
      "Splitting  [33]\n",
      "Merging  [33]\n",
      "Merging  [22, 33]\n",
      "Merging  [20, 22, 33]\n",
      "Merging  [20, 22, 31, 33, 44, 55]\n",
      "Merging  [17, 20, 22, 26, 31, 33, 44, 54, 55, 77, 93]\n",
      "[17, 20, 22, 26, 31, 33, 44, 54, 55, 77, 93]\n"
     ]
    }
   ],
   "source": [
    "def mergeSort(alist):\n",
    "    print(\"Splitting \",alist)\n",
    "    if len(alist)>1:\n",
    "        mid = len(alist)//2\n",
    "        lefthalf = alist[:mid]\n",
    "        righthalf = alist[mid:]\n",
    "\n",
    "        mergeSort(lefthalf)\n",
    "        mergeSort(righthalf)\n",
    "\n",
    "        i=0\n",
    "        j=0\n",
    "        k=0\n",
    "        while i < len(lefthalf) and j < len(righthalf):\n",
    "            if lefthalf[i] < righthalf[j]:\n",
    "                alist[k]=lefthalf[i]\n",
    "                i=i+1\n",
    "            else:\n",
    "                alist[k]=righthalf[j]\n",
    "                j=j+1\n",
    "            k=k+1\n",
    "\n",
    "        while i < len(lefthalf):\n",
    "            alist[k]=lefthalf[i]\n",
    "            i=i+1\n",
    "            k=k+1\n",
    "\n",
    "        while j < len(righthalf):\n",
    "            alist[k]=righthalf[j]\n",
    "            j=j+1\n",
    "            k=k+1\n",
    "    print(\"Merging \",alist)\n",
    "\n",
    "alist = [54,26,93,17,77,31,44,55,20,22,33]\n",
    "mergeSort(alist)\n",
    "print(alist)\n"
   ]
  },
  {
   "cell_type": "code",
   "execution_count": null,
   "metadata": {
    "collapsed": true
   },
   "outputs": [],
   "source": []
  }
 ],
 "metadata": {
  "kernelspec": {
   "display_name": "Python 3",
   "language": "python",
   "name": "python3"
  },
  "language_info": {
   "codemirror_mode": {
    "name": "ipython",
    "version": 3
   },
   "file_extension": ".py",
   "mimetype": "text/x-python",
   "name": "python",
   "nbconvert_exporter": "python",
   "pygments_lexer": "ipython3",
   "version": "3.4.1"
  }
 },
 "nbformat": 4,
 "nbformat_minor": 0
}
