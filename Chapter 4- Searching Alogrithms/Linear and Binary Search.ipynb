{
  "cells": [
    {
      "cell_type": "markdown",
      "source": [
        "## Linear Search"
      ],
      "metadata": {
        "id": "2nj_MpnyVPL5"
      }
    },
    {
      "cell_type": "code",
      "source": [
        "from IPython.display import YouTubeVideo\n",
        "YouTubeVideo('EKGECzCN3Ck')"
      ],
      "metadata": {
        "id": "OBmQKvdKWxnq",
        "outputId": "c027c7bc-d5a5-4e3b-e377-df5ea436aebd",
        "colab": {
          "base_uri": "https://localhost:8080/",
          "height": 321
        }
      },
      "execution_count": 75,
      "outputs": [
        {
          "output_type": "execute_result",
          "data": {
            "text/plain": [
              "<IPython.lib.display.YouTubeVideo at 0x7f85249f5250>"
            ],
            "text/html": [
              "\n",
              "        <iframe\n",
              "            width=\"400\"\n",
              "            height=\"300\"\n",
              "            src=\"https://www.youtube.com/embed/EKGECzCN3Ck\"\n",
              "            frameborder=\"0\"\n",
              "            allowfullscreen\n",
              "        ></iframe>\n",
              "        "
            ],
            "image/jpeg": "[encoded data removed]"
          },
          "metadata": {},
          "execution_count": 75
        }
      ]
    },
    {
      "cell_type": "code",
      "source": [
        "# Program for  Linear search. \n",
        "  \n",
        "# Returns index of value in arr if present, else -1 \n",
        "def LinearSearch (arr,value): \n",
        "    i=0\n",
        "    while arr[i] != value: \n",
        "      print(\"Not at index:\",i)\n",
        "      i=i+1\n",
        "      if i ==len(arr):\n",
        "        print(\"Not in list\")\n",
        "        return -1\n",
        "    print(\"Value at index: \",i)\n",
        "    return i\n",
        "  \n",
        "  "
      ],
      "metadata": {
        "id": "gwSyBI1YVMlv"
      },
      "execution_count": 71,
      "outputs": []
    },
    {
      "cell_type": "code",
      "source": [
        "# Test array \n",
        "arr = [ 2, 3, 4, 10, 40,50,70,90,100,110,300 ] \n",
        "value = 3000\n",
        "  \n",
        "\n",
        "LinearSearch (arr,value)"
      ],
      "metadata": {
        "colab": {
          "base_uri": "https://localhost:8080/"
        },
        "id": "h97UHtm2VY2p",
        "outputId": "53933b67-b30d-4940-dd09-54e0af372a99"
      },
      "execution_count": 72,
      "outputs": [
        {
          "output_type": "stream",
          "name": "stdout",
          "text": [
            "Not at index: 0\n",
            "Not at index: 1\n",
            "Not at index: 2\n",
            "Not at index: 3\n",
            "Not at index: 4\n",
            "Not at index: 5\n",
            "Not at index: 6\n",
            "Not at index: 7\n",
            "Not at index: 8\n",
            "Not at index: 9\n",
            "Not at index: 10\n",
            "Not in list\n"
          ]
        },
        {
          "output_type": "execute_result",
          "data": {
            "text/plain": [
              "-1"
            ]
          },
          "metadata": {},
          "execution_count": 72
        }
      ]
    },
    {
      "cell_type": "markdown",
      "source": [
        "## Binary Search"
      ],
      "metadata": {
        "id": "wkgNe_uCVUOo"
      }
    },
    {
      "cell_type": "code",
      "source": [
        "# Program for recursive binary search. \n",
        "  \n",
        "# Returns index of x in arr if present, else -1 \n",
        "def Binary_Search (arr,l,r,value): \n",
        "    print(arr[l:r+1])\n",
        "    mid =int(l + (r - l)/2)\n",
        "    print(\"Mid Point Index: \",mid)\n",
        "    print(\"Right: \",r)\n",
        "    if (mid==len(arr)):\n",
        "        print(\"Not in list\")\n",
        "        return -1\n",
        "    # If element is present at the middle itself \n",
        "    if arr[mid] == value: \n",
        "        return mid \n",
        "    if (mid==0):\n",
        "        print(\"Not in list\")\n",
        "        return -1\n",
        "  \n",
        "\n",
        "    # If element is smaller than mid, then it  \n",
        "    # can only be present in left subarray \n",
        "    elif arr[mid] > value: \n",
        "        return Binary_Search(arr, l, mid-1, value) \n",
        "\n",
        "    # Else the element can only be present  \n",
        "    # in right subarray \n",
        "    else: \n",
        "        return Binary_Search(arr, mid + 1, r, value) \n",
        "  \n",
        "  \n"
      ],
      "metadata": {
        "id": "VQctg7IuQq6n"
      },
      "execution_count": 73,
      "outputs": []
    },
    {
      "cell_type": "code",
      "execution_count": 74,
      "metadata": {
        "colab": {
          "base_uri": "https://localhost:8080/"
        },
        "id": "yH3IA3HRQE0z",
        "outputId": "216d17b3-0641-4317-dda6-caaf6cfe457f"
      },
      "outputs": [
        {
          "output_type": "stream",
          "name": "stdout",
          "text": [
            "[2, 3, 4, 10, 40, 50, 70, 90, 100, 110, 300]\n",
            "Mid Point Index:  5\n",
            "Right:  11\n",
            "[70, 90, 100, 110, 300]\n",
            "Mid Point Index:  8\n",
            "Right:  11\n",
            "[110, 300]\n",
            "Mid Point Index:  10\n",
            "Right:  11\n",
            "[]\n",
            "Mid Point Index:  11\n",
            "Right:  11\n",
            "Not in list\n"
          ]
        }
      ],
      "source": [
        "\n",
        "# Function call \n",
        "result = Binary_Search(arr,0,len(arr), value) "
      ]
    },
    {
      "cell_type": "code",
      "source": [],
      "metadata": {
        "id": "fgBTftVwQo5d"
      },
      "execution_count": 74,
      "outputs": []
    },
    {
      "cell_type": "code",
      "source": [],
      "metadata": {
        "id": "xZcykqthRKzF"
      },
      "execution_count": 74,
      "outputs": []
    }
  ],
  "metadata": {
    "kernelspec": {
      "display_name": "Python 3",
      "language": "python",
      "name": "python3"
    },
    "language_info": {
      "codemirror_mode": {
        "name": "ipython",
        "version": 3
      },
      "file_extension": ".py",
      "mimetype": "text/x-python",
      "name": "python",
      "nbconvert_exporter": "python",
      "pygments_lexer": "ipython3",
      "version": "3.6.8"
    },
    "colab": {
      "provenance": []
    }
  },
  "nbformat": 4,
  "nbformat_minor": 0
}