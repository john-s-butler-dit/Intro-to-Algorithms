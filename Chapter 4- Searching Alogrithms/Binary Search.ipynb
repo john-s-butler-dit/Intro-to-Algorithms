{
 "cells": [
  {
   "cell_type": "code",
   "execution_count": 7,
   "metadata": {},
   "outputs": [
    {
     "name": "stdout",
     "output_type": "stream",
     "text": [
      "[2, 3, 4, 10]\n",
      "2\n",
      "[2]\n",
      "0\n",
      "0\n"
     ]
    }
   ],
   "source": [
    "# Program for recursive binary search. \n",
    "  \n",
    "# Returns index of x in arr if present, else -1 \n",
    "def binarySearch (arr,l,r,x): \n",
    "    print(arr[l:r])\n",
    "    mid =int(l + (r - l)/2)\n",
    "    print(mid)\n",
    "    # If element is present at the middle itself \n",
    "    if arr[mid] == x: \n",
    "        return mid \n",
    "\n",
    "    # If element is smaller than mid, then it  \n",
    "    # can only be present in left subarray \n",
    "    elif arr[mid] > x: \n",
    "        return binarySearch(arr, l, mid-1, x) \n",
    "\n",
    "    # Else the element can only be present  \n",
    "    # in right subarray \n",
    "    else: \n",
    "        return binarySearch(arr, mid + 1, r, x) \n",
    "  \n",
    "  \n",
    "# Test array \n",
    "arr = [ 2, 3, 4, 10, 40 ] \n",
    "x = 2\n",
    "  \n",
    "# Function call \n",
    "result = binarySearch(arr,0,4, x) \n",
    "print(result)"
   ]
  },
  {
   "cell_type": "code",
   "execution_count": null,
   "metadata": {},
   "outputs": [],
   "source": []
  }
 ],
 "metadata": {
  "kernelspec": {
   "display_name": "Python 3",
   "language": "python",
   "name": "python3"
  },
  "language_info": {
   "codemirror_mode": {
    "name": "ipython",
    "version": 3
   },
   "file_extension": ".py",
   "mimetype": "text/x-python",
   "name": "python",
   "nbconvert_exporter": "python",
   "pygments_lexer": "ipython3",
   "version": "3.6.8"
  }
 },
 "nbformat": 4,
 "nbformat_minor": 2
}
