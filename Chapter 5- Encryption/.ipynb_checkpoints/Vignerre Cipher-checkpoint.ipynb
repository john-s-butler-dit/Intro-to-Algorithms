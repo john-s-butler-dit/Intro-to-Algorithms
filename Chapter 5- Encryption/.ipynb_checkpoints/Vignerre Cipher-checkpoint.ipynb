{
 "cells": [
  {
   "cell_type": "markdown",
   "metadata": {},
   "source": [
    "# Vignerre Cipher\n"
   ]
  },
  {
   "cell_type": "code",
   "execution_count": 1,
   "metadata": {},
   "outputs": [
    {
     "name": "stdout",
     "output_type": "stream",
     "text": [
      "Please enter message CORONAVIRUS\n"
     ]
    }
   ],
   "source": [
    "alphabet=\"ABCDEFGHIJKLMNOPQRSTUVWXYZABCDEFGHIJKLMNOPQRSTUVWXYZ\"\n",
    "stringtoencrypt= input(\"Please enter message \")\n",
    "stringtoencrypt=stringtoencrypt.upper()"
   ]
  },
  {
   "cell_type": "code",
   "execution_count": 2,
   "metadata": {},
   "outputs": [
    {
     "name": "stdout",
     "output_type": "stream",
     "text": [
      "Please enter number VACCINE\n"
     ]
    }
   ],
   "source": [
    "keyword= input(\"Please enter number \")\n",
    "keyword=keyword.upper()\n"
   ]
  },
  {
   "cell_type": "code",
   "execution_count": 7,
   "metadata": {},
   "outputs": [
    {
     "data": {
      "text/plain": [
       "-1"
      ]
     },
     "execution_count": 7,
     "metadata": {},
     "output_type": "execute_result"
    }
   ],
   "source": [
    "alphabet.find(keyword)"
   ]
  },
  {
   "cell_type": "code",
   "execution_count": 4,
   "metadata": {},
   "outputs": [
    {
     "name": "stdout",
     "output_type": "stream",
     "text": [
      "---- ENCRYPTING Letter 0\n",
      "Original: C\n",
      "Keyword:  V\n",
      "Enrypted: X\n",
      "---- ENCRYPTING Letter 1\n",
      "Original: CO\n",
      "Keyword:  VA\n",
      "Enrypted: XO\n",
      "---- ENCRYPTING Letter 2\n",
      "Original: COR\n",
      "Keyword:  VAC\n",
      "Enrypted: XOT\n",
      "---- ENCRYPTING Letter 3\n",
      "Original: CORO\n",
      "Keyword:  VACC\n",
      "Enrypted: XOTQ\n",
      "---- ENCRYPTING Letter 4\n",
      "Original: CORON\n",
      "Keyword:  VACCI\n",
      "Enrypted: XOTQV\n",
      "---- ENCRYPTING Letter 5\n",
      "Original: CORONA\n",
      "Keyword:  VACCIN\n",
      "Enrypted: XOTQVN\n",
      "---- ENCRYPTING Letter 6\n",
      "Original: CORONAV\n",
      "Keyword:  VACCINE\n",
      "Enrypted: XOTQVNZ\n",
      "---- ENCRYPTING Letter 7\n",
      "Original: CORONAVI\n",
      "Keyword:  VACCINEV\n",
      "Enrypted: XOTQVNZD\n",
      "---- ENCRYPTING Letter 8\n",
      "Original: CORONAVIR\n",
      "Keyword:  VACCINEVA\n",
      "Enrypted: XOTQVNZDR\n",
      "---- ENCRYPTING Letter 9\n",
      "Original: CORONAVIRU\n",
      "Keyword:  VACCINEVAC\n",
      "Enrypted: XOTQVNZDRW\n",
      "---- ENCRYPTING Letter 10\n",
      "Original: CORONAVIRUS\n",
      "Keyword:  VACCINEVACC\n",
      "Enrypted: XOTQVNZDRWU\n"
     ]
    },
    {
     "data": {
      "text/plain": [
       "'XOTQVNZDRWU'"
      ]
     },
     "execution_count": 4,
     "metadata": {},
     "output_type": "execute_result"
    }
   ],
   "source": [
    "encryptedstring=''\n",
    "keywordstring=''\n",
    "count=0\n",
    "for currentcharacter in stringtoencrypt:\n",
    "        print('---- ENCRYPTING Letter', count)\n",
    "        position = alphabet.find(currentcharacter)\n",
    "        shiftamount = alphabet.find(keyword[count%int(len(keyword))])\n",
    "        newposition = position + shiftamount\n",
    "        keywordstring = keywordstring + keyword[count%int(len(keyword))]\n",
    "        encryptedstring = encryptedstring + alphabet[newposition]\n",
    "        print('Original:', stringtoencrypt[0:count+1])\n",
    "        print('Keyword: ',keywordstring)\n",
    "        print('Enrypted:',encryptedstring)\n",
    "        count=count+1\n",
    "\n",
    "encryptedstring"
   ]
  },
  {
   "cell_type": "code",
   "execution_count": 5,
   "metadata": {},
   "outputs": [
    {
     "name": "stdout",
     "output_type": "stream",
     "text": [
      "---- DECRYPTING Letter 0\n",
      "Original: X\n",
      "Keyword:  V\n",
      "Enrypted: C\n",
      "---- DECRYPTING Letter 1\n",
      "Original: XO\n",
      "Keyword:  VA\n",
      "Enrypted: CO\n",
      "---- DECRYPTING Letter 2\n",
      "Original: XOT\n",
      "Keyword:  VAC\n",
      "Enrypted: COR\n",
      "---- DECRYPTING Letter 3\n",
      "Original: XOTQ\n",
      "Keyword:  VACC\n",
      "Enrypted: CORO\n",
      "---- DECRYPTING Letter 4\n",
      "Original: XOTQV\n",
      "Keyword:  VACCI\n",
      "Enrypted: CORON\n",
      "---- DECRYPTING Letter 5\n",
      "Original: XOTQVN\n",
      "Keyword:  VACCIN\n",
      "Enrypted: CORONA\n",
      "---- DECRYPTING Letter 6\n",
      "Original: XOTQVNZ\n",
      "Keyword:  VACCINE\n",
      "Enrypted: CORONAV\n",
      "---- DECRYPTING Letter 7\n",
      "Original: XOTQVNZD\n",
      "Keyword:  VACCINEV\n",
      "Enrypted: CORONAVI\n",
      "---- DECRYPTING Letter 8\n",
      "Original: XOTQVNZDR\n",
      "Keyword:  VACCINEVA\n",
      "Enrypted: CORONAVIR\n",
      "---- DECRYPTING Letter 9\n",
      "Original: XOTQVNZDRW\n",
      "Keyword:  VACCINEVAC\n",
      "Enrypted: CORONAVIRU\n",
      "---- DECRYPTING Letter 10\n",
      "Original: XOTQVNZDRWU\n",
      "Keyword:  VACCINEVACC\n",
      "Enrypted: CORONAVIRUS\n"
     ]
    },
    {
     "data": {
      "text/plain": [
       "'CORONAVIRUS'"
      ]
     },
     "execution_count": 5,
     "metadata": {},
     "output_type": "execute_result"
    }
   ],
   "source": [
    "decryptedstring=\"\"\n",
    "keywordstring=''\n",
    "count=0\n",
    "for currentcharacter in encryptedstring:\n",
    "        print('---- DECRYPTING Letter', count)\n",
    "        \n",
    "        position = alphabet.find(currentcharacter)\n",
    "        \n",
    "        shiftamount = alphabet.find(keyword[count%int(len(keyword))])\n",
    "        newposition = position - shiftamount\n",
    "        keywordstring = keywordstring + keyword[count%int(len(keyword))]\n",
    "        \n",
    "        decryptedstring = decryptedstring + alphabet[newposition]\n",
    "        print('Original:', encryptedstring[0:count+1])\n",
    "        print('Keyword: ',keywordstring)\n",
    "        print('Enrypted:',decryptedstring)\n",
    "        count=count+1\n",
    "        \n",
    "        \n",
    "decryptedstring"
   ]
  },
  {
   "cell_type": "code",
   "execution_count": null,
   "metadata": {},
   "outputs": [],
   "source": []
  },
  {
   "cell_type": "code",
   "execution_count": null,
   "metadata": {},
   "outputs": [],
   "source": []
  }
 ],
 "metadata": {
  "kernelspec": {
   "display_name": "Python 3",
   "language": "python",
   "name": "python3"
  },
  "language_info": {
   "codemirror_mode": {
    "name": "ipython",
    "version": 3
   },
   "file_extension": ".py",
   "mimetype": "text/x-python",
   "name": "python",
   "nbconvert_exporter": "python",
   "pygments_lexer": "ipython3",
   "version": "3.7.9"
  }
 },
 "nbformat": 4,
 "nbformat_minor": 2
}
