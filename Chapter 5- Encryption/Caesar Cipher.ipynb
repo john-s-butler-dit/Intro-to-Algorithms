{
 "cells": [
  {
   "cell_type": "code",
   "execution_count": 4,
   "metadata": {},
   "outputs": [
    {
     "name": "stdout",
     "output_type": "stream",
     "text": [
      "Please enter message UNIVERSITY\n"
     ]
    }
   ],
   "source": [
    "alphabet=\"ABCDEFGHIJKLMNOPQRSTUVWXYZABCDEFGHIJKLMNOPQRSTUVWXYZ\"\n",
    "stringtoencrypt= input(\"Please enter message \")\n",
    "stringtoencrypt=stringtoencrypt.upper()"
   ]
  },
  {
   "cell_type": "code",
   "execution_count": 5,
   "metadata": {},
   "outputs": [
    {
     "name": "stdout",
     "output_type": "stream",
     "text": [
      "Please enter number 5\n"
     ]
    }
   ],
   "source": [
    "shiftamount= int(input(\"Please enter number \"))\n",
    "encryptedstring=\"\""
   ]
  },
  {
   "cell_type": "code",
   "execution_count": 6,
   "metadata": {},
   "outputs": [
    {
     "data": {
      "text/plain": [
       "'ZSNAJWXNYD'"
      ]
     },
     "execution_count": 6,
     "metadata": {},
     "output_type": "execute_result"
    }
   ],
   "source": [
    "for currentcharacter in stringtoencrypt:\n",
    "        position = alphabet.find(currentcharacter)\n",
    "        newposition = position + shiftamount\n",
    "        encryptedstring = encryptedstring + alphabet[newposition]\n",
    "\n",
    "encryptedstring"
   ]
  },
  {
   "cell_type": "code",
   "execution_count": 7,
   "metadata": {},
   "outputs": [
    {
     "data": {
      "text/plain": [
       "'UNIVERSITY'"
      ]
     },
     "execution_count": 7,
     "metadata": {},
     "output_type": "execute_result"
    }
   ],
   "source": [
    "decryptedstring=\"\"\n",
    "\n",
    "for currentcharacter in encryptedstring:\n",
    "        position = alphabet.find(currentcharacter)\n",
    "        newposition = position - shiftamount\n",
    "        decryptedstring = decryptedstring + alphabet[newposition]\n",
    "        \n",
    "decryptedstring"
   ]
  },
  {
   "cell_type": "code",
   "execution_count": null,
   "metadata": {},
   "outputs": [],
   "source": []
  }
 ],
 "metadata": {
  "kernelspec": {
   "display_name": "Python 3",
   "language": "python",
   "name": "python3"
  },
  "language_info": {
   "codemirror_mode": {
    "name": "ipython",
    "version": 3
   },
   "file_extension": ".py",
   "mimetype": "text/x-python",
   "name": "python",
   "nbconvert_exporter": "python",
   "pygments_lexer": "ipython3",
   "version": "3.6.8"
  }
 },
 "nbformat": 4,
 "nbformat_minor": 2
}
