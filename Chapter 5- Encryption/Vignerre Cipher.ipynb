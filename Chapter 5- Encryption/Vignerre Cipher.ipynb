{
 "cells": [
  {
   "cell_type": "markdown",
   "metadata": {},
   "source": [
    "# Vignerre Cipher\n"
   ]
  },
  {
   "cell_type": "code",
   "execution_count": 1,
   "metadata": {},
   "outputs": [
    {
     "name": "stdout",
     "output_type": "stream",
     "text": [
      "Please enter message JEOPARDY\n"
     ]
    }
   ],
   "source": [
    "alphabet=\"ABCDEFGHIJKLMNOPQRSTUVWXYZABCDEFGHIJKLMNOPQRSTUVWXYZ\"\n",
    "stringtoencrypt= input(\"Please enter message \")\n",
    "stringtoencrypt=stringtoencrypt.upper()"
   ]
  },
  {
   "cell_type": "code",
   "execution_count": 2,
   "metadata": {},
   "outputs": [
    {
     "name": "stdout",
     "output_type": "stream",
     "text": [
      "Please enter number TOM\n"
     ]
    }
   ],
   "source": [
    "keyword= input(\"Please enter number \")\n",
    "keyword=keyword.upper()\n"
   ]
  },
  {
   "cell_type": "code",
   "execution_count": 3,
   "metadata": {},
   "outputs": [
    {
     "data": {
      "text/plain": [
       "0"
      ]
     },
     "execution_count": 3,
     "metadata": {},
     "output_type": "execute_result"
    }
   ],
   "source": [
    "int(len(keyword))\n",
    "0%int(len(keyword))"
   ]
  },
  {
   "cell_type": "code",
   "execution_count": 4,
   "metadata": {},
   "outputs": [
    {
     "name": "stdout",
     "output_type": "stream",
     "text": [
      "---- ENCRYPTING Letter 0\n",
      "Original: J\n",
      "Keyword:  T\n",
      "Enrypted: C\n",
      "---- ENCRYPTING Letter 1\n",
      "Original: JE\n",
      "Keyword:  TO\n",
      "Enrypted: CS\n",
      "---- ENCRYPTING Letter 2\n",
      "Original: JEO\n",
      "Keyword:  TOM\n",
      "Enrypted: CSA\n",
      "---- ENCRYPTING Letter 3\n",
      "Original: JEOP\n",
      "Keyword:  TOMT\n",
      "Enrypted: CSAI\n",
      "---- ENCRYPTING Letter 4\n",
      "Original: JEOPA\n",
      "Keyword:  TOMTO\n",
      "Enrypted: CSAIO\n",
      "---- ENCRYPTING Letter 5\n",
      "Original: JEOPAR\n",
      "Keyword:  TOMTOM\n",
      "Enrypted: CSAIOD\n",
      "---- ENCRYPTING Letter 6\n",
      "Original: JEOPARD\n",
      "Keyword:  TOMTOMT\n",
      "Enrypted: CSAIODW\n",
      "---- ENCRYPTING Letter 7\n",
      "Original: JEOPARDY\n",
      "Keyword:  TOMTOMTO\n",
      "Enrypted: CSAIODWM\n"
     ]
    },
    {
     "data": {
      "text/plain": [
       "'CSAIODWM'"
      ]
     },
     "execution_count": 4,
     "metadata": {},
     "output_type": "execute_result"
    }
   ],
   "source": [
    "encryptedstring=''\n",
    "keywordstring=''\n",
    "count=0\n",
    "for currentcharacter in stringtoencrypt:\n",
    "        print('---- ENCRYPTING Letter', count)\n",
    "        position = alphabet.find(currentcharacter)\n",
    "        shiftamount = alphabet.find(keyword[count%int(len(keyword))])\n",
    "        newposition = position + shiftamount\n",
    "        keywordstring = keywordstring + keyword[count%int(len(keyword))]\n",
    "        encryptedstring = encryptedstring + alphabet[newposition]\n",
    "        print('Original:', stringtoencrypt[0:count+1])\n",
    "        print('Keyword: ',keywordstring)\n",
    "        print('Enrypted:',encryptedstring)\n",
    "        count=count+1\n",
    "\n",
    "encryptedstring"
   ]
  },
  {
   "cell_type": "code",
   "execution_count": 5,
   "metadata": {},
   "outputs": [
    {
     "name": "stdout",
     "output_type": "stream",
     "text": [
      "---- DECRYPTING Letter 0\n",
      "Original: C\n",
      "Keyword:  T\n",
      "Enrypted: J\n",
      "---- DECRYPTING Letter 1\n",
      "Original: CS\n",
      "Keyword:  TO\n",
      "Enrypted: JE\n",
      "---- DECRYPTING Letter 2\n",
      "Original: CSA\n",
      "Keyword:  TOM\n",
      "Enrypted: JEO\n",
      "---- DECRYPTING Letter 3\n",
      "Original: CSAI\n",
      "Keyword:  TOMT\n",
      "Enrypted: JEOP\n",
      "---- DECRYPTING Letter 4\n",
      "Original: CSAIO\n",
      "Keyword:  TOMTO\n",
      "Enrypted: JEOPA\n",
      "---- DECRYPTING Letter 5\n",
      "Original: CSAIOD\n",
      "Keyword:  TOMTOM\n",
      "Enrypted: JEOPAR\n",
      "---- DECRYPTING Letter 6\n",
      "Original: CSAIODW\n",
      "Keyword:  TOMTOMT\n",
      "Enrypted: JEOPARD\n",
      "---- DECRYPTING Letter 7\n",
      "Original: CSAIODWM\n",
      "Keyword:  TOMTOMTO\n",
      "Enrypted: JEOPARDY\n"
     ]
    },
    {
     "data": {
      "text/plain": [
       "'JEOPARDY'"
      ]
     },
     "execution_count": 5,
     "metadata": {},
     "output_type": "execute_result"
    }
   ],
   "source": [
    "decryptedstring=\"\"\n",
    "keywordstring=''\n",
    "count=0\n",
    "for currentcharacter in encryptedstring:\n",
    "        print('---- DECRYPTING Letter', count)\n",
    "        \n",
    "        position = alphabet.find(currentcharacter)\n",
    "        \n",
    "        shiftamount = alphabet.find(keyword[count%int(len(keyword))])\n",
    "        newposition = position - shiftamount\n",
    "        keywordstring = keywordstring + keyword[count%int(len(keyword))]\n",
    "        \n",
    "        decryptedstring = decryptedstring + alphabet[newposition]\n",
    "        print('Original:', encryptedstring[0:count+1])\n",
    "        print('Keyword: ',keywordstring)\n",
    "        print('Enrypted:',decryptedstring)\n",
    "        count=count+1\n",
    "        \n",
    "        \n",
    "decryptedstring"
   ]
  },
  {
   "cell_type": "code",
   "execution_count": null,
   "metadata": {},
   "outputs": [],
   "source": []
  },
  {
   "cell_type": "code",
   "execution_count": null,
   "metadata": {},
   "outputs": [],
   "source": []
  }
 ],
 "metadata": {
  "kernelspec": {
   "display_name": "Python 3",
   "language": "python",
   "name": "python3"
  },
  "language_info": {
   "codemirror_mode": {
    "name": "ipython",
    "version": 3
   },
   "file_extension": ".py",
   "mimetype": "text/x-python",
   "name": "python",
   "nbconvert_exporter": "python",
   "pygments_lexer": "ipython3",
   "version": "3.6.8"
  }
 },
 "nbformat": 4,
 "nbformat_minor": 2
}
