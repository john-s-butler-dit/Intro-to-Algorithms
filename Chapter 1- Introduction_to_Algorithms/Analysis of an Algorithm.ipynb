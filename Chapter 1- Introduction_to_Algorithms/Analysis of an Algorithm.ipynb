{
  "nbformat": 4,
  "nbformat_minor": 0,
  "metadata": {
    "kernelspec": {
      "display_name": "Python 3",
      "language": "python",
      "name": "python3"
    },
    "language_info": {
      "codemirror_mode": {
        "name": "ipython",
        "version": 3
      },
      "file_extension": ".py",
      "mimetype": "text/x-python",
      "name": "python",
      "nbconvert_exporter": "python",
      "pygments_lexer": "ipython3",
      "version": "3.7.9"
    },
    "colab": {
      "name": "Analysis of an Algorithm.ipynb",
      "provenance": [],
      "include_colab_link": true
    }
  },
  "cells": [
    {
      "cell_type": "markdown",
      "metadata": {
        "id": "view-in-github",
        "colab_type": "text"
      },
      "source": [
        "<a href=\"https://colab.research.google.com/github/john-s-butler-dit/Intro-to-Algorithms/blob/master/Chapter%201-%20Introduction_to_Algorithms/Analysis%20of%20an%20Algorithm.ipynb\" target=\"_parent\"><img src=\"https://colab.research.google.com/assets/colab-badge.svg\" alt=\"Open In Colab\"/></a>"
      ]
    },
    {
      "cell_type": "markdown",
      "metadata": {
        "id": "rEttzNZaf_D4"
      },
      "source": [
        "# Analysis of an Algorithm\n",
        "## Cost Function\n",
        "The cost function $C(n)$ is how many operations it takes an algorithm to perform a task of length $n$.\n",
        "\n",
        "For example, to sort a list of $n$ numbers using the selection sort algorithm costs \n",
        "$$T(n)=\\frac{n(n-1)}{2}.$$\n",
        "\n",
        "For example, to find a number in a list of sorted numbers of lenght $n$ using the binary search algorithm costs  \n",
        "$$T(n)=\\log_2(n).$$"
      ]
    },
    {
      "cell_type": "code",
      "metadata": {
        "id": "mNCoXxRAf_D5"
      },
      "source": [
        "import numpy as np\n",
        "import math \n",
        "\n",
        "%matplotlib inline\n",
        "import matplotlib.pyplot as plt # side-stepping mpl backend\n",
        "import matplotlib.gridspec as gridspec # subplots\n",
        "import warnings\n",
        "import pandas as pd\n",
        "warnings.filterwarnings(\"ignore\")"
      ],
      "execution_count": 1,
      "outputs": []
    },
    {
      "cell_type": "markdown",
      "metadata": {
        "id": "QR-ou5PCf_D-"
      },
      "source": [
        "## Linear Algorithm\n",
        "A linear Algorithm is one that the cost function is linear\n",
        "$$T(n)=an+b, $$\n",
        "where $a$ and $b$ are real numbers.\n"
      ]
    },
    {
      "cell_type": "code",
      "metadata": {
        "id": "mgO1cbU-f_D_"
      },
      "source": [
        "## FUNCTION TO PLOT COST OF ALGORITHM AS A FUNCTION OF N\n",
        "def Analysis_of_Algorithm(n,T):\n",
        "    fig = plt.figure(figsize=(12,3))\n",
        "    ax=fig.add_subplot(1,2,1) # PLOT OF T(N) AS A FUNCTION OF N\n",
        "    plt.plot(n,T,'o:',color='red')\n",
        "    plt.title('Cost as a function of n')\n",
        "    plt.xlabel('n')\n",
        "    plt.ylabel('T(n)')\n",
        "    \n",
        "    # LOG TRANSFORM OF n AND T\n",
        "    log_n=np.log2(n)\n",
        "    log_T=np.log2(T)\n",
        "    ax=fig.add_subplot(1,2,2) # PLOT OF LOG TRANSFORM DATA\n",
        "    plt.plot(log_n,log_T,'o:',color='blue')  # PLOT OF log(T(N)) AS A FUNCTION OF log(N)\n",
        "    plt.title('Log Transformed')\n",
        "    plt.xlabel(r'$\\log_2(n)$')\n",
        "    plt.ylabel(r'$\\log_2(T(n))$')\n",
        "\n",
        "    plt.plot();"
      ],
      "execution_count": 2,
      "outputs": []
    },
    {
      "cell_type": "code",
      "metadata": {
        "id": "YTfxZXyHf_EC"
      },
      "source": [
        "## FUNCTION OUTPUT A TABLE COST OF ALGORITHM AS A FUNCTION OF N\n",
        "def Analysis_of_Algorithm_Table(n,T):\n",
        "    slope=(np.diff(T)/np.diff(n))\n",
        "    log_n=np.log2(n)\n",
        "    log_T=np.log2(T)\n",
        "    log_slope=(np.diff(log_T)/np.diff(log_n))\n",
        "\n",
        " #   table.append(['n', 'T(n)',r'$\\log_2(n)$',r'$\\log_2(T(n))$'])\n",
        " #   for i in range(len(n)):\n",
        " #       table.append([round(n[i],5), round(T[i],5), round(log_n[i],7),round(log_T[i],7)])\n",
        " #   print(np.diff(log_T)/np.diff(log_n))\n",
        "    \n",
        "    d = {'n ': np.round(n,5),    'T(n) ':np.round(T,5),'log2(n)':np.round(log_n,7),'log2(T(n))':np.round(log_T,7)}\n",
        "    df = pd.DataFrame(data=d)\n",
        "    d = {'Slope ': slope,    'log(Slope) ':log_slope}\n",
        "    df_slope = pd.DataFrame(data=d)\n",
        "    df_slope\n",
        "    return df, df_slope"
      ],
      "execution_count": 3,
      "outputs": []
    },
    {
      "cell_type": "markdown",
      "metadata": {
        "id": "F4csrnJUf_EF"
      },
      "source": [
        "### Example Linear Algorithm\n",
        "The figure below show a plot of linear algorithm,\n",
        "$$ T(n)=4n+10,$$\n",
        "on the left."
      ]
    },
    {
      "cell_type": "code",
      "metadata": {
        "id": "IPRg3mT1f_EF",
        "outputId": "aef90c96-bac3-4d8a-f4cc-8e1eaddc2aaf",
        "colab": {
          "base_uri": "https://localhost:8080/",
          "height": 262
        }
      },
      "source": [
        "n=2**np.arange(4,11,2)\n",
        "T=4*n+10\n",
        "print('The plots below shows the Cost as a function of n (left) and the log transformed (right).')\n",
        "Analysis_of_Algorithm(n,T)"
      ],
      "execution_count": 4,
      "outputs": [
        {
          "output_type": "stream",
          "text": [
            "The plots below shows the Cost as a function of n (left) and the log transformed (right).\n"
          ],
          "name": "stdout"
        },
        {
          "output_type": "display_data",
          "data": {
            "image/png": "[encoded data removed]",
            "text/plain": [
              "<Figure size 864x216 with 2 Axes>"
            ]
          },
          "metadata": {
            "tags": [],
            "needs_background": "light"
          }
        }
      ]
    },
    {
      "cell_type": "code",
      "metadata": {
        "id": "Mm4KM2XDf_EI",
        "outputId": "75f669b0-45fc-49fb-f6e9-e1dd283d0ece",
        "colab": {
          "base_uri": "https://localhost:8080/",
          "height": 173
        }
      },
      "source": [
        "df,df_slope=Analysis_of_Algorithm_Table(n,T)\n",
        "\n",
        "df.to_csv('Linear.csv')\n",
        "df"
      ],
      "execution_count": 5,
      "outputs": [
        {
          "output_type": "execute_result",
          "data": {
            "text/html": [
              "<div>\n",
              "<style scoped>\n",
              "    .dataframe tbody tr th:only-of-type {\n",
              "        vertical-align: middle;\n",
              "    }\n",
              "\n",
              "    .dataframe tbody tr th {\n",
              "        vertical-align: top;\n",
              "    }\n",
              "\n",
              "    .dataframe thead th {\n",
              "        text-align: right;\n",
              "    }\n",
              "</style>\n",
              "<table border=\"1\" class=\"dataframe\">\n",
              "  <thead>\n",
              "    <tr style=\"text-align: right;\">\n",
              "      <th></th>\n",
              "      <th>n</th>\n",
              "      <th>T(n)</th>\n",
              "      <th>log2(n)</th>\n",
              "      <th>log2(T(n))</th>\n",
              "    </tr>\n",
              "  </thead>\n",
              "  <tbody>\n",
              "    <tr>\n",
              "      <th>0</th>\n",
              "      <td>16</td>\n",
              "      <td>74</td>\n",
              "      <td>4.0</td>\n",
              "      <td>6.209453</td>\n",
              "    </tr>\n",
              "    <tr>\n",
              "      <th>1</th>\n",
              "      <td>64</td>\n",
              "      <td>266</td>\n",
              "      <td>6.0</td>\n",
              "      <td>8.055282</td>\n",
              "    </tr>\n",
              "    <tr>\n",
              "      <th>2</th>\n",
              "      <td>256</td>\n",
              "      <td>1034</td>\n",
              "      <td>8.0</td>\n",
              "      <td>10.014021</td>\n",
              "    </tr>\n",
              "    <tr>\n",
              "      <th>3</th>\n",
              "      <td>1024</td>\n",
              "      <td>4106</td>\n",
              "      <td>10.0</td>\n",
              "      <td>12.003518</td>\n",
              "    </tr>\n",
              "  </tbody>\n",
              "</table>\n",
              "</div>"
            ],
            "text/plain": [
              "     n   T(n)   log2(n)  log2(T(n))\n",
              "0    16     74      4.0    6.209453\n",
              "1    64    266      6.0    8.055282\n",
              "2   256   1034      8.0   10.014021\n",
              "3  1024   4106     10.0   12.003518"
            ]
          },
          "metadata": {
            "tags": []
          },
          "execution_count": 5
        }
      ]
    },
    {
      "cell_type": "code",
      "metadata": {
        "id": "8sVKStn0f_EK",
        "outputId": "3e59cfbd-a48d-4b2e-d62d-d901cdabca4f",
        "colab": {
          "base_uri": "https://localhost:8080/",
          "height": 142
        }
      },
      "source": [
        "df_slope.to_csv('Linear_slope.csv')\n",
        "df_slope"
      ],
      "execution_count": 6,
      "outputs": [
        {
          "output_type": "execute_result",
          "data": {
            "text/html": [
              "<div>\n",
              "<style scoped>\n",
              "    .dataframe tbody tr th:only-of-type {\n",
              "        vertical-align: middle;\n",
              "    }\n",
              "\n",
              "    .dataframe tbody tr th {\n",
              "        vertical-align: top;\n",
              "    }\n",
              "\n",
              "    .dataframe thead th {\n",
              "        text-align: right;\n",
              "    }\n",
              "</style>\n",
              "<table border=\"1\" class=\"dataframe\">\n",
              "  <thead>\n",
              "    <tr style=\"text-align: right;\">\n",
              "      <th></th>\n",
              "      <th>Slope</th>\n",
              "      <th>log(Slope)</th>\n",
              "    </tr>\n",
              "  </thead>\n",
              "  <tbody>\n",
              "    <tr>\n",
              "      <th>0</th>\n",
              "      <td>4.0</td>\n",
              "      <td>0.922915</td>\n",
              "    </tr>\n",
              "    <tr>\n",
              "      <th>1</th>\n",
              "      <td>4.0</td>\n",
              "      <td>0.979369</td>\n",
              "    </tr>\n",
              "    <tr>\n",
              "      <th>2</th>\n",
              "      <td>4.0</td>\n",
              "      <td>0.994749</td>\n",
              "    </tr>\n",
              "  </tbody>\n",
              "</table>\n",
              "</div>"
            ],
            "text/plain": [
              "   Slope   log(Slope) \n",
              "0     4.0     0.922915\n",
              "1     4.0     0.979369\n",
              "2     4.0     0.994749"
            ]
          },
          "metadata": {
            "tags": []
          },
          "execution_count": 6
        }
      ]
    },
    {
      "cell_type": "markdown",
      "metadata": {
        "id": "ge9HViFAf_EM"
      },
      "source": [
        "## Quadratic Algorithm\n",
        "A quadratic Algorithm is one that the cost function is of the form:\n",
        "$$T(n)=an^2+bn+c, $$\n",
        "where $a$,  $b$  and $c$ are real numbers.\n",
        "\n",
        "## Example Quadratic Algorithm\n"
      ]
    },
    {
      "cell_type": "code",
      "metadata": {
        "id": "S-OFS4yIf_EN",
        "outputId": "3b997d8b-2b63-4f3d-f48c-ef84d8861b13",
        "colab": {
          "base_uri": "https://localhost:8080/",
          "height": 245
        }
      },
      "source": [
        "n=2**np.arange(10,18,2)\n",
        "T=2*n**2++200*n+100\n",
        "Analysis_of_Algorithm(n,T)"
      ],
      "execution_count": 7,
      "outputs": [
        {
          "output_type": "display_data",
          "data": {
            "image/png": "[encoded data removed]",
            "text/plain": [
              "<Figure size 864x216 with 2 Axes>"
            ]
          },
          "metadata": {
            "tags": [],
            "needs_background": "light"
          }
        }
      ]
    },
    {
      "cell_type": "code",
      "metadata": {
        "id": "fP4EWwVrf_EP",
        "outputId": "27c8c5c2-8ff7-4568-e961-6c71db8354c8",
        "colab": {
          "base_uri": "https://localhost:8080/",
          "height": 173
        }
      },
      "source": [
        "df, df_slope=Analysis_of_Algorithm_Table(n,T)\n",
        "\n",
        "df.to_csv('Quad.csv')\n",
        "df"
      ],
      "execution_count": 8,
      "outputs": [
        {
          "output_type": "execute_result",
          "data": {
            "text/html": [
              "<div>\n",
              "<style scoped>\n",
              "    .dataframe tbody tr th:only-of-type {\n",
              "        vertical-align: middle;\n",
              "    }\n",
              "\n",
              "    .dataframe tbody tr th {\n",
              "        vertical-align: top;\n",
              "    }\n",
              "\n",
              "    .dataframe thead th {\n",
              "        text-align: right;\n",
              "    }\n",
              "</style>\n",
              "<table border=\"1\" class=\"dataframe\">\n",
              "  <thead>\n",
              "    <tr style=\"text-align: right;\">\n",
              "      <th></th>\n",
              "      <th>n</th>\n",
              "      <th>T(n)</th>\n",
              "      <th>log2(n)</th>\n",
              "      <th>log2(T(n))</th>\n",
              "    </tr>\n",
              "  </thead>\n",
              "  <tbody>\n",
              "    <tr>\n",
              "      <th>0</th>\n",
              "      <td>1024</td>\n",
              "      <td>2302052</td>\n",
              "      <td>10.0</td>\n",
              "      <td>21.134489</td>\n",
              "    </tr>\n",
              "    <tr>\n",
              "      <th>1</th>\n",
              "      <td>4096</td>\n",
              "      <td>34373732</td>\n",
              "      <td>12.0</td>\n",
              "      <td>25.034803</td>\n",
              "    </tr>\n",
              "    <tr>\n",
              "      <th>2</th>\n",
              "      <td>16384</td>\n",
              "      <td>540147812</td>\n",
              "      <td>14.0</td>\n",
              "      <td>29.008779</td>\n",
              "    </tr>\n",
              "    <tr>\n",
              "      <th>3</th>\n",
              "      <td>65536</td>\n",
              "      <td>8603041892</td>\n",
              "      <td>16.0</td>\n",
              "      <td>33.002200</td>\n",
              "    </tr>\n",
              "  </tbody>\n",
              "</table>\n",
              "</div>"
            ],
            "text/plain": [
              "      n        T(n)   log2(n)  log2(T(n))\n",
              "0   1024     2302052     10.0   21.134489\n",
              "1   4096    34373732     12.0   25.034803\n",
              "2  16384   540147812     14.0   29.008779\n",
              "3  65536  8603041892     16.0   33.002200"
            ]
          },
          "metadata": {
            "tags": []
          },
          "execution_count": 8
        }
      ]
    },
    {
      "cell_type": "code",
      "metadata": {
        "id": "Zgdc9eoTf_ES",
        "outputId": "34e2baa2-c459-4557-d3f9-c6ff52b43b78",
        "colab": {
          "base_uri": "https://localhost:8080/",
          "height": 142
        }
      },
      "source": [
        "df_slope.to_csv('Quad_slope.csv')\n",
        "df_slope"
      ],
      "execution_count": 9,
      "outputs": [
        {
          "output_type": "execute_result",
          "data": {
            "text/html": [
              "<div>\n",
              "<style scoped>\n",
              "    .dataframe tbody tr th:only-of-type {\n",
              "        vertical-align: middle;\n",
              "    }\n",
              "\n",
              "    .dataframe tbody tr th {\n",
              "        vertical-align: top;\n",
              "    }\n",
              "\n",
              "    .dataframe thead th {\n",
              "        text-align: right;\n",
              "    }\n",
              "</style>\n",
              "<table border=\"1\" class=\"dataframe\">\n",
              "  <thead>\n",
              "    <tr style=\"text-align: right;\">\n",
              "      <th></th>\n",
              "      <th>Slope</th>\n",
              "      <th>log(Slope)</th>\n",
              "    </tr>\n",
              "  </thead>\n",
              "  <tbody>\n",
              "    <tr>\n",
              "      <th>0</th>\n",
              "      <td>10440.0</td>\n",
              "      <td>1.950157</td>\n",
              "    </tr>\n",
              "    <tr>\n",
              "      <th>1</th>\n",
              "      <td>41160.0</td>\n",
              "      <td>1.986988</td>\n",
              "    </tr>\n",
              "    <tr>\n",
              "      <th>2</th>\n",
              "      <td>164040.0</td>\n",
              "      <td>1.996710</td>\n",
              "    </tr>\n",
              "  </tbody>\n",
              "</table>\n",
              "</div>"
            ],
            "text/plain": [
              "     Slope   log(Slope) \n",
              "0   10440.0     1.950157\n",
              "1   41160.0     1.986988\n",
              "2  164040.0     1.996710"
            ]
          },
          "metadata": {
            "tags": []
          },
          "execution_count": 9
        }
      ]
    },
    {
      "cell_type": "markdown",
      "metadata": {
        "id": "nxgiuj9-f_ET"
      },
      "source": [
        "## Cubic Algorithm\n",
        "A quadratic Algorithm is one that the cost function is of the form:\n",
        "$$T(n)=an^3+bn^2+cn+d, $$\n",
        "where $a$,  $b$, $c$  and $d$ are real numbers.\n",
        "\n",
        "## Example Cubic Algorithm"
      ]
    },
    {
      "cell_type": "code",
      "metadata": {
        "id": "LstLM0f-f_EU",
        "outputId": "8f16472e-ecaf-48b1-cfc3-9d90a5cef100",
        "colab": {
          "base_uri": "https://localhost:8080/",
          "height": 245
        }
      },
      "source": [
        "T=0.1*n**3+n**2-n+1000\n",
        "Analysis_of_Algorithm(n,T)"
      ],
      "execution_count": 10,
      "outputs": [
        {
          "output_type": "display_data",
          "data": {
            "image/png": "[encoded data removed]",
            "text/plain": [
              "<Figure size 864x216 with 2 Axes>"
            ]
          },
          "metadata": {
            "tags": [],
            "needs_background": "light"
          }
        }
      ]
    },
    {
      "cell_type": "code",
      "metadata": {
        "id": "idUmpDgff_EV",
        "outputId": "5d40ae35-e232-4d0e-f6ea-809ec5540847",
        "colab": {
          "base_uri": "https://localhost:8080/",
          "height": 173
        }
      },
      "source": [
        "df, df_slope=Analysis_of_Algorithm_Table(n,T)\n",
        "df.to_csv('Cubic.csv')\n",
        "df"
      ],
      "execution_count": 11,
      "outputs": [
        {
          "output_type": "execute_result",
          "data": {
            "text/html": [
              "<div>\n",
              "<style scoped>\n",
              "    .dataframe tbody tr th:only-of-type {\n",
              "        vertical-align: middle;\n",
              "    }\n",
              "\n",
              "    .dataframe tbody tr th {\n",
              "        vertical-align: top;\n",
              "    }\n",
              "\n",
              "    .dataframe thead th {\n",
              "        text-align: right;\n",
              "    }\n",
              "</style>\n",
              "<table border=\"1\" class=\"dataframe\">\n",
              "  <thead>\n",
              "    <tr style=\"text-align: right;\">\n",
              "      <th></th>\n",
              "      <th>n</th>\n",
              "      <th>T(n)</th>\n",
              "      <th>log2(n)</th>\n",
              "      <th>log2(T(n))</th>\n",
              "    </tr>\n",
              "  </thead>\n",
              "  <tbody>\n",
              "    <tr>\n",
              "      <th>0</th>\n",
              "      <td>1024</td>\n",
              "      <td>1.084227e+08</td>\n",
              "      <td>10.0</td>\n",
              "      <td>26.692092</td>\n",
              "    </tr>\n",
              "    <tr>\n",
              "      <th>1</th>\n",
              "      <td>4096</td>\n",
              "      <td>6.888722e+09</td>\n",
              "      <td>12.0</td>\n",
              "      <td>32.681589</td>\n",
              "    </tr>\n",
              "    <tr>\n",
              "      <th>2</th>\n",
              "      <td>16384</td>\n",
              "      <td>4.400731e+11</td>\n",
              "      <td>14.0</td>\n",
              "      <td>38.678952</td>\n",
              "    </tr>\n",
              "    <tr>\n",
              "      <th>3</th>\n",
              "      <td>65536</td>\n",
              "      <td>2.815179e+13</td>\n",
              "      <td>16.0</td>\n",
              "      <td>44.678292</td>\n",
              "    </tr>\n",
              "  </tbody>\n",
              "</table>\n",
              "</div>"
            ],
            "text/plain": [
              "      n          T(n)   log2(n)  log2(T(n))\n",
              "0   1024  1.084227e+08     10.0   26.692092\n",
              "1   4096  6.888722e+09     12.0   32.681589\n",
              "2  16384  4.400731e+11     14.0   38.678952\n",
              "3  65536  2.815179e+13     16.0   44.678292"
            ]
          },
          "metadata": {
            "tags": []
          },
          "execution_count": 11
        }
      ]
    },
    {
      "cell_type": "code",
      "metadata": {
        "id": "dDZwZo18f_EX",
        "outputId": "7b3f9501-7260-4a8f-d7c5-e27a459a1271",
        "colab": {
          "base_uri": "https://localhost:8080/",
          "height": 142
        }
      },
      "source": [
        "df_slope.to_csv('Cubic_slope.csv')\n",
        "df_slope"
      ],
      "execution_count": 12,
      "outputs": [
        {
          "output_type": "execute_result",
          "data": {
            "text/html": [
              "<div>\n",
              "<style scoped>\n",
              "    .dataframe tbody tr th:only-of-type {\n",
              "        vertical-align: middle;\n",
              "    }\n",
              "\n",
              "    .dataframe tbody tr th {\n",
              "        vertical-align: top;\n",
              "    }\n",
              "\n",
              "    .dataframe thead th {\n",
              "        text-align: right;\n",
              "    }\n",
              "</style>\n",
              "<table border=\"1\" class=\"dataframe\">\n",
              "  <thead>\n",
              "    <tr style=\"text-align: right;\">\n",
              "      <th></th>\n",
              "      <th>Slope</th>\n",
              "      <th>log(Slope)</th>\n",
              "    </tr>\n",
              "  </thead>\n",
              "  <tbody>\n",
              "    <tr>\n",
              "      <th>0</th>\n",
              "      <td>2207128.6</td>\n",
              "      <td>2.994749</td>\n",
              "    </tr>\n",
              "    <tr>\n",
              "      <th>1</th>\n",
              "      <td>35252632.6</td>\n",
              "      <td>2.998681</td>\n",
              "    </tr>\n",
              "    <tr>\n",
              "      <th>2</th>\n",
              "      <td>563796376.6</td>\n",
              "      <td>2.999670</td>\n",
              "    </tr>\n",
              "  </tbody>\n",
              "</table>\n",
              "</div>"
            ],
            "text/plain": [
              "        Slope   log(Slope) \n",
              "0    2207128.6     2.994749\n",
              "1   35252632.6     2.998681\n",
              "2  563796376.6     2.999670"
            ]
          },
          "metadata": {
            "tags": []
          },
          "execution_count": 12
        }
      ]
    },
    {
      "cell_type": "markdown",
      "metadata": {
        "id": "blj-6PO2f_EZ"
      },
      "source": [
        "## Different Powers Algorithm\n",
        "A different power Algorithm is one that the cost function is of the form:\n",
        "$$T(n)=an^{0.5}+b, $$\n",
        "where $a$ and $b$ are real numbers.\n",
        "\n"
      ]
    },
    {
      "cell_type": "code",
      "metadata": {
        "id": "-1FTwZRmf_EZ",
        "outputId": "a6954c48-e90e-4ea4-c896-f8400f34feaf"
      },
      "source": [
        "T=2*n**0.5+12\n",
        "Analysis_of_Algorithm(n,T)"
      ],
      "execution_count": null,
      "outputs": [
        {
          "output_type": "display_data",
          "data": {
            "image/png": "[encoded data removed]",
            "text/plain": [
              "<Figure size 864x216 with 2 Axes>"
            ]
          },
          "metadata": {
            "tags": [],
            "needs_background": "light"
          }
        }
      ]
    },
    {
      "cell_type": "code",
      "metadata": {
        "id": "mRJc8aFrf_Eb",
        "outputId": "3e3ee287-5dfe-4899-d28c-385f84c25ec9"
      },
      "source": [
        "df, df_slope=Analysis_of_Algorithm_Table(n,T)\n",
        "df"
      ],
      "execution_count": null,
      "outputs": [
        {
          "output_type": "execute_result",
          "data": {
            "text/html": [
              "<div>\n",
              "<style scoped>\n",
              "    .dataframe tbody tr th:only-of-type {\n",
              "        vertical-align: middle;\n",
              "    }\n",
              "\n",
              "    .dataframe tbody tr th {\n",
              "        vertical-align: top;\n",
              "    }\n",
              "\n",
              "    .dataframe thead th {\n",
              "        text-align: right;\n",
              "    }\n",
              "</style>\n",
              "<table border=\"1\" class=\"dataframe\">\n",
              "  <thead>\n",
              "    <tr style=\"text-align: right;\">\n",
              "      <th></th>\n",
              "      <th>n</th>\n",
              "      <th>T(n)</th>\n",
              "      <th>log2(n)</th>\n",
              "      <th>log2(T(n))</th>\n",
              "    </tr>\n",
              "  </thead>\n",
              "  <tbody>\n",
              "    <tr>\n",
              "      <th>0</th>\n",
              "      <td>1024</td>\n",
              "      <td>76.0</td>\n",
              "      <td>10.0</td>\n",
              "      <td>6.247928</td>\n",
              "    </tr>\n",
              "    <tr>\n",
              "      <th>1</th>\n",
              "      <td>4096</td>\n",
              "      <td>140.0</td>\n",
              "      <td>12.0</td>\n",
              "      <td>7.129283</td>\n",
              "    </tr>\n",
              "    <tr>\n",
              "      <th>2</th>\n",
              "      <td>16384</td>\n",
              "      <td>268.0</td>\n",
              "      <td>14.0</td>\n",
              "      <td>8.066089</td>\n",
              "    </tr>\n",
              "    <tr>\n",
              "      <th>3</th>\n",
              "      <td>65536</td>\n",
              "      <td>524.0</td>\n",
              "      <td>16.0</td>\n",
              "      <td>9.033423</td>\n",
              "    </tr>\n",
              "  </tbody>\n",
              "</table>\n",
              "</div>"
            ],
            "text/plain": [
              "      n   T(n)   log2(n)  log2(T(n))\n",
              "0   1024   76.0     10.0    6.247928\n",
              "1   4096  140.0     12.0    7.129283\n",
              "2  16384  268.0     14.0    8.066089\n",
              "3  65536  524.0     16.0    9.033423"
            ]
          },
          "metadata": {
            "tags": []
          },
          "execution_count": 14
        }
      ]
    },
    {
      "cell_type": "code",
      "metadata": {
        "id": "Gq3Bv2idf_Ec",
        "outputId": "ed17193b-cfff-4ae6-d12e-b85b28e1da77"
      },
      "source": [
        "df_slope"
      ],
      "execution_count": null,
      "outputs": [
        {
          "output_type": "execute_result",
          "data": {
            "text/html": [
              "<div>\n",
              "<style scoped>\n",
              "    .dataframe tbody tr th:only-of-type {\n",
              "        vertical-align: middle;\n",
              "    }\n",
              "\n",
              "    .dataframe tbody tr th {\n",
              "        vertical-align: top;\n",
              "    }\n",
              "\n",
              "    .dataframe thead th {\n",
              "        text-align: right;\n",
              "    }\n",
              "</style>\n",
              "<table border=\"1\" class=\"dataframe\">\n",
              "  <thead>\n",
              "    <tr style=\"text-align: right;\">\n",
              "      <th></th>\n",
              "      <th>Slope</th>\n",
              "      <th>log(Slope)</th>\n",
              "    </tr>\n",
              "  </thead>\n",
              "  <tbody>\n",
              "    <tr>\n",
              "      <th>0</th>\n",
              "      <td>0.020833</td>\n",
              "      <td>0.440678</td>\n",
              "    </tr>\n",
              "    <tr>\n",
              "      <th>1</th>\n",
              "      <td>0.010417</td>\n",
              "      <td>0.468403</td>\n",
              "    </tr>\n",
              "    <tr>\n",
              "      <th>2</th>\n",
              "      <td>0.005208</td>\n",
              "      <td>0.483667</td>\n",
              "    </tr>\n",
              "  </tbody>\n",
              "</table>\n",
              "</div>"
            ],
            "text/plain": [
              "     Slope   log(Slope) \n",
              "0  0.020833     0.440678\n",
              "1  0.010417     0.468403\n",
              "2  0.005208     0.483667"
            ]
          },
          "metadata": {
            "tags": []
          },
          "execution_count": 15
        }
      ]
    },
    {
      "cell_type": "markdown",
      "metadata": {
        "id": "SwJ5P8A9f_Ed"
      },
      "source": [
        "## It does not work so well for Log Algorithms\n",
        "A log Algorithm is one that the cost function is of the form:\n",
        "$$T(n)=an^0.5+b, $$\n",
        "where $a$ and $b$ are real numbers.\n",
        "\n",
        "\n"
      ]
    },
    {
      "cell_type": "code",
      "metadata": {
        "id": "sJseFvV3f_Ee",
        "outputId": "9d6d5584-dc75-4fa5-d9f8-a585ca45345e"
      },
      "source": [
        "T=np.log(n)+1\n",
        "Analysis_of_Algorithm(n,T)"
      ],
      "execution_count": null,
      "outputs": [
        {
          "output_type": "display_data",
          "data": {
            "image/png": "[encoded data removed]",
            "text/plain": [
              "<Figure size 864x216 with 2 Axes>"
            ]
          },
          "metadata": {
            "tags": [],
            "needs_background": "light"
          }
        }
      ]
    },
    {
      "cell_type": "code",
      "metadata": {
        "id": "C14HkJCif_Ef",
        "outputId": "398acf71-e66e-4991-a9fc-eefbb47f3bac"
      },
      "source": [
        "df, df_slope=Analysis_of_Algorithm_Table(n,T)\n",
        "df"
      ],
      "execution_count": null,
      "outputs": [
        {
          "output_type": "execute_result",
          "data": {
            "text/html": [
              "<div>\n",
              "<style scoped>\n",
              "    .dataframe tbody tr th:only-of-type {\n",
              "        vertical-align: middle;\n",
              "    }\n",
              "\n",
              "    .dataframe tbody tr th {\n",
              "        vertical-align: top;\n",
              "    }\n",
              "\n",
              "    .dataframe thead th {\n",
              "        text-align: right;\n",
              "    }\n",
              "</style>\n",
              "<table border=\"1\" class=\"dataframe\">\n",
              "  <thead>\n",
              "    <tr style=\"text-align: right;\">\n",
              "      <th></th>\n",
              "      <th>n</th>\n",
              "      <th>T(n)</th>\n",
              "      <th>log2(n)</th>\n",
              "      <th>log2(T(n))</th>\n",
              "    </tr>\n",
              "  </thead>\n",
              "  <tbody>\n",
              "    <tr>\n",
              "      <th>0</th>\n",
              "      <td>1024</td>\n",
              "      <td>7.93147</td>\n",
              "      <td>10.0</td>\n",
              "      <td>2.987589</td>\n",
              "    </tr>\n",
              "    <tr>\n",
              "      <th>1</th>\n",
              "      <td>4096</td>\n",
              "      <td>9.31777</td>\n",
              "      <td>12.0</td>\n",
              "      <td>3.219984</td>\n",
              "    </tr>\n",
              "    <tr>\n",
              "      <th>2</th>\n",
              "      <td>16384</td>\n",
              "      <td>10.70406</td>\n",
              "      <td>14.0</td>\n",
              "      <td>3.420086</td>\n",
              "    </tr>\n",
              "    <tr>\n",
              "      <th>3</th>\n",
              "      <td>65536</td>\n",
              "      <td>12.09035</td>\n",
              "      <td>16.0</td>\n",
              "      <td>3.595785</td>\n",
              "    </tr>\n",
              "  </tbody>\n",
              "</table>\n",
              "</div>"
            ],
            "text/plain": [
              "      n      T(n)   log2(n)  log2(T(n))\n",
              "0   1024   7.93147     10.0    2.987589\n",
              "1   4096   9.31777     12.0    3.219984\n",
              "2  16384  10.70406     14.0    3.420086\n",
              "3  65536  12.09035     16.0    3.595785"
            ]
          },
          "metadata": {
            "tags": []
          },
          "execution_count": 17
        }
      ]
    },
    {
      "cell_type": "code",
      "metadata": {
        "id": "SPT7BRusf_Eg",
        "outputId": "6adea8b5-a12e-437d-e7a3-9db5370c0c54"
      },
      "source": [
        "df_slope"
      ],
      "execution_count": null,
      "outputs": [
        {
          "output_type": "execute_result",
          "data": {
            "text/html": [
              "<div>\n",
              "<style scoped>\n",
              "    .dataframe tbody tr th:only-of-type {\n",
              "        vertical-align: middle;\n",
              "    }\n",
              "\n",
              "    .dataframe tbody tr th {\n",
              "        vertical-align: top;\n",
              "    }\n",
              "\n",
              "    .dataframe thead th {\n",
              "        text-align: right;\n",
              "    }\n",
              "</style>\n",
              "<table border=\"1\" class=\"dataframe\">\n",
              "  <thead>\n",
              "    <tr style=\"text-align: right;\">\n",
              "      <th></th>\n",
              "      <th>Slope</th>\n",
              "      <th>log(Slope)</th>\n",
              "    </tr>\n",
              "  </thead>\n",
              "  <tbody>\n",
              "    <tr>\n",
              "      <th>0</th>\n",
              "      <td>0.000451</td>\n",
              "      <td>0.116198</td>\n",
              "    </tr>\n",
              "    <tr>\n",
              "      <th>1</th>\n",
              "      <td>0.000113</td>\n",
              "      <td>0.100051</td>\n",
              "    </tr>\n",
              "    <tr>\n",
              "      <th>2</th>\n",
              "      <td>0.000028</td>\n",
              "      <td>0.087849</td>\n",
              "    </tr>\n",
              "  </tbody>\n",
              "</table>\n",
              "</div>"
            ],
            "text/plain": [
              "     Slope   log(Slope) \n",
              "0  0.000451     0.116198\n",
              "1  0.000113     0.100051\n",
              "2  0.000028     0.087849"
            ]
          },
          "metadata": {
            "tags": []
          },
          "execution_count": 18
        }
      ]
    },
    {
      "cell_type": "markdown",
      "metadata": {
        "id": "jtHo1axEgYZH"
      },
      "source": [
        "## Tutorial Sheet 2 \n",
        "## Question 6\n",
        "\n",
        "The order of growth of an algorithm, T (n), was measured experimentally for various values of n and the results are shown below:\n",
        "\n",
        "n operations |\t1\t|2  |\t 3|\t 4|\n",
        "\n",
        "Growth T (n)|\t2|\t3\t|4\t| 5|\n"
      ]
    },
    {
      "cell_type": "code",
      "metadata": {
        "id": "98_IKZvigqlC",
        "outputId": "afab8a3f-f73a-445a-873a-38cdd603c175",
        "colab": {
          "base_uri": "https://localhost:8080/",
          "height": 173
        }
      },
      "source": [
        "n=[1,2,3,4]\n",
        "T=[2,3,4,5]\n",
        "d = {'n ': n,    'Cost (T(n)': T}\n",
        "df = pd.DataFrame(data=d)\n",
        "df"
      ],
      "execution_count": 19,
      "outputs": [
        {
          "output_type": "execute_result",
          "data": {
            "text/html": [
              "<div>\n",
              "<style scoped>\n",
              "    .dataframe tbody tr th:only-of-type {\n",
              "        vertical-align: middle;\n",
              "    }\n",
              "\n",
              "    .dataframe tbody tr th {\n",
              "        vertical-align: top;\n",
              "    }\n",
              "\n",
              "    .dataframe thead th {\n",
              "        text-align: right;\n",
              "    }\n",
              "</style>\n",
              "<table border=\"1\" class=\"dataframe\">\n",
              "  <thead>\n",
              "    <tr style=\"text-align: right;\">\n",
              "      <th></th>\n",
              "      <th>n</th>\n",
              "      <th>Cost (T(n)</th>\n",
              "    </tr>\n",
              "  </thead>\n",
              "  <tbody>\n",
              "    <tr>\n",
              "      <th>0</th>\n",
              "      <td>1</td>\n",
              "      <td>2</td>\n",
              "    </tr>\n",
              "    <tr>\n",
              "      <th>1</th>\n",
              "      <td>2</td>\n",
              "      <td>3</td>\n",
              "    </tr>\n",
              "    <tr>\n",
              "      <th>2</th>\n",
              "      <td>3</td>\n",
              "      <td>4</td>\n",
              "    </tr>\n",
              "    <tr>\n",
              "      <th>3</th>\n",
              "      <td>4</td>\n",
              "      <td>5</td>\n",
              "    </tr>\n",
              "  </tbody>\n",
              "</table>\n",
              "</div>"
            ],
            "text/plain": [
              "   n   Cost (T(n)\n",
              "0   1           2\n",
              "1   2           3\n",
              "2   3           4\n",
              "3   4           5"
            ]
          },
          "metadata": {
            "tags": []
          },
          "execution_count": 19
        }
      ]
    },
    {
      "cell_type": "code",
      "metadata": {
        "id": "g1uHNp_QguzK",
        "outputId": "bc96ce7b-95dc-4cf5-e6aa-e492f6d758ca",
        "colab": {
          "base_uri": "https://localhost:8080/",
          "height": 245
        }
      },
      "source": [
        "Analysis_of_Algorithm(n,T)"
      ],
      "execution_count": 16,
      "outputs": [
        {
          "output_type": "display_data",
          "data": {
            "image/png": "[encoded data removed]",
            "text/plain": [
              "<Figure size 864x216 with 2 Axes>"
            ]
          },
          "metadata": {
            "tags": [],
            "needs_background": "light"
          }
        }
      ]
    },
    {
      "cell_type": "code",
      "metadata": {
        "id": "9_eCI_RqhEX7",
        "outputId": "aeb4e396-e088-42f6-fb63-e182a1c600ac",
        "colab": {
          "base_uri": "https://localhost:8080/",
          "height": 173
        }
      },
      "source": [
        "df, df_slope=Analysis_of_Algorithm_Table(n,T)\n",
        "df"
      ],
      "execution_count": 17,
      "outputs": [
        {
          "output_type": "execute_result",
          "data": {
            "text/html": [
              "<div>\n",
              "<style scoped>\n",
              "    .dataframe tbody tr th:only-of-type {\n",
              "        vertical-align: middle;\n",
              "    }\n",
              "\n",
              "    .dataframe tbody tr th {\n",
              "        vertical-align: top;\n",
              "    }\n",
              "\n",
              "    .dataframe thead th {\n",
              "        text-align: right;\n",
              "    }\n",
              "</style>\n",
              "<table border=\"1\" class=\"dataframe\">\n",
              "  <thead>\n",
              "    <tr style=\"text-align: right;\">\n",
              "      <th></th>\n",
              "      <th>n</th>\n",
              "      <th>T(n)</th>\n",
              "      <th>log2(n)</th>\n",
              "      <th>log2(T(n))</th>\n",
              "    </tr>\n",
              "  </thead>\n",
              "  <tbody>\n",
              "    <tr>\n",
              "      <th>0</th>\n",
              "      <td>1</td>\n",
              "      <td>2</td>\n",
              "      <td>0.000000</td>\n",
              "      <td>1.000000</td>\n",
              "    </tr>\n",
              "    <tr>\n",
              "      <th>1</th>\n",
              "      <td>2</td>\n",
              "      <td>3</td>\n",
              "      <td>1.000000</td>\n",
              "      <td>1.584963</td>\n",
              "    </tr>\n",
              "    <tr>\n",
              "      <th>2</th>\n",
              "      <td>3</td>\n",
              "      <td>4</td>\n",
              "      <td>1.584963</td>\n",
              "      <td>2.000000</td>\n",
              "    </tr>\n",
              "    <tr>\n",
              "      <th>3</th>\n",
              "      <td>4</td>\n",
              "      <td>5</td>\n",
              "      <td>2.000000</td>\n",
              "      <td>2.321928</td>\n",
              "    </tr>\n",
              "  </tbody>\n",
              "</table>\n",
              "</div>"
            ],
            "text/plain": [
              "   n   T(n)    log2(n)  log2(T(n))\n",
              "0   1      2  0.000000    1.000000\n",
              "1   2      3  1.000000    1.584963\n",
              "2   3      4  1.584963    2.000000\n",
              "3   4      5  2.000000    2.321928"
            ]
          },
          "metadata": {
            "tags": []
          },
          "execution_count": 17
        }
      ]
    },
    {
      "cell_type": "code",
      "metadata": {
        "id": "w6RRvzRhhK1p",
        "outputId": "d467c27a-cfb1-4eaa-9a2a-f64a9a642745",
        "colab": {
          "base_uri": "https://localhost:8080/",
          "height": 142
        }
      },
      "source": [
        "df_slope"
      ],
      "execution_count": 18,
      "outputs": [
        {
          "output_type": "execute_result",
          "data": {
            "text/html": [
              "<div>\n",
              "<style scoped>\n",
              "    .dataframe tbody tr th:only-of-type {\n",
              "        vertical-align: middle;\n",
              "    }\n",
              "\n",
              "    .dataframe tbody tr th {\n",
              "        vertical-align: top;\n",
              "    }\n",
              "\n",
              "    .dataframe thead th {\n",
              "        text-align: right;\n",
              "    }\n",
              "</style>\n",
              "<table border=\"1\" class=\"dataframe\">\n",
              "  <thead>\n",
              "    <tr style=\"text-align: right;\">\n",
              "      <th></th>\n",
              "      <th>Slope</th>\n",
              "      <th>log(Slope)</th>\n",
              "    </tr>\n",
              "  </thead>\n",
              "  <tbody>\n",
              "    <tr>\n",
              "      <th>0</th>\n",
              "      <td>1.0</td>\n",
              "      <td>0.584963</td>\n",
              "    </tr>\n",
              "    <tr>\n",
              "      <th>1</th>\n",
              "      <td>1.0</td>\n",
              "      <td>0.709511</td>\n",
              "    </tr>\n",
              "    <tr>\n",
              "      <th>2</th>\n",
              "      <td>1.0</td>\n",
              "      <td>0.775660</td>\n",
              "    </tr>\n",
              "  </tbody>\n",
              "</table>\n",
              "</div>"
            ],
            "text/plain": [
              "   Slope   log(Slope) \n",
              "0     1.0     0.584963\n",
              "1     1.0     0.709511\n",
              "2     1.0     0.775660"
            ]
          },
          "metadata": {
            "tags": []
          },
          "execution_count": 18
        }
      ]
    },
    {
      "cell_type": "markdown",
      "metadata": {
        "id": "bOFiHBLeiM4K"
      },
      "source": [
        "## Tutorial Sheet 2 \n",
        "## Question 7\n",
        "\n",
        "7.\tThe order of growth of an algorithm, T (n), was measured experimentally for various values of n and the results are shown below:\n",
        "\n",
        "n operations\t1\t2\t3\t4\n",
        "\n",
        "Growth T (n)\t10\t17\t36\t73\n",
        "\n",
        "\n"
      ]
    },
    {
      "cell_type": "code",
      "metadata": {
        "id": "LcxnExQHiVfS",
        "outputId": "2453042c-72b6-47a7-dcbf-fc4a44292084",
        "colab": {
          "base_uri": "https://localhost:8080/",
          "height": 173
        }
      },
      "source": [
        "n=[1,2,3,4]\n",
        "T=[10,17,36,73]\n",
        "d = {'n ': n,    'Cost (T(n)': T}\n",
        "df = pd.DataFrame(data=d)\n",
        "df"
      ],
      "execution_count": 20,
      "outputs": [
        {
          "output_type": "execute_result",
          "data": {
            "text/html": [
              "<div>\n",
              "<style scoped>\n",
              "    .dataframe tbody tr th:only-of-type {\n",
              "        vertical-align: middle;\n",
              "    }\n",
              "\n",
              "    .dataframe tbody tr th {\n",
              "        vertical-align: top;\n",
              "    }\n",
              "\n",
              "    .dataframe thead th {\n",
              "        text-align: right;\n",
              "    }\n",
              "</style>\n",
              "<table border=\"1\" class=\"dataframe\">\n",
              "  <thead>\n",
              "    <tr style=\"text-align: right;\">\n",
              "      <th></th>\n",
              "      <th>n</th>\n",
              "      <th>Cost (T(n)</th>\n",
              "    </tr>\n",
              "  </thead>\n",
              "  <tbody>\n",
              "    <tr>\n",
              "      <th>0</th>\n",
              "      <td>1</td>\n",
              "      <td>10</td>\n",
              "    </tr>\n",
              "    <tr>\n",
              "      <th>1</th>\n",
              "      <td>2</td>\n",
              "      <td>17</td>\n",
              "    </tr>\n",
              "    <tr>\n",
              "      <th>2</th>\n",
              "      <td>3</td>\n",
              "      <td>36</td>\n",
              "    </tr>\n",
              "    <tr>\n",
              "      <th>3</th>\n",
              "      <td>4</td>\n",
              "      <td>73</td>\n",
              "    </tr>\n",
              "  </tbody>\n",
              "</table>\n",
              "</div>"
            ],
            "text/plain": [
              "   n   Cost (T(n)\n",
              "0   1          10\n",
              "1   2          17\n",
              "2   3          36\n",
              "3   4          73"
            ]
          },
          "metadata": {
            "tags": []
          },
          "execution_count": 20
        }
      ]
    },
    {
      "cell_type": "code",
      "metadata": {
        "id": "uUEUUprKiXwV",
        "outputId": "334a889e-6f58-4713-dc7b-857176cca5aa",
        "colab": {
          "base_uri": "https://localhost:8080/",
          "height": 245
        }
      },
      "source": [
        "Analysis_of_Algorithm(n,T)"
      ],
      "execution_count": 21,
      "outputs": [
        {
          "output_type": "display_data",
          "data": {
            "image/png": "[encoded data removed]",
            "text/plain": [
              "<Figure size 864x216 with 2 Axes>"
            ]
          },
          "metadata": {
            "tags": [],
            "needs_background": "light"
          }
        }
      ]
    },
    {
      "cell_type": "code",
      "metadata": {
        "id": "cKak0Pppia_5",
        "outputId": "ef204ed2-6be9-4be3-a9dd-78ca0970aacb",
        "colab": {
          "base_uri": "https://localhost:8080/",
          "height": 173
        }
      },
      "source": [
        "df, df_slope=Analysis_of_Algorithm_Table(n,T)\n",
        "df"
      ],
      "execution_count": 22,
      "outputs": [
        {
          "output_type": "execute_result",
          "data": {
            "text/html": [
              "<div>\n",
              "<style scoped>\n",
              "    .dataframe tbody tr th:only-of-type {\n",
              "        vertical-align: middle;\n",
              "    }\n",
              "\n",
              "    .dataframe tbody tr th {\n",
              "        vertical-align: top;\n",
              "    }\n",
              "\n",
              "    .dataframe thead th {\n",
              "        text-align: right;\n",
              "    }\n",
              "</style>\n",
              "<table border=\"1\" class=\"dataframe\">\n",
              "  <thead>\n",
              "    <tr style=\"text-align: right;\">\n",
              "      <th></th>\n",
              "      <th>n</th>\n",
              "      <th>T(n)</th>\n",
              "      <th>log2(n)</th>\n",
              "      <th>log2(T(n))</th>\n",
              "    </tr>\n",
              "  </thead>\n",
              "  <tbody>\n",
              "    <tr>\n",
              "      <th>0</th>\n",
              "      <td>1</td>\n",
              "      <td>10</td>\n",
              "      <td>0.000000</td>\n",
              "      <td>3.321928</td>\n",
              "    </tr>\n",
              "    <tr>\n",
              "      <th>1</th>\n",
              "      <td>2</td>\n",
              "      <td>17</td>\n",
              "      <td>1.000000</td>\n",
              "      <td>4.087463</td>\n",
              "    </tr>\n",
              "    <tr>\n",
              "      <th>2</th>\n",
              "      <td>3</td>\n",
              "      <td>36</td>\n",
              "      <td>1.584963</td>\n",
              "      <td>5.169925</td>\n",
              "    </tr>\n",
              "    <tr>\n",
              "      <th>3</th>\n",
              "      <td>4</td>\n",
              "      <td>73</td>\n",
              "      <td>2.000000</td>\n",
              "      <td>6.189825</td>\n",
              "    </tr>\n",
              "  </tbody>\n",
              "</table>\n",
              "</div>"
            ],
            "text/plain": [
              "   n   T(n)    log2(n)  log2(T(n))\n",
              "0   1     10  0.000000    3.321928\n",
              "1   2     17  1.000000    4.087463\n",
              "2   3     36  1.584963    5.169925\n",
              "3   4     73  2.000000    6.189825"
            ]
          },
          "metadata": {
            "tags": []
          },
          "execution_count": 22
        }
      ]
    },
    {
      "cell_type": "code",
      "metadata": {
        "id": "Uf0xgBB0igGb",
        "outputId": "d05d169b-326b-4234-b174-f011b5071af8",
        "colab": {
          "base_uri": "https://localhost:8080/",
          "height": 142
        }
      },
      "source": [
        "df_slope"
      ],
      "execution_count": 23,
      "outputs": [
        {
          "output_type": "execute_result",
          "data": {
            "text/html": [
              "<div>\n",
              "<style scoped>\n",
              "    .dataframe tbody tr th:only-of-type {\n",
              "        vertical-align: middle;\n",
              "    }\n",
              "\n",
              "    .dataframe tbody tr th {\n",
              "        vertical-align: top;\n",
              "    }\n",
              "\n",
              "    .dataframe thead th {\n",
              "        text-align: right;\n",
              "    }\n",
              "</style>\n",
              "<table border=\"1\" class=\"dataframe\">\n",
              "  <thead>\n",
              "    <tr style=\"text-align: right;\">\n",
              "      <th></th>\n",
              "      <th>Slope</th>\n",
              "      <th>log(Slope)</th>\n",
              "    </tr>\n",
              "  </thead>\n",
              "  <tbody>\n",
              "    <tr>\n",
              "      <th>0</th>\n",
              "      <td>7.0</td>\n",
              "      <td>0.765535</td>\n",
              "    </tr>\n",
              "    <tr>\n",
              "      <th>1</th>\n",
              "      <td>19.0</td>\n",
              "      <td>1.850481</td>\n",
              "    </tr>\n",
              "    <tr>\n",
              "      <th>2</th>\n",
              "      <td>37.0</td>\n",
              "      <td>2.457367</td>\n",
              "    </tr>\n",
              "  </tbody>\n",
              "</table>\n",
              "</div>"
            ],
            "text/plain": [
              "   Slope   log(Slope) \n",
              "0     7.0     0.765535\n",
              "1    19.0     1.850481\n",
              "2    37.0     2.457367"
            ]
          },
          "metadata": {
            "tags": []
          },
          "execution_count": 23
        }
      ]
    },
    {
      "cell_type": "markdown",
      "metadata": {
        "id": "nKqhEGHairQj"
      },
      "source": [
        "## Question 8.\t\n",
        "The order of growth of an algorithm, T (n), was measured experimentally for various values of n and the results are shown below:\n",
        "\n",
        "n operations\t16\t64\t256\t1024\n",
        "\n",
        "Growth T (n)\t1512\t9192\t132072\t2098152\n"
      ]
    },
    {
      "cell_type": "code",
      "metadata": {
        "id": "jMb74tR3ixU2",
        "outputId": "dea620b3-97c9-4aa5-d398-8392517b8ebe",
        "colab": {
          "base_uri": "https://localhost:8080/",
          "height": 173
        }
      },
      "source": [
        "n=[16, 64, 256, 1024]\n",
        "T=[1512, 9192, 132072, 2098152]\n",
        "d = {'n ': n,    'Cost (T(n)': T}\n",
        "df = pd.DataFrame(data=d)\n",
        "df"
      ],
      "execution_count": 24,
      "outputs": [
        {
          "output_type": "execute_result",
          "data": {
            "text/html": [
              "<div>\n",
              "<style scoped>\n",
              "    .dataframe tbody tr th:only-of-type {\n",
              "        vertical-align: middle;\n",
              "    }\n",
              "\n",
              "    .dataframe tbody tr th {\n",
              "        vertical-align: top;\n",
              "    }\n",
              "\n",
              "    .dataframe thead th {\n",
              "        text-align: right;\n",
              "    }\n",
              "</style>\n",
              "<table border=\"1\" class=\"dataframe\">\n",
              "  <thead>\n",
              "    <tr style=\"text-align: right;\">\n",
              "      <th></th>\n",
              "      <th>n</th>\n",
              "      <th>Cost (T(n)</th>\n",
              "    </tr>\n",
              "  </thead>\n",
              "  <tbody>\n",
              "    <tr>\n",
              "      <th>0</th>\n",
              "      <td>16</td>\n",
              "      <td>1512</td>\n",
              "    </tr>\n",
              "    <tr>\n",
              "      <th>1</th>\n",
              "      <td>64</td>\n",
              "      <td>9192</td>\n",
              "    </tr>\n",
              "    <tr>\n",
              "      <th>2</th>\n",
              "      <td>256</td>\n",
              "      <td>132072</td>\n",
              "    </tr>\n",
              "    <tr>\n",
              "      <th>3</th>\n",
              "      <td>1024</td>\n",
              "      <td>2098152</td>\n",
              "    </tr>\n",
              "  </tbody>\n",
              "</table>\n",
              "</div>"
            ],
            "text/plain": [
              "     n   Cost (T(n)\n",
              "0    16        1512\n",
              "1    64        9192\n",
              "2   256      132072\n",
              "3  1024     2098152"
            ]
          },
          "metadata": {
            "tags": []
          },
          "execution_count": 24
        }
      ]
    },
    {
      "cell_type": "code",
      "metadata": {
        "id": "5W-EJG2Di2FQ",
        "outputId": "aa25bbf0-4ef6-4357-9f33-13aeeb8fc80a",
        "colab": {
          "base_uri": "https://localhost:8080/",
          "height": 245
        }
      },
      "source": [
        "Analysis_of_Algorithm(n,T)"
      ],
      "execution_count": 25,
      "outputs": [
        {
          "output_type": "display_data",
          "data": {
            "image/png": "[encoded data removed]",
            "text/plain": [
              "<Figure size 864x216 with 2 Axes>"
            ]
          },
          "metadata": {
            "tags": [],
            "needs_background": "light"
          }
        }
      ]
    },
    {
      "cell_type": "code",
      "metadata": {
        "id": "bAoT4tXIi338",
        "outputId": "09ab6f2b-56e0-4671-9726-e013e6dd7b39",
        "colab": {
          "base_uri": "https://localhost:8080/",
          "height": 173
        }
      },
      "source": [
        "df, df_slope=Analysis_of_Algorithm_Table(n,T)\n",
        "df"
      ],
      "execution_count": 26,
      "outputs": [
        {
          "output_type": "execute_result",
          "data": {
            "text/html": [
              "<div>\n",
              "<style scoped>\n",
              "    .dataframe tbody tr th:only-of-type {\n",
              "        vertical-align: middle;\n",
              "    }\n",
              "\n",
              "    .dataframe tbody tr th {\n",
              "        vertical-align: top;\n",
              "    }\n",
              "\n",
              "    .dataframe thead th {\n",
              "        text-align: right;\n",
              "    }\n",
              "</style>\n",
              "<table border=\"1\" class=\"dataframe\">\n",
              "  <thead>\n",
              "    <tr style=\"text-align: right;\">\n",
              "      <th></th>\n",
              "      <th>n</th>\n",
              "      <th>T(n)</th>\n",
              "      <th>log2(n)</th>\n",
              "      <th>log2(T(n))</th>\n",
              "    </tr>\n",
              "  </thead>\n",
              "  <tbody>\n",
              "    <tr>\n",
              "      <th>0</th>\n",
              "      <td>16</td>\n",
              "      <td>1512</td>\n",
              "      <td>4.0</td>\n",
              "      <td>10.562242</td>\n",
              "    </tr>\n",
              "    <tr>\n",
              "      <th>1</th>\n",
              "      <td>64</td>\n",
              "      <td>9192</td>\n",
              "      <td>6.0</td>\n",
              "      <td>13.166163</td>\n",
              "    </tr>\n",
              "    <tr>\n",
              "      <th>2</th>\n",
              "      <td>256</td>\n",
              "      <td>132072</td>\n",
              "      <td>8.0</td>\n",
              "      <td>17.010965</td>\n",
              "    </tr>\n",
              "    <tr>\n",
              "      <th>3</th>\n",
              "      <td>1024</td>\n",
              "      <td>2098152</td>\n",
              "      <td>10.0</td>\n",
              "      <td>21.000688</td>\n",
              "    </tr>\n",
              "  </tbody>\n",
              "</table>\n",
              "</div>"
            ],
            "text/plain": [
              "     n     T(n)   log2(n)  log2(T(n))\n",
              "0    16     1512      4.0   10.562242\n",
              "1    64     9192      6.0   13.166163\n",
              "2   256   132072      8.0   17.010965\n",
              "3  1024  2098152     10.0   21.000688"
            ]
          },
          "metadata": {
            "tags": []
          },
          "execution_count": 26
        }
      ]
    },
    {
      "cell_type": "code",
      "metadata": {
        "id": "zNcfWzsMi5xj",
        "outputId": "bb995dde-1ad1-438a-e9bf-cdf22bdc2dc0",
        "colab": {
          "base_uri": "https://localhost:8080/",
          "height": 142
        }
      },
      "source": [
        "df_slope"
      ],
      "execution_count": 27,
      "outputs": [
        {
          "output_type": "execute_result",
          "data": {
            "text/html": [
              "<div>\n",
              "<style scoped>\n",
              "    .dataframe tbody tr th:only-of-type {\n",
              "        vertical-align: middle;\n",
              "    }\n",
              "\n",
              "    .dataframe tbody tr th {\n",
              "        vertical-align: top;\n",
              "    }\n",
              "\n",
              "    .dataframe thead th {\n",
              "        text-align: right;\n",
              "    }\n",
              "</style>\n",
              "<table border=\"1\" class=\"dataframe\">\n",
              "  <thead>\n",
              "    <tr style=\"text-align: right;\">\n",
              "      <th></th>\n",
              "      <th>Slope</th>\n",
              "      <th>log(Slope)</th>\n",
              "    </tr>\n",
              "  </thead>\n",
              "  <tbody>\n",
              "    <tr>\n",
              "      <th>0</th>\n",
              "      <td>160.0</td>\n",
              "      <td>1.301960</td>\n",
              "    </tr>\n",
              "    <tr>\n",
              "      <th>1</th>\n",
              "      <td>640.0</td>\n",
              "      <td>1.922401</td>\n",
              "    </tr>\n",
              "    <tr>\n",
              "      <th>2</th>\n",
              "      <td>2560.0</td>\n",
              "      <td>1.994861</td>\n",
              "    </tr>\n",
              "  </tbody>\n",
              "</table>\n",
              "</div>"
            ],
            "text/plain": [
              "   Slope   log(Slope) \n",
              "0   160.0     1.301960\n",
              "1   640.0     1.922401\n",
              "2  2560.0     1.994861"
            ]
          },
          "metadata": {
            "tags": []
          },
          "execution_count": 27
        }
      ]
    },
    {
      "cell_type": "markdown",
      "metadata": {
        "id": "m9fVAS55jC9s"
      },
      "source": [
        "## Question 9\t\n",
        "The order of growth of an algorithm, T (n), was measured experimentally for various values of n and the results are shown below:\n",
        "\n",
        "n operations\t256\t1024\t4096\t16384\n",
        "\n",
        "Growth T (n)\t44.0\t76.0\t140.0\t268.0\n"
      ]
    },
    {
      "cell_type": "code",
      "metadata": {
        "id": "7bRxJ843jL9H",
        "outputId": "e0408b20-4aa6-4614-f325-8a3ff7873eda",
        "colab": {
          "base_uri": "https://localhost:8080/",
          "height": 173
        }
      },
      "source": [
        "n=[256, 1024, 4096, 16384]\n",
        "T=[44.0, 76.0, 140.0, 268.0]\n",
        "d = {'n ': n,    'Cost (T(n)': T}\n",
        "df = pd.DataFrame(data=d)\n",
        "df"
      ],
      "execution_count": 28,
      "outputs": [
        {
          "output_type": "execute_result",
          "data": {
            "text/html": [
              "<div>\n",
              "<style scoped>\n",
              "    .dataframe tbody tr th:only-of-type {\n",
              "        vertical-align: middle;\n",
              "    }\n",
              "\n",
              "    .dataframe tbody tr th {\n",
              "        vertical-align: top;\n",
              "    }\n",
              "\n",
              "    .dataframe thead th {\n",
              "        text-align: right;\n",
              "    }\n",
              "</style>\n",
              "<table border=\"1\" class=\"dataframe\">\n",
              "  <thead>\n",
              "    <tr style=\"text-align: right;\">\n",
              "      <th></th>\n",
              "      <th>n</th>\n",
              "      <th>Cost (T(n)</th>\n",
              "    </tr>\n",
              "  </thead>\n",
              "  <tbody>\n",
              "    <tr>\n",
              "      <th>0</th>\n",
              "      <td>256</td>\n",
              "      <td>44.0</td>\n",
              "    </tr>\n",
              "    <tr>\n",
              "      <th>1</th>\n",
              "      <td>1024</td>\n",
              "      <td>76.0</td>\n",
              "    </tr>\n",
              "    <tr>\n",
              "      <th>2</th>\n",
              "      <td>4096</td>\n",
              "      <td>140.0</td>\n",
              "    </tr>\n",
              "    <tr>\n",
              "      <th>3</th>\n",
              "      <td>16384</td>\n",
              "      <td>268.0</td>\n",
              "    </tr>\n",
              "  </tbody>\n",
              "</table>\n",
              "</div>"
            ],
            "text/plain": [
              "      n   Cost (T(n)\n",
              "0    256        44.0\n",
              "1   1024        76.0\n",
              "2   4096       140.0\n",
              "3  16384       268.0"
            ]
          },
          "metadata": {
            "tags": []
          },
          "execution_count": 28
        }
      ]
    },
    {
      "cell_type": "code",
      "metadata": {
        "id": "VhEzKLp3jdFT",
        "outputId": "c595c9d5-c925-4b78-b3f3-0c40bb0880b3",
        "colab": {
          "base_uri": "https://localhost:8080/",
          "height": 245
        }
      },
      "source": [
        "Analysis_of_Algorithm(n,T)"
      ],
      "execution_count": 30,
      "outputs": [
        {
          "output_type": "display_data",
          "data": {
            "image/png": "[encoded data removed]",
            "text/plain": [
              "<Figure size 864x216 with 2 Axes>"
            ]
          },
          "metadata": {
            "tags": [],
            "needs_background": "light"
          }
        }
      ]
    },
    {
      "cell_type": "code",
      "metadata": {
        "id": "KZNlYzjvjSxN",
        "outputId": "1625f5f5-3d00-4ae0-e2f5-4ea577db3723",
        "colab": {
          "base_uri": "https://localhost:8080/",
          "height": 173
        }
      },
      "source": [
        "df, df_slope=Analysis_of_Algorithm_Table(n,T)\n",
        "df"
      ],
      "execution_count": 29,
      "outputs": [
        {
          "output_type": "execute_result",
          "data": {
            "text/html": [
              "<div>\n",
              "<style scoped>\n",
              "    .dataframe tbody tr th:only-of-type {\n",
              "        vertical-align: middle;\n",
              "    }\n",
              "\n",
              "    .dataframe tbody tr th {\n",
              "        vertical-align: top;\n",
              "    }\n",
              "\n",
              "    .dataframe thead th {\n",
              "        text-align: right;\n",
              "    }\n",
              "</style>\n",
              "<table border=\"1\" class=\"dataframe\">\n",
              "  <thead>\n",
              "    <tr style=\"text-align: right;\">\n",
              "      <th></th>\n",
              "      <th>n</th>\n",
              "      <th>T(n)</th>\n",
              "      <th>log2(n)</th>\n",
              "      <th>log2(T(n))</th>\n",
              "    </tr>\n",
              "  </thead>\n",
              "  <tbody>\n",
              "    <tr>\n",
              "      <th>0</th>\n",
              "      <td>256</td>\n",
              "      <td>44.0</td>\n",
              "      <td>8.0</td>\n",
              "      <td>5.459432</td>\n",
              "    </tr>\n",
              "    <tr>\n",
              "      <th>1</th>\n",
              "      <td>1024</td>\n",
              "      <td>76.0</td>\n",
              "      <td>10.0</td>\n",
              "      <td>6.247928</td>\n",
              "    </tr>\n",
              "    <tr>\n",
              "      <th>2</th>\n",
              "      <td>4096</td>\n",
              "      <td>140.0</td>\n",
              "      <td>12.0</td>\n",
              "      <td>7.129283</td>\n",
              "    </tr>\n",
              "    <tr>\n",
              "      <th>3</th>\n",
              "      <td>16384</td>\n",
              "      <td>268.0</td>\n",
              "      <td>14.0</td>\n",
              "      <td>8.066089</td>\n",
              "    </tr>\n",
              "  </tbody>\n",
              "</table>\n",
              "</div>"
            ],
            "text/plain": [
              "      n   T(n)   log2(n)  log2(T(n))\n",
              "0    256   44.0      8.0    5.459432\n",
              "1   1024   76.0     10.0    6.247928\n",
              "2   4096  140.0     12.0    7.129283\n",
              "3  16384  268.0     14.0    8.066089"
            ]
          },
          "metadata": {
            "tags": []
          },
          "execution_count": 29
        }
      ]
    },
    {
      "cell_type": "code",
      "metadata": {
        "id": "meFkgpSVjU12",
        "outputId": "7c12b1e7-69f2-4e61-9a0f-ca8850e62fba",
        "colab": {
          "base_uri": "https://localhost:8080/",
          "height": 142
        }
      },
      "source": [
        "df_slope"
      ],
      "execution_count": 31,
      "outputs": [
        {
          "output_type": "execute_result",
          "data": {
            "text/html": [
              "<div>\n",
              "<style scoped>\n",
              "    .dataframe tbody tr th:only-of-type {\n",
              "        vertical-align: middle;\n",
              "    }\n",
              "\n",
              "    .dataframe tbody tr th {\n",
              "        vertical-align: top;\n",
              "    }\n",
              "\n",
              "    .dataframe thead th {\n",
              "        text-align: right;\n",
              "    }\n",
              "</style>\n",
              "<table border=\"1\" class=\"dataframe\">\n",
              "  <thead>\n",
              "    <tr style=\"text-align: right;\">\n",
              "      <th></th>\n",
              "      <th>Slope</th>\n",
              "      <th>log(Slope)</th>\n",
              "    </tr>\n",
              "  </thead>\n",
              "  <tbody>\n",
              "    <tr>\n",
              "      <th>0</th>\n",
              "      <td>0.041667</td>\n",
              "      <td>0.394248</td>\n",
              "    </tr>\n",
              "    <tr>\n",
              "      <th>1</th>\n",
              "      <td>0.020833</td>\n",
              "      <td>0.440678</td>\n",
              "    </tr>\n",
              "    <tr>\n",
              "      <th>2</th>\n",
              "      <td>0.010417</td>\n",
              "      <td>0.468403</td>\n",
              "    </tr>\n",
              "  </tbody>\n",
              "</table>\n",
              "</div>"
            ],
            "text/plain": [
              "     Slope   log(Slope) \n",
              "0  0.041667     0.394248\n",
              "1  0.020833     0.440678\n",
              "2  0.010417     0.468403"
            ]
          },
          "metadata": {
            "tags": []
          },
          "execution_count": 31
        }
      ]
    },
    {
      "cell_type": "code",
      "metadata": {
        "id": "C0q0lPOHjgwE"
      },
      "source": [
        ""
      ],
      "execution_count": null,
      "outputs": []
    }
  ]
}