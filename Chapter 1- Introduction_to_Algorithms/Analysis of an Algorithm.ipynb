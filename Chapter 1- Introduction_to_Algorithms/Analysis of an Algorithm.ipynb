{
 "cells": [
  {
   "cell_type": "markdown",
   "metadata": {},
   "source": [
    "# Analysis of an Algorithm\n",
    "## Cost Function\n",
    "The cost function $C(n)$ is how many operations it takes an algorithm to perform a task of length $n$.\n",
    "\n",
    "For example, to sort a list of $n$ numbers using the selection sort algorithm costs \n",
    "$$T(n)=\\frac{n(n-1)}{2}.$$\n",
    "\n",
    "For example, to find a number in a list of sorted numbers of lenght $n$ using the binary search algorithm costs  \n",
    "$$T(n)=\\log_2(n).$$"
   ]
  },
  {
   "cell_type": "code",
   "execution_count": 1,
   "metadata": {},
   "outputs": [],
   "source": [
    "import numpy as np\n",
    "import math \n",
    "\n",
    "%matplotlib inline\n",
    "import matplotlib.pyplot as plt # side-stepping mpl backend\n",
    "import matplotlib.gridspec as gridspec # subplots\n",
    "import warnings\n",
    "import pandas as pd\n",
    "warnings.filterwarnings(\"ignore\")"
   ]
  },
  {
   "cell_type": "markdown",
   "metadata": {},
   "source": [
    "## Linear Algorithm\n",
    "A linear Algorithm is one that the cost function is linear\n",
    "$$T(n)=an+b, $$\n",
    "where $a$ and $b$ are real numbers.\n"
   ]
  },
  {
   "cell_type": "code",
   "execution_count": 2,
   "metadata": {},
   "outputs": [],
   "source": [
    "## FUNCTION TO PLOT COST OF ALGORITHM AS A FUNCTION OF N\n",
    "def Analysis_of_Algorithm(n,T):\n",
    "    fig = plt.figure(figsize=(12,3))\n",
    "    ax=fig.add_subplot(1,2,1) # PLOT OF T(N) AS A FUNCTION OF N\n",
    "    plt.plot(n,T,'o:',color='red')\n",
    "    plt.title('Cost as a function of n')\n",
    "    plt.xlabel('n')\n",
    "    plt.ylabel('T(n)')\n",
    "    \n",
    "    # LOG TRANSFORM OF n AND T\n",
    "    log_n=np.log2(n)\n",
    "    log_T=np.log2(T)\n",
    "    ax=fig.add_subplot(1,2,2) # PLOT OF LOG TRANSFORM DATA\n",
    "    plt.plot(log_n,log_T,'o:',color='blue')  # PLOT OF log(T(N)) AS A FUNCTION OF log(N)\n",
    "    plt.title('Log Transformed')\n",
    "    plt.xlabel(r'$\\log_2(n)$')\n",
    "    plt.ylabel(r'$\\log_2(T(n))$')\n",
    "\n",
    "    plt.plot();"
   ]
  },
  {
   "cell_type": "code",
   "execution_count": 3,
   "metadata": {},
   "outputs": [],
   "source": [
    "## FUNCTION OUTPUT A TABLE COST OF ALGORITHM AS A FUNCTION OF N\n",
    "def Analysis_of_Algorithm_Table(n,T):\n",
    "    slope=(np.diff(T)/np.diff(n))\n",
    "    log_n=np.log2(n)\n",
    "    log_T=np.log2(T)\n",
    "    log_slope=(np.diff(log_T)/np.diff(log_n))\n",
    "\n",
    " #   table.append(['n', 'T(n)',r'$\\log_2(n)$',r'$\\log_2(T(n))$'])\n",
    " #   for i in range(len(n)):\n",
    " #       table.append([round(n[i],5), round(T[i],5), round(log_n[i],7),round(log_T[i],7)])\n",
    " #   print(np.diff(log_T)/np.diff(log_n))\n",
    "    \n",
    "    d = {'n ': np.round(n,5),    'T(n) ':np.round(T,5),'log2(n)':np.round(log_n,7),'log2(T(n))':np.round(log_T,7)}\n",
    "    df = pd.DataFrame(data=d)\n",
    "    d = {'Slope ': slope,    'log(Slope) ':log_slope}\n",
    "    df_slope = pd.DataFrame(data=d)\n",
    "    df_slope\n",
    "    return df, df_slope"
   ]
  },
  {
   "cell_type": "markdown",
   "metadata": {},
   "source": [
    "### Example Linear Algorithm\n",
    "The figure below show a plot of linear algorithm,\n",
    "$$ T(n)=4n+10,$$\n",
    "on the left."
   ]
  },
  {
   "cell_type": "code",
   "execution_count": 4,
   "metadata": {},
   "outputs": [
    {
     "name": "stdout",
     "output_type": "stream",
     "text": [
      "The plots below shows the Cost as a function of n (left) and the log transformed (right).\n"
     ]
    },
    {
     "data": {
      "image/png": "[encoded data removed]",
      "text/plain": [
       "<Figure size 864x216 with 2 Axes>"
      ]
     },
     "metadata": {
      "needs_background": "light"
     },
     "output_type": "display_data"
    }
   ],
   "source": [
    "n=2**np.arange(4,11,2)\n",
    "T=4*n+10\n",
    "print('The plots below shows the Cost as a function of n (left) and the log transformed (right).')\n",
    "Analysis_of_Algorithm(n,T)"
   ]
  },
  {
   "cell_type": "code",
   "execution_count": 5,
   "metadata": {},
   "outputs": [
    {
     "data": {
      "text/html": [
       "<div>\n",
       "<style scoped>\n",
       "    .dataframe tbody tr th:only-of-type {\n",
       "        vertical-align: middle;\n",
       "    }\n",
       "\n",
       "    .dataframe tbody tr th {\n",
       "        vertical-align: top;\n",
       "    }\n",
       "\n",
       "    .dataframe thead th {\n",
       "        text-align: right;\n",
       "    }\n",
       "</style>\n",
       "<table border=\"1\" class=\"dataframe\">\n",
       "  <thead>\n",
       "    <tr style=\"text-align: right;\">\n",
       "      <th></th>\n",
       "      <th>n</th>\n",
       "      <th>T(n)</th>\n",
       "      <th>log2(n)</th>\n",
       "      <th>log2(T(n))</th>\n",
       "    </tr>\n",
       "  </thead>\n",
       "  <tbody>\n",
       "    <tr>\n",
       "      <th>0</th>\n",
       "      <td>16</td>\n",
       "      <td>74</td>\n",
       "      <td>4.0</td>\n",
       "      <td>6.209453</td>\n",
       "    </tr>\n",
       "    <tr>\n",
       "      <th>1</th>\n",
       "      <td>64</td>\n",
       "      <td>266</td>\n",
       "      <td>6.0</td>\n",
       "      <td>8.055282</td>\n",
       "    </tr>\n",
       "    <tr>\n",
       "      <th>2</th>\n",
       "      <td>256</td>\n",
       "      <td>1034</td>\n",
       "      <td>8.0</td>\n",
       "      <td>10.014021</td>\n",
       "    </tr>\n",
       "    <tr>\n",
       "      <th>3</th>\n",
       "      <td>1024</td>\n",
       "      <td>4106</td>\n",
       "      <td>10.0</td>\n",
       "      <td>12.003518</td>\n",
       "    </tr>\n",
       "  </tbody>\n",
       "</table>\n",
       "</div>"
      ],
      "text/plain": [
       "     n   T(n)   log2(n)  log2(T(n))\n",
       "0    16     74      4.0    6.209453\n",
       "1    64    266      6.0    8.055282\n",
       "2   256   1034      8.0   10.014021\n",
       "3  1024   4106     10.0   12.003518"
      ]
     },
     "execution_count": 5,
     "metadata": {},
     "output_type": "execute_result"
    }
   ],
   "source": [
    "df,df_slope=Analysis_of_Algorithm_Table(n,T)\n",
    "\n",
    "df.to_csv('Linear.csv')\n",
    "df"
   ]
  },
  {
   "cell_type": "code",
   "execution_count": 6,
   "metadata": {},
   "outputs": [
    {
     "data": {
      "text/html": [
       "<div>\n",
       "<style scoped>\n",
       "    .dataframe tbody tr th:only-of-type {\n",
       "        vertical-align: middle;\n",
       "    }\n",
       "\n",
       "    .dataframe tbody tr th {\n",
       "        vertical-align: top;\n",
       "    }\n",
       "\n",
       "    .dataframe thead th {\n",
       "        text-align: right;\n",
       "    }\n",
       "</style>\n",
       "<table border=\"1\" class=\"dataframe\">\n",
       "  <thead>\n",
       "    <tr style=\"text-align: right;\">\n",
       "      <th></th>\n",
       "      <th>Slope</th>\n",
       "      <th>log(Slope)</th>\n",
       "    </tr>\n",
       "  </thead>\n",
       "  <tbody>\n",
       "    <tr>\n",
       "      <th>0</th>\n",
       "      <td>4.0</td>\n",
       "      <td>0.922915</td>\n",
       "    </tr>\n",
       "    <tr>\n",
       "      <th>1</th>\n",
       "      <td>4.0</td>\n",
       "      <td>0.979369</td>\n",
       "    </tr>\n",
       "    <tr>\n",
       "      <th>2</th>\n",
       "      <td>4.0</td>\n",
       "      <td>0.994749</td>\n",
       "    </tr>\n",
       "  </tbody>\n",
       "</table>\n",
       "</div>"
      ],
      "text/plain": [
       "   Slope   log(Slope) \n",
       "0     4.0     0.922915\n",
       "1     4.0     0.979369\n",
       "2     4.0     0.994749"
      ]
     },
     "execution_count": 6,
     "metadata": {},
     "output_type": "execute_result"
    }
   ],
   "source": [
    "df_slope.to_csv('Linear_slope.csv')\n",
    "df_slope"
   ]
  },
  {
   "cell_type": "markdown",
   "metadata": {},
   "source": [
    "## Quadratic Algorithm\n",
    "A quadratic Algorithm is one that the cost function is of the form:\n",
    "$$T(n)=an^2+bn+c, $$\n",
    "where $a$,  $b$  and $c$ are real numbers.\n",
    "\n",
    "## Example Quadratic Algorithm\n"
   ]
  },
  {
   "cell_type": "code",
   "execution_count": 7,
   "metadata": {},
   "outputs": [
    {
     "data": {
      "image/png": "[encoded data removed]",
      "text/plain": [
       "<Figure size 864x216 with 2 Axes>"
      ]
     },
     "metadata": {
      "needs_background": "light"
     },
     "output_type": "display_data"
    }
   ],
   "source": [
    "n=2**np.arange(10,18,2)\n",
    "T=2*n**2++200*n+100\n",
    "Analysis_of_Algorithm(n,T)"
   ]
  },
  {
   "cell_type": "code",
   "execution_count": 8,
   "metadata": {},
   "outputs": [
    {
     "data": {
      "text/html": [
       "<div>\n",
       "<style scoped>\n",
       "    .dataframe tbody tr th:only-of-type {\n",
       "        vertical-align: middle;\n",
       "    }\n",
       "\n",
       "    .dataframe tbody tr th {\n",
       "        vertical-align: top;\n",
       "    }\n",
       "\n",
       "    .dataframe thead th {\n",
       "        text-align: right;\n",
       "    }\n",
       "</style>\n",
       "<table border=\"1\" class=\"dataframe\">\n",
       "  <thead>\n",
       "    <tr style=\"text-align: right;\">\n",
       "      <th></th>\n",
       "      <th>n</th>\n",
       "      <th>T(n)</th>\n",
       "      <th>log2(n)</th>\n",
       "      <th>log2(T(n))</th>\n",
       "    </tr>\n",
       "  </thead>\n",
       "  <tbody>\n",
       "    <tr>\n",
       "      <th>0</th>\n",
       "      <td>1024</td>\n",
       "      <td>2302052</td>\n",
       "      <td>10.0</td>\n",
       "      <td>21.134489</td>\n",
       "    </tr>\n",
       "    <tr>\n",
       "      <th>1</th>\n",
       "      <td>4096</td>\n",
       "      <td>34373732</td>\n",
       "      <td>12.0</td>\n",
       "      <td>25.034803</td>\n",
       "    </tr>\n",
       "    <tr>\n",
       "      <th>2</th>\n",
       "      <td>16384</td>\n",
       "      <td>540147812</td>\n",
       "      <td>14.0</td>\n",
       "      <td>29.008779</td>\n",
       "    </tr>\n",
       "    <tr>\n",
       "      <th>3</th>\n",
       "      <td>65536</td>\n",
       "      <td>8603041892</td>\n",
       "      <td>16.0</td>\n",
       "      <td>33.002200</td>\n",
       "    </tr>\n",
       "  </tbody>\n",
       "</table>\n",
       "</div>"
      ],
      "text/plain": [
       "      n        T(n)   log2(n)  log2(T(n))\n",
       "0   1024     2302052     10.0   21.134489\n",
       "1   4096    34373732     12.0   25.034803\n",
       "2  16384   540147812     14.0   29.008779\n",
       "3  65536  8603041892     16.0   33.002200"
      ]
     },
     "execution_count": 8,
     "metadata": {},
     "output_type": "execute_result"
    }
   ],
   "source": [
    "df, df_slope=Analysis_of_Algorithm_Table(n,T)\n",
    "\n",
    "df.to_csv('Quad.csv')\n",
    "df"
   ]
  },
  {
   "cell_type": "code",
   "execution_count": 9,
   "metadata": {},
   "outputs": [
    {
     "data": {
      "text/html": [
       "<div>\n",
       "<style scoped>\n",
       "    .dataframe tbody tr th:only-of-type {\n",
       "        vertical-align: middle;\n",
       "    }\n",
       "\n",
       "    .dataframe tbody tr th {\n",
       "        vertical-align: top;\n",
       "    }\n",
       "\n",
       "    .dataframe thead th {\n",
       "        text-align: right;\n",
       "    }\n",
       "</style>\n",
       "<table border=\"1\" class=\"dataframe\">\n",
       "  <thead>\n",
       "    <tr style=\"text-align: right;\">\n",
       "      <th></th>\n",
       "      <th>Slope</th>\n",
       "      <th>log(Slope)</th>\n",
       "    </tr>\n",
       "  </thead>\n",
       "  <tbody>\n",
       "    <tr>\n",
       "      <th>0</th>\n",
       "      <td>10440.0</td>\n",
       "      <td>1.950157</td>\n",
       "    </tr>\n",
       "    <tr>\n",
       "      <th>1</th>\n",
       "      <td>41160.0</td>\n",
       "      <td>1.986988</td>\n",
       "    </tr>\n",
       "    <tr>\n",
       "      <th>2</th>\n",
       "      <td>164040.0</td>\n",
       "      <td>1.996710</td>\n",
       "    </tr>\n",
       "  </tbody>\n",
       "</table>\n",
       "</div>"
      ],
      "text/plain": [
       "     Slope   log(Slope) \n",
       "0   10440.0     1.950157\n",
       "1   41160.0     1.986988\n",
       "2  164040.0     1.996710"
      ]
     },
     "execution_count": 9,
     "metadata": {},
     "output_type": "execute_result"
    }
   ],
   "source": [
    "df_slope.to_csv('Quad_slope.csv')\n",
    "df_slope"
   ]
  },
  {
   "cell_type": "markdown",
   "metadata": {},
   "source": [
    "## Cubic Algorithm\n",
    "A quadratic Algorithm is one that the cost function is of the form:\n",
    "$$T(n)=an^3+bn^2+cn+d, $$\n",
    "where $a$,  $b$, $c$  and $d$ are real numbers.\n",
    "\n",
    "## Example Cubic Algorithm"
   ]
  },
  {
   "cell_type": "code",
   "execution_count": 10,
   "metadata": {},
   "outputs": [
    {
     "data": {
      "image/png": "[encoded data removed]",
      "text/plain": [
       "<Figure size 864x216 with 2 Axes>"
      ]
     },
     "metadata": {
      "needs_background": "light"
     },
     "output_type": "display_data"
    }
   ],
   "source": [
    "T=0.1*n**3+n**2-n+1000\n",
    "Analysis_of_Algorithm(n,T)"
   ]
  },
  {
   "cell_type": "code",
   "execution_count": 11,
   "metadata": {},
   "outputs": [
    {
     "data": {
      "text/html": [
       "<div>\n",
       "<style scoped>\n",
       "    .dataframe tbody tr th:only-of-type {\n",
       "        vertical-align: middle;\n",
       "    }\n",
       "\n",
       "    .dataframe tbody tr th {\n",
       "        vertical-align: top;\n",
       "    }\n",
       "\n",
       "    .dataframe thead th {\n",
       "        text-align: right;\n",
       "    }\n",
       "</style>\n",
       "<table border=\"1\" class=\"dataframe\">\n",
       "  <thead>\n",
       "    <tr style=\"text-align: right;\">\n",
       "      <th></th>\n",
       "      <th>n</th>\n",
       "      <th>T(n)</th>\n",
       "      <th>log2(n)</th>\n",
       "      <th>log2(T(n))</th>\n",
       "    </tr>\n",
       "  </thead>\n",
       "  <tbody>\n",
       "    <tr>\n",
       "      <th>0</th>\n",
       "      <td>1024</td>\n",
       "      <td>1.084227e+08</td>\n",
       "      <td>10.0</td>\n",
       "      <td>26.692092</td>\n",
       "    </tr>\n",
       "    <tr>\n",
       "      <th>1</th>\n",
       "      <td>4096</td>\n",
       "      <td>6.888722e+09</td>\n",
       "      <td>12.0</td>\n",
       "      <td>32.681589</td>\n",
       "    </tr>\n",
       "    <tr>\n",
       "      <th>2</th>\n",
       "      <td>16384</td>\n",
       "      <td>4.400731e+11</td>\n",
       "      <td>14.0</td>\n",
       "      <td>38.678952</td>\n",
       "    </tr>\n",
       "    <tr>\n",
       "      <th>3</th>\n",
       "      <td>65536</td>\n",
       "      <td>2.815179e+13</td>\n",
       "      <td>16.0</td>\n",
       "      <td>44.678292</td>\n",
       "    </tr>\n",
       "  </tbody>\n",
       "</table>\n",
       "</div>"
      ],
      "text/plain": [
       "      n          T(n)   log2(n)  log2(T(n))\n",
       "0   1024  1.084227e+08     10.0   26.692092\n",
       "1   4096  6.888722e+09     12.0   32.681589\n",
       "2  16384  4.400731e+11     14.0   38.678952\n",
       "3  65536  2.815179e+13     16.0   44.678292"
      ]
     },
     "execution_count": 11,
     "metadata": {},
     "output_type": "execute_result"
    }
   ],
   "source": [
    "df, df_slope=Analysis_of_Algorithm_Table(n,T)\n",
    "df.to_csv('Cubic.csv')\n",
    "df"
   ]
  },
  {
   "cell_type": "code",
   "execution_count": 12,
   "metadata": {},
   "outputs": [
    {
     "data": {
      "text/html": [
       "<div>\n",
       "<style scoped>\n",
       "    .dataframe tbody tr th:only-of-type {\n",
       "        vertical-align: middle;\n",
       "    }\n",
       "\n",
       "    .dataframe tbody tr th {\n",
       "        vertical-align: top;\n",
       "    }\n",
       "\n",
       "    .dataframe thead th {\n",
       "        text-align: right;\n",
       "    }\n",
       "</style>\n",
       "<table border=\"1\" class=\"dataframe\">\n",
       "  <thead>\n",
       "    <tr style=\"text-align: right;\">\n",
       "      <th></th>\n",
       "      <th>Slope</th>\n",
       "      <th>log(Slope)</th>\n",
       "    </tr>\n",
       "  </thead>\n",
       "  <tbody>\n",
       "    <tr>\n",
       "      <th>0</th>\n",
       "      <td>2207128.6</td>\n",
       "      <td>2.994749</td>\n",
       "    </tr>\n",
       "    <tr>\n",
       "      <th>1</th>\n",
       "      <td>35252632.6</td>\n",
       "      <td>2.998681</td>\n",
       "    </tr>\n",
       "    <tr>\n",
       "      <th>2</th>\n",
       "      <td>563796376.6</td>\n",
       "      <td>2.999670</td>\n",
       "    </tr>\n",
       "  </tbody>\n",
       "</table>\n",
       "</div>"
      ],
      "text/plain": [
       "        Slope   log(Slope) \n",
       "0    2207128.6     2.994749\n",
       "1   35252632.6     2.998681\n",
       "2  563796376.6     2.999670"
      ]
     },
     "execution_count": 12,
     "metadata": {},
     "output_type": "execute_result"
    }
   ],
   "source": [
    "df_slope.to_csv('Cubic_slope.csv')\n",
    "df_slope"
   ]
  },
  {
   "cell_type": "markdown",
   "metadata": {},
   "source": [
    "## Different Powers Algorithm\n",
    "A different power Algorithm is one that the cost function is of the form:\n",
    "$$T(n)=an^0.5+b, $$\n",
    "where $a$ and $b$ are real numbers.\n",
    "\n"
   ]
  },
  {
   "cell_type": "code",
   "execution_count": 13,
   "metadata": {},
   "outputs": [
    {
     "data": {
      "image/png": "[encoded data removed]",
      "text/plain": [
       "<Figure size 864x216 with 2 Axes>"
      ]
     },
     "metadata": {
      "needs_background": "light"
     },
     "output_type": "display_data"
    }
   ],
   "source": [
    "T=2*n**0.5+12\n",
    "Analysis_of_Algorithm(n,T)"
   ]
  },
  {
   "cell_type": "code",
   "execution_count": 14,
   "metadata": {},
   "outputs": [
    {
     "data": {
      "text/html": [
       "<div>\n",
       "<style scoped>\n",
       "    .dataframe tbody tr th:only-of-type {\n",
       "        vertical-align: middle;\n",
       "    }\n",
       "\n",
       "    .dataframe tbody tr th {\n",
       "        vertical-align: top;\n",
       "    }\n",
       "\n",
       "    .dataframe thead th {\n",
       "        text-align: right;\n",
       "    }\n",
       "</style>\n",
       "<table border=\"1\" class=\"dataframe\">\n",
       "  <thead>\n",
       "    <tr style=\"text-align: right;\">\n",
       "      <th></th>\n",
       "      <th>n</th>\n",
       "      <th>T(n)</th>\n",
       "      <th>log2(n)</th>\n",
       "      <th>log2(T(n))</th>\n",
       "    </tr>\n",
       "  </thead>\n",
       "  <tbody>\n",
       "    <tr>\n",
       "      <th>0</th>\n",
       "      <td>1024</td>\n",
       "      <td>76.0</td>\n",
       "      <td>10.0</td>\n",
       "      <td>6.247928</td>\n",
       "    </tr>\n",
       "    <tr>\n",
       "      <th>1</th>\n",
       "      <td>4096</td>\n",
       "      <td>140.0</td>\n",
       "      <td>12.0</td>\n",
       "      <td>7.129283</td>\n",
       "    </tr>\n",
       "    <tr>\n",
       "      <th>2</th>\n",
       "      <td>16384</td>\n",
       "      <td>268.0</td>\n",
       "      <td>14.0</td>\n",
       "      <td>8.066089</td>\n",
       "    </tr>\n",
       "    <tr>\n",
       "      <th>3</th>\n",
       "      <td>65536</td>\n",
       "      <td>524.0</td>\n",
       "      <td>16.0</td>\n",
       "      <td>9.033423</td>\n",
       "    </tr>\n",
       "  </tbody>\n",
       "</table>\n",
       "</div>"
      ],
      "text/plain": [
       "      n   T(n)   log2(n)  log2(T(n))\n",
       "0   1024   76.0     10.0    6.247928\n",
       "1   4096  140.0     12.0    7.129283\n",
       "2  16384  268.0     14.0    8.066089\n",
       "3  65536  524.0     16.0    9.033423"
      ]
     },
     "execution_count": 14,
     "metadata": {},
     "output_type": "execute_result"
    }
   ],
   "source": [
    "df, df_slope=Analysis_of_Algorithm_Table(n,T)\n",
    "df"
   ]
  },
  {
   "cell_type": "code",
   "execution_count": 15,
   "metadata": {},
   "outputs": [
    {
     "data": {
      "text/html": [
       "<div>\n",
       "<style scoped>\n",
       "    .dataframe tbody tr th:only-of-type {\n",
       "        vertical-align: middle;\n",
       "    }\n",
       "\n",
       "    .dataframe tbody tr th {\n",
       "        vertical-align: top;\n",
       "    }\n",
       "\n",
       "    .dataframe thead th {\n",
       "        text-align: right;\n",
       "    }\n",
       "</style>\n",
       "<table border=\"1\" class=\"dataframe\">\n",
       "  <thead>\n",
       "    <tr style=\"text-align: right;\">\n",
       "      <th></th>\n",
       "      <th>Slope</th>\n",
       "      <th>log(Slope)</th>\n",
       "    </tr>\n",
       "  </thead>\n",
       "  <tbody>\n",
       "    <tr>\n",
       "      <th>0</th>\n",
       "      <td>0.020833</td>\n",
       "      <td>0.440678</td>\n",
       "    </tr>\n",
       "    <tr>\n",
       "      <th>1</th>\n",
       "      <td>0.010417</td>\n",
       "      <td>0.468403</td>\n",
       "    </tr>\n",
       "    <tr>\n",
       "      <th>2</th>\n",
       "      <td>0.005208</td>\n",
       "      <td>0.483667</td>\n",
       "    </tr>\n",
       "  </tbody>\n",
       "</table>\n",
       "</div>"
      ],
      "text/plain": [
       "     Slope   log(Slope) \n",
       "0  0.020833     0.440678\n",
       "1  0.010417     0.468403\n",
       "2  0.005208     0.483667"
      ]
     },
     "execution_count": 15,
     "metadata": {},
     "output_type": "execute_result"
    }
   ],
   "source": [
    "df_slope"
   ]
  },
  {
   "cell_type": "markdown",
   "metadata": {},
   "source": [
    "## It does not work so well for Log Algorithms\n",
    "A log Algorithm is one that the cost function is of the form:\n",
    "$$T(n)=an^0.5+b, $$\n",
    "where $a$ and $b$ are real numbers.\n",
    "\n",
    "\n"
   ]
  },
  {
   "cell_type": "code",
   "execution_count": 16,
   "metadata": {},
   "outputs": [
    {
     "data": {
      "image/png": "[encoded data removed]",
      "text/plain": [
       "<Figure size 864x216 with 2 Axes>"
      ]
     },
     "metadata": {
      "needs_background": "light"
     },
     "output_type": "display_data"
    }
   ],
   "source": [
    "T=np.log(n)+1\n",
    "Analysis_of_Algorithm(n,T)"
   ]
  },
  {
   "cell_type": "code",
   "execution_count": 17,
   "metadata": {},
   "outputs": [
    {
     "data": {
      "text/html": [
       "<div>\n",
       "<style scoped>\n",
       "    .dataframe tbody tr th:only-of-type {\n",
       "        vertical-align: middle;\n",
       "    }\n",
       "\n",
       "    .dataframe tbody tr th {\n",
       "        vertical-align: top;\n",
       "    }\n",
       "\n",
       "    .dataframe thead th {\n",
       "        text-align: right;\n",
       "    }\n",
       "</style>\n",
       "<table border=\"1\" class=\"dataframe\">\n",
       "  <thead>\n",
       "    <tr style=\"text-align: right;\">\n",
       "      <th></th>\n",
       "      <th>n</th>\n",
       "      <th>T(n)</th>\n",
       "      <th>log2(n)</th>\n",
       "      <th>log2(T(n))</th>\n",
       "    </tr>\n",
       "  </thead>\n",
       "  <tbody>\n",
       "    <tr>\n",
       "      <th>0</th>\n",
       "      <td>1024</td>\n",
       "      <td>7.93147</td>\n",
       "      <td>10.0</td>\n",
       "      <td>2.987589</td>\n",
       "    </tr>\n",
       "    <tr>\n",
       "      <th>1</th>\n",
       "      <td>4096</td>\n",
       "      <td>9.31777</td>\n",
       "      <td>12.0</td>\n",
       "      <td>3.219984</td>\n",
       "    </tr>\n",
       "    <tr>\n",
       "      <th>2</th>\n",
       "      <td>16384</td>\n",
       "      <td>10.70406</td>\n",
       "      <td>14.0</td>\n",
       "      <td>3.420086</td>\n",
       "    </tr>\n",
       "    <tr>\n",
       "      <th>3</th>\n",
       "      <td>65536</td>\n",
       "      <td>12.09035</td>\n",
       "      <td>16.0</td>\n",
       "      <td>3.595785</td>\n",
       "    </tr>\n",
       "  </tbody>\n",
       "</table>\n",
       "</div>"
      ],
      "text/plain": [
       "      n      T(n)   log2(n)  log2(T(n))\n",
       "0   1024   7.93147     10.0    2.987589\n",
       "1   4096   9.31777     12.0    3.219984\n",
       "2  16384  10.70406     14.0    3.420086\n",
       "3  65536  12.09035     16.0    3.595785"
      ]
     },
     "execution_count": 17,
     "metadata": {},
     "output_type": "execute_result"
    }
   ],
   "source": [
    "df, df_slope=Analysis_of_Algorithm_Table(n,T)\n",
    "df"
   ]
  },
  {
   "cell_type": "code",
   "execution_count": 18,
   "metadata": {},
   "outputs": [
    {
     "data": {
      "text/html": [
       "<div>\n",
       "<style scoped>\n",
       "    .dataframe tbody tr th:only-of-type {\n",
       "        vertical-align: middle;\n",
       "    }\n",
       "\n",
       "    .dataframe tbody tr th {\n",
       "        vertical-align: top;\n",
       "    }\n",
       "\n",
       "    .dataframe thead th {\n",
       "        text-align: right;\n",
       "    }\n",
       "</style>\n",
       "<table border=\"1\" class=\"dataframe\">\n",
       "  <thead>\n",
       "    <tr style=\"text-align: right;\">\n",
       "      <th></th>\n",
       "      <th>Slope</th>\n",
       "      <th>log(Slope)</th>\n",
       "    </tr>\n",
       "  </thead>\n",
       "  <tbody>\n",
       "    <tr>\n",
       "      <th>0</th>\n",
       "      <td>0.000451</td>\n",
       "      <td>0.116198</td>\n",
       "    </tr>\n",
       "    <tr>\n",
       "      <th>1</th>\n",
       "      <td>0.000113</td>\n",
       "      <td>0.100051</td>\n",
       "    </tr>\n",
       "    <tr>\n",
       "      <th>2</th>\n",
       "      <td>0.000028</td>\n",
       "      <td>0.087849</td>\n",
       "    </tr>\n",
       "  </tbody>\n",
       "</table>\n",
       "</div>"
      ],
      "text/plain": [
       "     Slope   log(Slope) \n",
       "0  0.000451     0.116198\n",
       "1  0.000113     0.100051\n",
       "2  0.000028     0.087849"
      ]
     },
     "execution_count": 18,
     "metadata": {},
     "output_type": "execute_result"
    }
   ],
   "source": [
    "df_slope"
   ]
  },
  {
   "cell_type": "code",
   "execution_count": null,
   "metadata": {},
   "outputs": [],
   "source": []
  }
 ],
 "metadata": {
  "kernelspec": {
   "display_name": "Python 3",
   "language": "python",
   "name": "python3"
  },
  "language_info": {
   "codemirror_mode": {
    "name": "ipython",
    "version": 3
   },
   "file_extension": ".py",
   "mimetype": "text/x-python",
   "name": "python",
   "nbconvert_exporter": "python",
   "pygments_lexer": "ipython3",
   "version": "3.7.9"
  }
 },
 "nbformat": 4,
 "nbformat_minor": 2
}
