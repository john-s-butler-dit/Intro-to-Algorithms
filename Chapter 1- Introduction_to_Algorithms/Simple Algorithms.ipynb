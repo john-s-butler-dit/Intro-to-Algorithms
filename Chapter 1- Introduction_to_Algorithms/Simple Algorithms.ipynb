{
 "cells": [
  {
   "cell_type": "code",
   "execution_count": 4,
   "metadata": {},
   "outputs": [],
   "source": [
    "import numpy as np\n",
    "import math \n",
    "\n",
    "%matplotlib inline\n",
    "import matplotlib.pyplot as plt # side-stepping mpl backend\n",
    "import matplotlib.gridspec as gridspec # subplots\n",
    "import warnings\n",
    "\n",
    "warnings.filterwarnings(\"ignore\")\n",
    "class ListTable(list):\n",
    "    \"\"\" Overridden list class which takes a 2-dimensional list of \n",
    "        the form [[1,2,3],[4,5,6]], and renders an HTML Table in \n",
    "        IPython Notebook. \"\"\"\n",
    "    \n",
    "    def _repr_html_(self):\n",
    "        html = [\"<table>\"]\n",
    "        for row in self:\n",
    "            html.append(\"<tr>\")\n",
    "            \n",
    "            for col in row:\n",
    "                html.append(\"<td>{0}</td>\".format(col))\n",
    "            \n",
    "            html.append(\"</tr>\")\n",
    "        html.append(\"</table>\")\n",
    "        return ''.join(html)"
   ]
  },
  {
   "cell_type": "markdown",
   "metadata": {},
   "source": [
    "## Example 1 \n",
    "   The mathematical expression\n",
    "\n",
    "$$ \\sum_{i=0}^{6} 3i, $$\n",
    "can be expanded as\n",
    "$$ \\sum_{i=0}^{6} 3i=3(0)+3(1)+3(2)+3(3)+3(4)+3(5)+3(6), $$\n",
    "or can be written in tabular form:\n",
    "\n",
    "|i|0|1|2|3|4|5|6|\n",
    "|--|--|--|--|--|--|--|--|\n",
    "|3i|3(0)|3(1)|3(2)|3(3)|3(4)|3(5)|3(6)|\n",
    "\n",
    "\n",
    "where the bottom row is summed giving,\n",
    "$$\\sum_{i=0}^{6} 3i=63.$$"
   ]
  },
  {
   "cell_type": "code",
   "execution_count": 5,
   "metadata": {},
   "outputs": [
    {
     "name": "stdout",
     "output_type": "stream",
     "text": [
      "63\n"
     ]
    }
   ],
   "source": [
    "# Setting up the inital Sum value\n",
    "Sum=0\n",
    "\n",
    "# For loop from 0 to 6 with steps of 1\n",
    "for i in range(0,7):\n",
    "    Sum=Sum+3*i\n",
    "    \n",
    "    \n",
    "print(Sum)"
   ]
  },
  {
   "cell_type": "code",
   "execution_count": 6,
   "metadata": {},
   "outputs": [
    {
     "data": {
      "text/html": [
       "<table><tr><td>Loop Count</td><td>i</td><td>Sum</td></tr><tr><td>0</td><td>0</td><td>0</td></tr><tr><td>1</td><td>1</td><td>3</td></tr><tr><td>2</td><td>2</td><td>9</td></tr><tr><td>3</td><td>3</td><td>18</td></tr><tr><td>4</td><td>4</td><td>30</td></tr><tr><td>5</td><td>5</td><td>45</td></tr><tr><td>6</td><td>6</td><td>63</td></tr></table>"
      ],
      "text/plain": [
       "[['Loop Count', 'i', 'Sum'],\n",
       " [0, 0, 0],\n",
       " [1, 1, 3],\n",
       " [2, 2, 9],\n",
       " [3, 3, 18],\n",
       " [4, 4, 30],\n",
       " [5, 5, 45],\n",
       " [6, 6, 63]]"
      ]
     },
     "execution_count": 6,
     "metadata": {},
     "output_type": "execute_result"
    }
   ],
   "source": [
    "Sum=0\n",
    "i=0\n",
    "table = ListTable()\n",
    "table.append(['Loop Count', 'i','Sum'])\n",
    "for Count in range (0,7):\n",
    "    table.append([round(Count,3), round(i,3), round(Sum,3)])\n",
    "    i=i+1\n",
    "    Sum=Sum+3*i\n",
    "    \n",
    "table\n",
    "\n"
   ]
  },
  {
   "cell_type": "markdown",
   "metadata": {},
   "source": [
    "## Example 2\n",
    "   The mathematical expression\n",
    "\n",
    "$$ \\sum_{i=0}^{6} 3i, $$\n",
    "can be expanded as\n",
    "$$ \\sum_{i=0}^{6} 3i=3(0)+3(1)+3(2)+3(3)+3(4)+3(5)+3(6), $$\n",
    "or can be written in tabular form:\n",
    "\n",
    "|i|0|1|2|3|4|5|6|\n",
    "|--|--|--|--|--|--|--|--|\n",
    "|3i|3(0)|3(1)|3(2)|3(3)|3(4)|3(5)|3(6)|\n",
    "\n",
    "\n",
    "where the bottom row is summed giving,\n",
    "$$\\sum_{i=0}^{6} 3i=63.$$"
   ]
  },
  {
   "cell_type": "code",
   "execution_count": 10,
   "metadata": {},
   "outputs": [
    {
     "data": {
      "text/html": [
       "<table><tr><td>Loop Count</td><td>j</td><td>Sum</td></tr><tr><td>1</td><td>-3</td><td>10.5</td></tr><tr><td>2</td><td>-2</td><td>11.5</td></tr><tr><td>3</td><td>-1</td><td>13.0</td></tr><tr><td>4</td><td>0</td><td>15.0</td></tr><tr><td>5</td><td>1</td><td>17.5</td></tr><tr><td>6</td><td>2</td><td>20.5</td></tr></table>"
      ],
      "text/plain": [
       "[['Loop Count', 'j', 'Sum'],\n",
       " [1, -3, 10.5],\n",
       " [2, -2, 11.5],\n",
       " [3, -1, 13.0],\n",
       " [4, 0, 15.0],\n",
       " [5, 1, 17.5],\n",
       " [6, 2, 20.5]]"
      ]
     },
     "execution_count": 10,
     "metadata": {},
     "output_type": "execute_result"
    }
   ],
   "source": [
    "Sum=10\n",
    "\n",
    "table = ListTable()\n",
    "table.append(['Loop Count', 'j','Sum'])\n",
    "Count=0\n",
    "\n",
    "for j in range(-3,3):\n",
    "    Sum=Sum+(2+j/2)\n",
    "    Count=Count+1\n",
    "    table.append([round(Count,3), round(j,3), round(Sum,3)])\n",
    "table"
   ]
  },
  {
   "cell_type": "markdown",
   "metadata": {},
   "source": [
    "## Example 2\n",
    "   The mathematical expression\n",
    "\n",
    "$$ \\sum_{i=0}^{6} 3i, $$\n",
    "can be expanded as\n",
    "$$ \\sum_{i=0}^{6} 3i=3(0)+3(1)+3(2)+3(3)+3(4)+3(5)+3(6), $$\n",
    "or can be written in tabular form:\n",
    "\n",
    "|i|0|1|2|3|4|5|6|\n",
    "|--|--|--|--|--|--|--|--|\n",
    "|3i|3(0)|3(1)|3(2)|3(3)|3(4)|3(5)|3(6)|\n",
    "\n",
    "\n",
    "where the bottom row is summed giving,\n",
    "$$\\sum_{i=0}^{6} 3i=63.$$"
   ]
  },
  {
   "cell_type": "code",
   "execution_count": 11,
   "metadata": {},
   "outputs": [
    {
     "data": {
      "text/html": [
       "<table><tr><td>Loop Count</td><td>i</td><td>Sum</td></tr><tr><td>1</td><td>0</td><td>-3</td></tr><tr><td>2</td><td>1</td><td>-5</td></tr><tr><td>3</td><td>2</td><td>-9</td></tr><tr><td>4</td><td>3</td><td>-15</td></tr><tr><td>5</td><td>4</td><td>-23</td></tr><tr><td> </td><td>j</td><td>Sum</td></tr><tr><td>6</td><td>-10</td><td>58</td></tr><tr><td>7</td><td>-9</td><td>122</td></tr><tr><td>8</td><td>-8</td><td>171</td></tr><tr><td>9</td><td>-7</td><td>207</td></tr><tr><td>10</td><td>-6</td><td>232</td></tr></table>"
      ],
      "text/plain": [
       "[['Loop Count', 'i', 'Sum'],\n",
       " [1, 0, -3],\n",
       " [2, 1, -5],\n",
       " [3, 2, -9],\n",
       " [4, 3, -15],\n",
       " [5, 4, -23],\n",
       " [' ', 'j', 'Sum'],\n",
       " [6, -10, 58],\n",
       " [7, -9, 122],\n",
       " [8, -8, 171],\n",
       " [9, -7, 207],\n",
       " [10, -6, 232]]"
      ]
     },
     "execution_count": 11,
     "metadata": {},
     "output_type": "execute_result"
    }
   ],
   "source": [
    "Sum=-3\n",
    "table = ListTable()\n",
    "table.append(['Loop Count', 'i','Sum'])\n",
    "\n",
    "Count=0\n",
    "for i in range(0,5):\n",
    "    Sum=Sum+(-2*i)\n",
    "    Count=Count+1\n",
    "    table.append([round(Count,3), round(i,3), round(Sum,3)])\n",
    " \n",
    "table.append([' ', 'j','Sum'])\n",
    "\n",
    "\n",
    "for j in range(-10,-5):\n",
    "    Sum=Sum+(j+1)*(j+1)\n",
    "    Count=Count+1\n",
    "    table.append([round(Count,3), round(j,3), round(Sum,3)])\n",
    "    \n",
    "    \n",
    "table\n",
    "\n"
   ]
  },
  {
   "cell_type": "markdown",
   "metadata": {},
   "source": [
    "## Example 2\n",
    "   The mathematical expression\n",
    "\n",
    "$$ \\sum_{i=0}^{6} 3i, $$\n",
    "can be expanded as\n",
    "$$ \\sum_{i=0}^{6} 3i=3(0)+3(1)+3(2)+3(3)+3(4)+3(5)+3(6), $$\n",
    "or can be written in tabular form:\n",
    "\n",
    "|i|0|1|2|3|4|5|6|\n",
    "|--|--|--|--|--|--|--|--|\n",
    "|3i|3(0)|3(1)|3(2)|3(3)|3(4)|3(5)|3(6)|\n",
    "\n",
    "\n",
    "where the bottom row is summed giving,\n",
    "$$\\sum_{i=0}^{6} 3i=63.$$"
   ]
  },
  {
   "cell_type": "code",
   "execution_count": 13,
   "metadata": {},
   "outputs": [
    {
     "data": {
      "text/html": [
       "<table><tr><td>Loop Count</td><td>i</td><td>j</td><td>Sum</td></tr><tr><td>1</td><td>0</td><td>-10</td><td>-33</td></tr><tr><td>2</td><td>0</td><td>-9</td><td>-60</td></tr><tr><td>3</td><td>0</td><td>-8</td><td>-84</td></tr><tr><td>4</td><td>0</td><td>-7</td><td>-105</td></tr><tr><td>5</td><td>0</td><td>-6</td><td>-123</td></tr><tr><td>6</td><td>1</td><td>-10</td><td>-155</td></tr><tr><td>7</td><td>1</td><td>-9</td><td>-184</td></tr><tr><td>8</td><td>1</td><td>-8</td><td>-210</td></tr><tr><td>9</td><td>1</td><td>-7</td><td>-233</td></tr><tr><td>10</td><td>1</td><td>-6</td><td>-253</td></tr><tr><td>11</td><td>2</td><td>-10</td><td>-287</td></tr><tr><td>12</td><td>2</td><td>-9</td><td>-318</td></tr><tr><td>13</td><td>2</td><td>-8</td><td>-346</td></tr><tr><td>14</td><td>2</td><td>-7</td><td>-371</td></tr><tr><td>15</td><td>2</td><td>-6</td><td>-393</td></tr><tr><td>16</td><td>3</td><td>-10</td><td>-429</td></tr><tr><td>17</td><td>3</td><td>-9</td><td>-462</td></tr><tr><td>18</td><td>3</td><td>-8</td><td>-492</td></tr><tr><td>19</td><td>3</td><td>-7</td><td>-519</td></tr><tr><td>20</td><td>3</td><td>-6</td><td>-543</td></tr><tr><td>21</td><td>4</td><td>-10</td><td>-581</td></tr><tr><td>22</td><td>4</td><td>-9</td><td>-616</td></tr><tr><td>23</td><td>4</td><td>-8</td><td>-648</td></tr><tr><td>24</td><td>4</td><td>-7</td><td>-677</td></tr><tr><td>25</td><td>4</td><td>-6</td><td>-703</td></tr></table>"
      ],
      "text/plain": [
       "[['Loop Count', 'i', 'j', 'Sum'],\n",
       " [1, 0, -10, -33],\n",
       " [2, 0, -9, -60],\n",
       " [3, 0, -8, -84],\n",
       " [4, 0, -7, -105],\n",
       " [5, 0, -6, -123],\n",
       " [6, 1, -10, -155],\n",
       " [7, 1, -9, -184],\n",
       " [8, 1, -8, -210],\n",
       " [9, 1, -7, -233],\n",
       " [10, 1, -6, -253],\n",
       " [11, 2, -10, -287],\n",
       " [12, 2, -9, -318],\n",
       " [13, 2, -8, -346],\n",
       " [14, 2, -7, -371],\n",
       " [15, 2, -6, -393],\n",
       " [16, 3, -10, -429],\n",
       " [17, 3, -9, -462],\n",
       " [18, 3, -8, -492],\n",
       " [19, 3, -7, -519],\n",
       " [20, 3, -6, -543],\n",
       " [21, 4, -10, -581],\n",
       " [22, 4, -9, -616],\n",
       " [23, 4, -8, -648],\n",
       " [24, 4, -7, -677],\n",
       " [25, 4, -6, -703]]"
      ]
     },
     "execution_count": 13,
     "metadata": {},
     "output_type": "execute_result"
    }
   ],
   "source": [
    "Sum=-3\n",
    "table = ListTable()\n",
    "table.append(['Loop Count', 'i','j','Sum'])\n",
    "\n",
    "Count=0\n",
    "j=0\n",
    "for i in range(0,5):\n",
    "    for j in range(-10,-5):\n",
    "\n",
    "        Sum=Sum+(-2*i+3*j)\n",
    "        Count=Count+1\n",
    "        table.append([round(Count,3), round(i,3),round(j,3), round(Sum,3)])    \n",
    "    \n",
    "table\n",
    "\n",
    "\n"
   ]
  },
  {
   "cell_type": "code",
   "execution_count": null,
   "metadata": {},
   "outputs": [],
   "source": []
  }
 ],
 "metadata": {
  "kernelspec": {
   "display_name": "Python 3",
   "language": "python",
   "name": "python3"
  },
  "language_info": {
   "codemirror_mode": {
    "name": "ipython",
    "version": 3
   },
   "file_extension": ".py",
   "mimetype": "text/x-python",
   "name": "python",
   "nbconvert_exporter": "python",
   "pygments_lexer": "ipython3",
   "version": "3.7.9"
  }
 },
 "nbformat": 4,
 "nbformat_minor": 2
}
