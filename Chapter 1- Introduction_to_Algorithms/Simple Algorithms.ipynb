{
 "cells": [
  {
   "cell_type": "code",
   "execution_count": 12,
   "metadata": {},
   "outputs": [],
   "source": [
    "import numpy as np\n",
    "import math \n",
    "\n",
    "%matplotlib inline\n",
    "import matplotlib.pyplot as plt # side-stepping mpl backend\n",
    "import matplotlib.gridspec as gridspec # subplots\n",
    "import warnings\n",
    "\n",
    "warnings.filterwarnings(\"ignore\")\n",
    "class ListTable(list):\n",
    "    \"\"\" Overridden list class which takes a 2-dimensional list of \n",
    "        the form [[1,2,3],[4,5,6]], and renders an HTML Table in \n",
    "        IPython Notebook. \"\"\"\n",
    "    \n",
    "    def _repr_html_(self):\n",
    "        html = [\"<table>\"]\n",
    "        for row in self:\n",
    "            html.append(\"<tr>\")\n",
    "            \n",
    "            for col in row:\n",
    "                html.append(\"<td>{0}</td>\".format(col))\n",
    "            \n",
    "            html.append(\"</tr>\")\n",
    "        html.append(\"</table>\")\n",
    "        return ''.join(html)"
   ]
  },
  {
   "cell_type": "markdown",
   "metadata": {},
   "source": [
    "## Example 1 \n",
    "   The mathematical expression\n",
    "\n",
    "$$ \\sum_{i=0}^{6} 3i, $$\n",
    "can be expanded as\n",
    "$$ \\sum_{i=0}^{6} 3i=3(0)+3(1)+3(2)+3(3)+3(4)+3(5)+3(6), $$\n",
    "or can be written in tabular form:\n",
    "\n",
    "|i|0|1|2|3|4|5|6|\n",
    "|--|--|--|--|--|--|--|--|\n",
    "|3i|3(0)|3(1)|3(2)|3(3)|3(4)|3(5)|3(6)|\n",
    "\n",
    "\n",
    "where the bottom row is summed giving,\n",
    "$$\\sum_{i=0}^{6} 3i=63.$$"
   ]
  },
  {
   "cell_type": "code",
   "execution_count": 13,
   "metadata": {},
   "outputs": [
    {
     "name": "stdout",
     "output_type": "stream",
     "text": [
      "63\n"
     ]
    }
   ],
   "source": [
    "# Setting up the inital Sum value\n",
    "Sum=0\n",
    "\n",
    "# For loop from 0 to 6 with steps of 1\n",
    "for i in range(0,7):\n",
    "    Sum=Sum+3*i\n",
    "    \n",
    "    \n",
    "print(Sum)"
   ]
  },
  {
   "cell_type": "code",
   "execution_count": 15,
   "metadata": {},
   "outputs": [
    {
     "data": {
      "text/html": [
       "<table><tr><td>Loop Count</td><td>i</td><td>Sum</td></tr><tr><td>0</td><td>0</td><td>0</td></tr><tr><td>1</td><td>1</td><td>3</td></tr><tr><td>2</td><td>2</td><td>9</td></tr><tr><td>3</td><td>3</td><td>18</td></tr><tr><td>4</td><td>4</td><td>30</td></tr><tr><td>5</td><td>5</td><td>45</td></tr><tr><td>6</td><td>6</td><td>63</td></tr></table>"
      ],
      "text/plain": [
       "[['Loop Count', 'i', 'Sum'],\n",
       " [0, 0, 0],\n",
       " [1, 1, 3],\n",
       " [2, 2, 9],\n",
       " [3, 3, 18],\n",
       " [4, 4, 30],\n",
       " [5, 5, 45],\n",
       " [6, 6, 63]]"
      ]
     },
     "execution_count": 15,
     "metadata": {},
     "output_type": "execute_result"
    }
   ],
   "source": [
    "Sum=0\n",
    "i=0\n",
    "table = ListTable()\n",
    "table.append(['Loop Count', 'i','Sum'])\n",
    "for Count in range (0,7):\n",
    "    table.append([round(Count,3), round(i,3), round(Sum,3)])\n",
    "    i=i+1\n",
    "    Sum=Sum+3*i\n",
    "    \n",
    "table"
   ]
  },
  {
   "cell_type": "code",
   "execution_count": null,
   "metadata": {},
   "outputs": [],
   "source": []
  },
  {
   "cell_type": "code",
   "execution_count": 10,
   "metadata": {},
   "outputs": [
    {
     "name": "stdout",
     "output_type": "stream",
     "text": [
      "10.5\n",
      "-3\n",
      "11.5\n",
      "-2\n",
      "13.0\n",
      "-1\n",
      "15.0\n",
      "0\n",
      "17.5\n",
      "1\n",
      "20.5\n",
      "2\n"
     ]
    },
    {
     "data": {
      "text/plain": [
       "20.5"
      ]
     },
     "execution_count": 10,
     "metadata": {},
     "output_type": "execute_result"
    }
   ],
   "source": [
    "Sum=10\n",
    "\n",
    "for j in range(-3,3):\n",
    "    Sum=Sum+(2+j/2)\n",
    "    print(Sum)\n",
    "    print(j)\n",
    "    \n",
    "Sum"
   ]
  },
  {
   "cell_type": "code",
   "execution_count": null,
   "metadata": {},
   "outputs": [],
   "source": []
  }
 ],
 "metadata": {
  "kernelspec": {
   "display_name": "Python 3",
   "language": "python",
   "name": "python3"
  },
  "language_info": {
   "codemirror_mode": {
    "name": "ipython",
    "version": 3
   },
   "file_extension": ".py",
   "mimetype": "text/x-python",
   "name": "python",
   "nbconvert_exporter": "python",
   "pygments_lexer": "ipython3",
   "version": "3.6.8"
  }
 },
 "nbformat": 4,
 "nbformat_minor": 2
}
