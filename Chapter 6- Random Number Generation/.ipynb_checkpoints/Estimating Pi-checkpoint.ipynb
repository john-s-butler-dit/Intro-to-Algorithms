{
 "cells": [
  {
   "cell_type": "markdown",
   "metadata": {},
   "source": [
    "# The Monte Carlo Method\n",
    "Here is an implementation of random numbers to generate an estimate of $\\pi$."
   ]
  },
  {
   "cell_type": "code",
   "execution_count": 1,
   "metadata": {},
   "outputs": [
    {
     "data": {
      "text/plain": [
       "<Figure size 640x480 with 1 Axes>"
      ]
     },
     "metadata": {},
     "output_type": "display_data"
    }
   ],
   "source": [
    "import matplotlib.pyplot as plt\n",
    "import numpy as np\n",
    "\n",
    "# Fixing random state for reproducibility\n",
    "np.random.seed(19680801)\n",
    "\n",
    "\n",
    "N = 100000\n",
    "\n",
    "x = np.random.rand(N)*2-1\n",
    "y = np.random.rand(N)*2-1\n",
    "r = (x * x + y * y)\n",
    "fig = plt.figure()   \n",
    "plt.scatter(x[r<=1], y[r<=1], marker='^',c=\"r\")\n",
    "plt.scatter(x[r>1], y[r>1],  marker='o',c=\"b\")\n",
    "plt.axis('equal')\n",
    "# Show the boundary between the regions:\n",
    "theta = np.arange(0, 2*np.pi , 0.01)\n",
    "plt.plot(np.cos(theta), np.sin(theta))\n",
    "area=sum(r<=1)/N\n",
    "area=4*area\n",
    "plt.title('Pi= %.5f, N =%.0f'%(area,N))\n",
    "plt.show()"
   ]
  },
  {
   "cell_type": "markdown",
   "metadata": {},
   "source": [
    "## Reference\n",
    "1. Lynch P, The Monte-Carlo Method https://thatsmaths.com/2020/05/28/the-monte-carlo-method/"
   ]
  },
  {
   "cell_type": "code",
   "execution_count": null,
   "metadata": {},
   "outputs": [],
   "source": []
  }
 ],
 "metadata": {
  "kernelspec": {
   "display_name": "Python 3",
   "language": "python",
   "name": "python3"
  },
  "language_info": {
   "codemirror_mode": {
    "name": "ipython",
    "version": 3
   },
   "file_extension": ".py",
   "mimetype": "text/x-python",
   "name": "python",
   "nbconvert_exporter": "python",
   "pygments_lexer": "ipython3",
   "version": "3.7.3"
  }
 },
 "nbformat": 4,
 "nbformat_minor": 2
}
