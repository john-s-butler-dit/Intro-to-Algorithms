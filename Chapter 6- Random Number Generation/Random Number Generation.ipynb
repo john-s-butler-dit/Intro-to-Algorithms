{
 "cells": [
  {
   "cell_type": "markdown",
   "metadata": {},
   "source": [
    "# Linear Congruential Method\n",
    "The Linear Congruential method generates a list of pseudorandom numbers.\n",
    "The for\n",
    "$$ X_{i+1}=aX_i+c \\% m$$\n",
    "The Linear Congruential Method (LCG) has full period if and only if the following three conditions hold (Hull and Dobell, 1962):\n",
    "\n",
    "1. The only positive integer that (exactly) divides both m and c is 1\n",
    "\n",
    "2. If q is a prime number that divides m, then q divides a-1\n",
    "\n",
    "3. If 4 divides m, then 4 divides a-1 \n"
   ]
  },
  {
   "cell_type": "code",
   "execution_count": 2,
   "metadata": {},
   "outputs": [],
   "source": [
    "import numpy as np\n",
    "import matplotlib.pyplot as plt"
   ]
  },
  {
   "cell_type": "code",
   "execution_count": 3,
   "metadata": {},
   "outputs": [
    {
     "name": "stdout",
     "output_type": "stream",
     "text": [
      "[ 4. 10. 21.  5. 17.  8.  7.  0. 13. 11. 28. 23. 19. 22. 12.  4. 10. 21.\n",
      "  5. 17.  8.  7.  0. 13. 11. 28. 23. 19. 22. 12.  4.]\n"
     ]
    },
    {
     "data": {
      "text/plain": [
       "15"
      ]
     },
     "execution_count": 3,
     "metadata": {},
     "output_type": "execute_result"
    }
   ],
   "source": [
    "a=7\n",
    "c=13\n",
    "m=31\n",
    "X=np.zeros(m)\n",
    "X[0]=4\n",
    "A=np.arange(0,m)\n",
    "for i in range(0, m-1):\n",
    "    X[i+1]= (a*X[i]+c)%m\n",
    "    \n",
    "print(X)\n",
    "len(np.unique(X))"
   ]
  },
  {
   "cell_type": "code",
   "execution_count": null,
   "metadata": {},
   "outputs": [],
   "source": []
  }
 ],
 "metadata": {
  "kernelspec": {
   "display_name": "Python 3",
   "language": "python",
   "name": "python3"
  },
  "language_info": {
   "codemirror_mode": {
    "name": "ipython",
    "version": 3
   },
   "file_extension": ".py",
   "mimetype": "text/x-python",
   "name": "python",
   "nbconvert_exporter": "python",
   "pygments_lexer": "ipython3",
   "version": "3.6.8"
  }
 },
 "nbformat": 4,
 "nbformat_minor": 2
}
