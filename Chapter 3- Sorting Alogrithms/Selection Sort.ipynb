{
  "cells": [
    {
      "cell_type": "markdown",
      "metadata": {
        "id": "view-in-github",
        "colab_type": "text"
      },
      "source": [
        "<a href=\"https://colab.research.google.com/github/john-s-butler-dit/Intro-to-Algorithms/blob/master/Chapter%203-%20Sorting%20Alogrithms/Selection%20Sort.ipynb\" target=\"_parent\"><img src=\"https://colab.research.google.com/assets/colab-badge.svg\" alt=\"Open In Colab\"/></a>"
      ]
    },
    {
      "cell_type": "markdown",
      "metadata": {
        "id": "SnDtfNsmx_Iv"
      },
      "source": [
        "# Selection Sort"
      ]
    },
    {
      "cell_type": "code",
      "source": [
        "from IPython.display import YouTubeVideo\n",
        "\n",
        "YouTubeVideo('s43XTfgcq24')"
      ],
      "metadata": {
        "id": "QonrZbbQyQwf",
        "outputId": "d7cfe670-2b7f-48c4-9db1-2a551ec516fc",
        "colab": {
          "base_uri": "https://localhost:8080/",
          "height": 321
        }
      },
      "execution_count": 2,
      "outputs": [
        {
          "output_type": "execute_result",
          "data": {
            "text/plain": [
              "<IPython.lib.display.YouTubeVideo at 0x7f4268339f10>"
            ],
            "text/html": [
              "\n",
              "        <iframe\n",
              "            width=\"400\"\n",
              "            height=\"300\"\n",
              "            src=\"https://www.youtube.com/embed/s43XTfgcq24\"\n",
              "            frameborder=\"0\"\n",
              "            allowfullscreen\n",
              "        ></iframe>\n",
              "        "
            ],
            "image/jpeg": "[encoded data removed]"
          },
          "metadata": {},
          "execution_count": 2
        }
      ]
    },
    {
      "cell_type": "markdown",
      "source": [
        "## Selection Sort Maximum"
      ],
      "metadata": {
        "id": "mFT1KXMGykgL"
      }
    },
    {
      "cell_type": "code",
      "execution_count": 5,
      "metadata": {
        "id": "vVZ6xRnox_Iy"
      },
      "outputs": [],
      "source": [
        "\n",
        "def SelectionSortMax(a):\n",
        "    \n",
        "    n=len(a)\n",
        "    for passnum in range(n-1,0,-1):\n",
        "        \n",
        "        print('Pass Number ', passnum)\n",
        "        # Find the minimum element in remaining \n",
        "        # unsorted array\n",
        "        max_idx = passnum\n",
        "        for j in range(0, passnum):\n",
        "            if a[max_idx] < a[j]:\n",
        "                max_idx = j\n",
        "            print(a)\n",
        "        # Swap the found maximum element with \n",
        "        # the first element        \n",
        "        a[passnum], a[max_idx] = a[max_idx], a[passnum]\n",
        "    return a\n",
        "\n",
        "       "
      ]
    },
    {
      "cell_type": "code",
      "execution_count": 7,
      "metadata": {
        "id": "xoXazrTfx_I0",
        "outputId": "8f4d3f47-e5fc-4eac-e66f-f2cfc59236a0",
        "colab": {
          "base_uri": "https://localhost:8080/"
        }
      },
      "outputs": [
        {
          "output_type": "stream",
          "name": "stdout",
          "text": [
            "Pass Number  7\n",
            "[3, 2, 1, 5, 6, 8, 7, -2]\n",
            "[3, 2, 1, 5, 6, 8, 7, -2]\n",
            "[3, 2, 1, 5, 6, 8, 7, -2]\n",
            "[3, 2, 1, 5, 6, 8, 7, -2]\n",
            "[3, 2, 1, 5, 6, 8, 7, -2]\n",
            "[3, 2, 1, 5, 6, 8, 7, -2]\n",
            "[3, 2, 1, 5, 6, 8, 7, -2]\n",
            "Pass Number  6\n",
            "[3, 2, 1, 5, 6, -2, 7, 8]\n",
            "[3, 2, 1, 5, 6, -2, 7, 8]\n",
            "[3, 2, 1, 5, 6, -2, 7, 8]\n",
            "[3, 2, 1, 5, 6, -2, 7, 8]\n",
            "[3, 2, 1, 5, 6, -2, 7, 8]\n",
            "[3, 2, 1, 5, 6, -2, 7, 8]\n",
            "Pass Number  5\n",
            "[3, 2, 1, 5, 6, -2, 7, 8]\n",
            "[3, 2, 1, 5, 6, -2, 7, 8]\n",
            "[3, 2, 1, 5, 6, -2, 7, 8]\n",
            "[3, 2, 1, 5, 6, -2, 7, 8]\n",
            "[3, 2, 1, 5, 6, -2, 7, 8]\n",
            "Pass Number  4\n",
            "[3, 2, 1, 5, -2, 6, 7, 8]\n",
            "[3, 2, 1, 5, -2, 6, 7, 8]\n",
            "[3, 2, 1, 5, -2, 6, 7, 8]\n",
            "[3, 2, 1, 5, -2, 6, 7, 8]\n",
            "Pass Number  3\n",
            "[3, 2, 1, -2, 5, 6, 7, 8]\n",
            "[3, 2, 1, -2, 5, 6, 7, 8]\n",
            "[3, 2, 1, -2, 5, 6, 7, 8]\n",
            "Pass Number  2\n",
            "[-2, 2, 1, 3, 5, 6, 7, 8]\n",
            "[-2, 2, 1, 3, 5, 6, 7, 8]\n",
            "Pass Number  1\n",
            "[-2, 1, 2, 3, 5, 6, 7, 8]\n"
          ]
        },
        {
          "output_type": "execute_result",
          "data": {
            "text/plain": [
              "[-2, 1, 2, 3, 5, 6, 7, 8]"
            ]
          },
          "metadata": {},
          "execution_count": 7
        }
      ],
      "source": [
        "alist = [3,2,1,5,6,8,7,-2]\n",
        "SelectionSortMax(alist)"
      ]
    },
    {
      "cell_type": "markdown",
      "source": [
        "## Selection Sort Minimum"
      ],
      "metadata": {
        "id": "OBzuV_DHzFpA"
      }
    },
    {
      "cell_type": "code",
      "execution_count": 10,
      "metadata": {
        "id": "GRIprLJex_I1"
      },
      "outputs": [],
      "source": [
        "def SelectionSortMin(a):\n",
        "    for passnum in range(len(a)):\n",
        "        \n",
        "        print('Pass Number ', passnum)\n",
        "        # Find the minimum element in remaining \n",
        "        # unsorted array\n",
        "        min_idx = passnum\n",
        "        for j in range(passnum+1, len(a)):\n",
        "            if a[min_idx] > a[j]:\n",
        "                min_idx = j\n",
        "            print(a)\n",
        "        # Swap the found minimum element with \n",
        "        # the first element        \n",
        "        a[passnum], a[min_idx] = a[min_idx], a[passnum]\n",
        "    return a\n",
        "\n"
      ]
    },
    {
      "cell_type": "code",
      "execution_count": 12,
      "metadata": {
        "id": "Mqv2pDWSx_I2",
        "outputId": "61fee8e2-b492-45d5-a41f-3f4cffd16ddc",
        "colab": {
          "base_uri": "https://localhost:8080/"
        }
      },
      "outputs": [
        {
          "output_type": "stream",
          "name": "stdout",
          "text": [
            "Pass Number  0\n",
            "[3, 2, 1, 5, 6, 8, 7, -2]\n",
            "[3, 2, 1, 5, 6, 8, 7, -2]\n",
            "[3, 2, 1, 5, 6, 8, 7, -2]\n",
            "[3, 2, 1, 5, 6, 8, 7, -2]\n",
            "[3, 2, 1, 5, 6, 8, 7, -2]\n",
            "[3, 2, 1, 5, 6, 8, 7, -2]\n",
            "[3, 2, 1, 5, 6, 8, 7, -2]\n",
            "Pass Number  1\n",
            "[-2, 2, 1, 5, 6, 8, 7, 3]\n",
            "[-2, 2, 1, 5, 6, 8, 7, 3]\n",
            "[-2, 2, 1, 5, 6, 8, 7, 3]\n",
            "[-2, 2, 1, 5, 6, 8, 7, 3]\n",
            "[-2, 2, 1, 5, 6, 8, 7, 3]\n",
            "[-2, 2, 1, 5, 6, 8, 7, 3]\n",
            "Pass Number  2\n",
            "[-2, 1, 2, 5, 6, 8, 7, 3]\n",
            "[-2, 1, 2, 5, 6, 8, 7, 3]\n",
            "[-2, 1, 2, 5, 6, 8, 7, 3]\n",
            "[-2, 1, 2, 5, 6, 8, 7, 3]\n",
            "[-2, 1, 2, 5, 6, 8, 7, 3]\n",
            "Pass Number  3\n",
            "[-2, 1, 2, 5, 6, 8, 7, 3]\n",
            "[-2, 1, 2, 5, 6, 8, 7, 3]\n",
            "[-2, 1, 2, 5, 6, 8, 7, 3]\n",
            "[-2, 1, 2, 5, 6, 8, 7, 3]\n",
            "Pass Number  4\n",
            "[-2, 1, 2, 3, 6, 8, 7, 5]\n",
            "[-2, 1, 2, 3, 6, 8, 7, 5]\n",
            "[-2, 1, 2, 3, 6, 8, 7, 5]\n",
            "Pass Number  5\n",
            "[-2, 1, 2, 3, 5, 8, 7, 6]\n",
            "[-2, 1, 2, 3, 5, 8, 7, 6]\n",
            "Pass Number  6\n",
            "[-2, 1, 2, 3, 5, 6, 7, 8]\n",
            "Pass Number  7\n",
            "[-2, 1, 2, 3, 5, 6, 7, 8]\n"
          ]
        }
      ],
      "source": [
        "alist = [3,2,1,5,6,8,7,-2]\n",
        "SelectionSortMin(alist)\n",
        "print(alist)\n"
      ]
    },
    {
      "cell_type": "code",
      "execution_count": null,
      "metadata": {
        "id": "vJghmUjxx_I2"
      },
      "outputs": [],
      "source": []
    }
  ],
  "metadata": {
    "kernelspec": {
      "display_name": "Python 3 (ipykernel)",
      "language": "python",
      "name": "python3"
    },
    "language_info": {
      "codemirror_mode": {
        "name": "ipython",
        "version": 3
      },
      "file_extension": ".py",
      "mimetype": "text/x-python",
      "name": "python",
      "nbconvert_exporter": "python",
      "pygments_lexer": "ipython3",
      "version": "3.8.13"
    },
    "colab": {
      "provenance": [],
      "include_colab_link": true
    }
  },
  "nbformat": 4,
  "nbformat_minor": 0
}