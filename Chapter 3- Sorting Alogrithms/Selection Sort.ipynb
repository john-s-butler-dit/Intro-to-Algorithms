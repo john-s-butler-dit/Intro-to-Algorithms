{
 "cells": [
  {
   "cell_type": "markdown",
   "metadata": {},
   "source": [
    "# Selection Sort"
   ]
  },
  {
   "cell_type": "code",
   "execution_count": 13,
   "metadata": {},
   "outputs": [],
   "source": [
    "def SelectionSortMin(a):\n",
    "    for passnum in range(len(a)):\n",
    "        \n",
    "        print('Pass Number ', passnum)\n",
    "        # Find the minimum element in remaining \n",
    "        # unsorted array\n",
    "        min_idx = passnum\n",
    "        for j in range(passnum+1, len(a)):\n",
    "            if a[min_idx] > a[j]:\n",
    "                min_idx = j\n",
    "\n",
    "        # Swap the found minimum element with \n",
    "        # the first element        \n",
    "        a[passnum], a[min_idx] = a[min_idx], a[passnum]\n",
    "    return a\n",
    "\n",
    "def SelectionSortMax(a):\n",
    "    \n",
    "    n=len(a)\n",
    "    for passnum in range(n-1,0,-1):\n",
    "        \n",
    "        print('Pass Number ', passnum)\n",
    "        # Find the minimum element in remaining \n",
    "        # unsorted array\n",
    "        max_idx = passnum\n",
    "        for j in range(0, passnum):\n",
    "            if a[max_idx] < a[j]:\n",
    "                max_idx = j\n",
    "\n",
    "        # Swap the found maximum element with \n",
    "        # the first element        \n",
    "        a[passnum], a[max_idx] = a[max_idx], a[passnum]\n",
    "    return a\n",
    "\n",
    "       "
   ]
  },
  {
   "cell_type": "code",
   "execution_count": 14,
   "metadata": {},
   "outputs": [
    {
     "name": "stdout",
     "output_type": "stream",
     "text": [
      "Pass Number  7\n",
      "[3, 2, 1, 5, 6, 8, 7, 8]\n",
      "Pass Number  6\n",
      "[3, 2, 1, 5, 6, 7, 8, 8]\n",
      "Pass Number  5\n",
      "[3, 2, 1, 5, 6, 7, 8, 8]\n",
      "Pass Number  4\n",
      "[3, 2, 1, 5, 6, 7, 8, 8]\n",
      "Pass Number  3\n",
      "[3, 2, 1, 5, 6, 7, 8, 8]\n",
      "Pass Number  2\n",
      "[1, 2, 3, 5, 6, 7, 8, 8]\n",
      "Pass Number  1\n",
      "[1, 2, 3, 5, 6, 7, 8, 8]\n"
     ]
    }
   ],
   "source": [
    "alist = [3,2,1,5,6,8,7,8]\n",
    "SelectionSortMax(alist)"
   ]
  },
  {
   "cell_type": "code",
   "execution_count": 15,
   "metadata": {},
   "outputs": [
    {
     "name": "stdout",
     "output_type": "stream",
     "text": [
      "Pass Number  0\n",
      "[1, 2, 3, 5, 6, 7, 8, 8]\n",
      "Pass Number  1\n",
      "[1, 2, 3, 5, 6, 7, 8, 8]\n",
      "Pass Number  2\n",
      "[1, 2, 3, 5, 6, 7, 8, 8]\n",
      "Pass Number  3\n",
      "[1, 2, 3, 5, 6, 7, 8, 8]\n",
      "Pass Number  4\n",
      "[1, 2, 3, 5, 6, 7, 8, 8]\n",
      "Pass Number  5\n",
      "[1, 2, 3, 5, 6, 7, 8, 8]\n",
      "Pass Number  6\n",
      "[1, 2, 3, 5, 6, 7, 8, 8]\n",
      "Pass Number  7\n",
      "[1, 2, 3, 5, 6, 7, 8, 8]\n",
      "[1, 2, 3, 5, 6, 7, 8, 8]\n"
     ]
    }
   ],
   "source": [
    "SelectionSort(alist)\n",
    "print(alist)\n"
   ]
  },
  {
   "cell_type": "code",
   "execution_count": 4,
   "metadata": {},
   "outputs": [],
   "source": []
  },
  {
   "cell_type": "code",
   "execution_count": null,
   "metadata": {},
   "outputs": [],
   "source": []
  }
 ],
 "metadata": {
  "kernelspec": {
   "display_name": "Python 3 (ipykernel)",
   "language": "python",
   "name": "python3"
  },
  "language_info": {
   "codemirror_mode": {
    "name": "ipython",
    "version": 3
   },
   "file_extension": ".py",
   "mimetype": "text/x-python",
   "name": "python",
   "nbconvert_exporter": "python",
   "pygments_lexer": "ipython3",
   "version": "3.8.13"
  }
 },
 "nbformat": 4,
 "nbformat_minor": 1
}
