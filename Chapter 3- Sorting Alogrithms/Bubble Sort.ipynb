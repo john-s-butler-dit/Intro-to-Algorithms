{
  "cells": [
    {
      "cell_type": "markdown",
      "metadata": {
        "id": "view-in-github",
        "colab_type": "text"
      },
      "source": [
        "<a href=\"https://colab.research.google.com/github/john-s-butler-dit/Intro-to-Algorithms/blob/master/Chapter%203-%20Sorting%20Alogrithms/Bubble%20Sort.ipynb\" target=\"_parent\"><img src=\"https://colab.research.google.com/assets/colab-badge.svg\" alt=\"Open In Colab\"/></a>"
      ]
    },
    {
      "cell_type": "markdown",
      "metadata": {
        "id": "--f1SMOOuxXC"
      },
      "source": [
        "# Bubble Sort"
      ]
    },
    {
      "cell_type": "code",
      "source": [
        "from IPython.display import YouTubeVideo\n",
        "YouTubeVideo('rdbPjN0smJg')"
      ],
      "metadata": {
        "id": "4m9t7pHPxMBi",
        "outputId": "520a00a3-7760-4128-aae0-3117332e683c",
        "colab": {
          "base_uri": "https://localhost:8080/",
          "height": 321
        }
      },
      "execution_count": 19,
      "outputs": [
        {
          "output_type": "execute_result",
          "data": {
            "text/plain": [
              "<IPython.lib.display.YouTubeVideo at 0x7ffa07154090>"
            ],
            "text/html": [
              "\n",
              "        <iframe\n",
              "            width=\"400\"\n",
              "            height=\"300\"\n",
              "            src=\"https://www.youtube.com/embed/rdbPjN0smJg\"\n",
              "            frameborder=\"0\"\n",
              "            allowfullscreen\n",
              "        ></iframe>\n",
              "        "
            ],
            "image/jpeg": "[encoded data removed]"
          },
          "metadata": {},
          "execution_count": 19
        }
      ]
    },
    {
      "cell_type": "markdown",
      "source": [
        "## Bubble Sort Maximum Algorithm\n",
        "\n",
        "\n"
      ],
      "metadata": {
        "id": "Vv2EaPRXxkRG"
      }
    },
    {
      "cell_type": "code",
      "execution_count": 5,
      "metadata": {
        "id": "LnHyc2OpuxXF"
      },
      "outputs": [],
      "source": [
        "def BubbleSortMax(a):\n",
        "    n=len(a)-1\n",
        "    for passnum in range(0,n):\n",
        "        for i in range(0,n-passnum):\n",
        "            if a[i]>a[i+1]:\n",
        "                a[i],a[i+1] = a[i+1],a[i]\n",
        "            print(a)\n",
        "        print(passnum)  \n",
        "    return a        "
      ]
    },
    {
      "cell_type": "code",
      "execution_count": 6,
      "metadata": {
        "colab": {
          "base_uri": "https://localhost:8080/"
        },
        "id": "_fj-puGGuxXH",
        "outputId": "28d283b9-cb2f-438f-daa9-e8dbf71069f7"
      },
      "outputs": [
        {
          "output_type": "stream",
          "name": "stdout",
          "text": [
            "[2, 8, 1, 3, 6, 8, 7, 4]\n",
            "[2, 1, 8, 3, 6, 8, 7, 4]\n",
            "[2, 1, 3, 8, 6, 8, 7, 4]\n",
            "[2, 1, 3, 6, 8, 8, 7, 4]\n",
            "[2, 1, 3, 6, 8, 8, 7, 4]\n",
            "[2, 1, 3, 6, 8, 7, 8, 4]\n",
            "[2, 1, 3, 6, 8, 7, 4, 8]\n",
            "0\n",
            "[1, 2, 3, 6, 8, 7, 4, 8]\n",
            "[1, 2, 3, 6, 8, 7, 4, 8]\n",
            "[1, 2, 3, 6, 8, 7, 4, 8]\n",
            "[1, 2, 3, 6, 8, 7, 4, 8]\n",
            "[1, 2, 3, 6, 7, 8, 4, 8]\n",
            "[1, 2, 3, 6, 7, 4, 8, 8]\n",
            "1\n",
            "[1, 2, 3, 6, 7, 4, 8, 8]\n",
            "[1, 2, 3, 6, 7, 4, 8, 8]\n",
            "[1, 2, 3, 6, 7, 4, 8, 8]\n",
            "[1, 2, 3, 6, 7, 4, 8, 8]\n",
            "[1, 2, 3, 6, 4, 7, 8, 8]\n",
            "2\n",
            "[1, 2, 3, 6, 4, 7, 8, 8]\n",
            "[1, 2, 3, 6, 4, 7, 8, 8]\n",
            "[1, 2, 3, 6, 4, 7, 8, 8]\n",
            "[1, 2, 3, 4, 6, 7, 8, 8]\n",
            "3\n",
            "[1, 2, 3, 4, 6, 7, 8, 8]\n",
            "[1, 2, 3, 4, 6, 7, 8, 8]\n",
            "[1, 2, 3, 4, 6, 7, 8, 8]\n",
            "4\n",
            "[1, 2, 3, 4, 6, 7, 8, 8]\n",
            "[1, 2, 3, 4, 6, 7, 8, 8]\n",
            "5\n",
            "[1, 2, 3, 4, 6, 7, 8, 8]\n",
            "6\n",
            "[1, 2, 3, 4, 6, 7, 8, 8]\n"
          ]
        }
      ],
      "source": [
        "alist = [8,2,1,3,6,8,7,4]\n",
        "BubbleSortMax(alist)\n",
        "print(alist)"
      ]
    },
    {
      "cell_type": "markdown",
      "source": [
        "## Bubble Sort Minimum Algorithm"
      ],
      "metadata": {
        "id": "0F7Tf5u7xs2P"
      }
    },
    {
      "cell_type": "code",
      "execution_count": 13,
      "metadata": {
        "colab": {
          "base_uri": "https://localhost:8080/"
        },
        "id": "IYuuZaF6uxXI",
        "outputId": "b01b754f-7ea4-4eb8-bf2a-08a979f517e4"
      },
      "outputs": [
        {
          "output_type": "stream",
          "name": "stdout",
          "text": [
            "7\n",
            "[8, 2, 1, 3, 6, 8, 4, 7]\n",
            "[8, 2, 1, 3, 6, 4, 8, 7]\n",
            "[8, 2, 1, 3, 4, 6, 8, 7]\n",
            "[8, 2, 1, 3, 4, 6, 8, 7]\n",
            "[8, 2, 1, 3, 4, 6, 8, 7]\n",
            "[8, 1, 2, 3, 4, 6, 8, 7]\n",
            "[1, 8, 2, 3, 4, 6, 8, 7]\n",
            "6\n",
            "[1, 8, 2, 3, 4, 6, 7, 8]\n",
            "[1, 8, 2, 3, 4, 6, 7, 8]\n",
            "[1, 8, 2, 3, 4, 6, 7, 8]\n",
            "[1, 8, 2, 3, 4, 6, 7, 8]\n",
            "[1, 8, 2, 3, 4, 6, 7, 8]\n",
            "[1, 2, 8, 3, 4, 6, 7, 8]\n",
            "5\n",
            "[1, 2, 8, 3, 4, 6, 7, 8]\n",
            "[1, 2, 8, 3, 4, 6, 7, 8]\n",
            "[1, 2, 8, 3, 4, 6, 7, 8]\n",
            "[1, 2, 8, 3, 4, 6, 7, 8]\n",
            "[1, 2, 3, 8, 4, 6, 7, 8]\n",
            "4\n",
            "[1, 2, 3, 8, 4, 6, 7, 8]\n",
            "[1, 2, 3, 8, 4, 6, 7, 8]\n",
            "[1, 2, 3, 8, 4, 6, 7, 8]\n",
            "[1, 2, 3, 4, 8, 6, 7, 8]\n",
            "3\n",
            "[1, 2, 3, 4, 8, 6, 7, 8]\n",
            "[1, 2, 3, 4, 8, 6, 7, 8]\n",
            "[1, 2, 3, 4, 6, 8, 7, 8]\n",
            "2\n",
            "[1, 2, 3, 4, 6, 8, 7, 8]\n",
            "[1, 2, 3, 4, 6, 7, 8, 8]\n",
            "1\n",
            "[1, 2, 3, 4, 6, 7, 8, 8]\n",
            "0\n",
            "[1, 2, 3, 4, 6, 7, 8, 8]\n"
          ]
        }
      ],
      "source": [
        "def BubbleSortMin(a):\n",
        "    n=len(a)-1\n",
        "    for passnum in range(n,-1,-1):\n",
        "        print(passnum)\n",
        "        for i in range(n,n-passnum,-1):\n",
        "            if a[i-1]>a[i]:\n",
        "                a[i-1],a[i] = a[i],a[i-1]\n",
        "            print(a)\n",
        "    return a\n",
        "\n",
        "alist = [8,2,1,3,6,8,7,4]\n",
        "BubbleSortMin(alist)\n",
        "print(alist)"
      ]
    },
    {
      "cell_type": "markdown",
      "source": [
        "## Bubble Sort for Words"
      ],
      "metadata": {
        "id": "8dfnK-SFxw-9"
      }
    },
    {
      "cell_type": "code",
      "execution_count": 20,
      "metadata": {
        "id": "qbnROzFzuxXJ"
      },
      "outputs": [],
      "source": [
        "\n",
        "def bubbleSortWord(aword):\n",
        "    alphabet=\"ABCDEFGHIJKLMNOPQRSTUVWXYZABCDEFGHIJKLMNOPQRSTUVWXYZ\"\n",
        "    aword=list(aword)\n",
        "    passnum=1\n",
        "    for passnum in range(0,len(aword)):\n",
        "       \n",
        "        print('Pass Number ', passnum)\n",
        "        # Find the minimum element in remaining \n",
        "        # unsorted array\n",
        "        count=0\n",
        "        min_idx = passnum\n",
        "        for j in range(passnum+1,len(aword)):\n",
        "            if alphabet.find(aword[min_idx]) > alphabet.find(aword[j]):\n",
        "                min_idx = j\n",
        "                \n",
        "                \n",
        "\n",
        "        # Swap the found minimum element with \n",
        "        # the first element        \n",
        "        temp=aword[passnum]\n",
        "        aword[passnum] = aword[min_idx]\n",
        "        aword[min_idx] = temp\n",
        "        print(aword)\n",
        "\n",
        "    "
      ]
    },
    {
      "cell_type": "code",
      "execution_count": 15,
      "metadata": {
        "colab": {
          "base_uri": "https://localhost:8080/"
        },
        "id": "tLdpuwQ6uxXJ",
        "outputId": "13cf7d8f-0f92-4dba-a5b0-ea06328694d2"
      },
      "outputs": [
        {
          "output_type": "stream",
          "name": "stdout",
          "text": [
            "Pass Number  0\n",
            "['E', 'H', 'L', 'L', 'O']\n",
            "Pass Number  1\n",
            "['E', 'H', 'L', 'L', 'O']\n",
            "Pass Number  2\n",
            "['E', 'H', 'L', 'L', 'O']\n",
            "Pass Number  3\n",
            "['E', 'H', 'L', 'L', 'O']\n",
            "Pass Number  4\n",
            "['E', 'H', 'L', 'L', 'O']\n"
          ]
        }
      ],
      "source": [
        "bubbleSortWord(\"HELLO\")"
      ]
    },
    {
      "cell_type": "code",
      "execution_count": null,
      "metadata": {
        "id": "eWnmnotXuxXK"
      },
      "outputs": [],
      "source": []
    }
  ],
  "metadata": {
    "kernelspec": {
      "display_name": "Python 3 (ipykernel)",
      "language": "python",
      "name": "python3"
    },
    "language_info": {
      "codemirror_mode": {
        "name": "ipython",
        "version": 3
      },
      "file_extension": ".py",
      "mimetype": "text/x-python",
      "name": "python",
      "nbconvert_exporter": "python",
      "pygments_lexer": "ipython3",
      "version": "3.8.13"
    },
    "colab": {
      "provenance": [],
      "include_colab_link": true
    }
  },
  "nbformat": 4,
  "nbformat_minor": 0
}