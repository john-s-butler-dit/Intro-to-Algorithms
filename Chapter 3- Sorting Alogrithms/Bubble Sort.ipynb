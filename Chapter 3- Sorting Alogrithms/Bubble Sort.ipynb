{
 "cells": [
  {
   "cell_type": "markdown",
   "metadata": {},
   "source": [
    "# Bubble Sort"
   ]
  },
  {
   "cell_type": "code",
   "execution_count": 2,
   "metadata": {},
   "outputs": [],
   "source": [
    "def bubbleSort(alist):\n",
    "    for passnum in range(0,len(alist)-1):\n",
    "        print('Pass Number ', passnum)\n",
    "        for i in range(0,len(alist)-1-passnum):\n",
    "            if alist[i]>alist[i+1]:\n",
    "                temp = alist[i]\n",
    "                alist[i] = alist[i+1]\n",
    "                alist[i+1] = temp\n",
    "            print(alist)"
   ]
  },
  {
   "cell_type": "code",
   "execution_count": 3,
   "metadata": {},
   "outputs": [
    {
     "name": "stdout",
     "output_type": "stream",
     "text": [
      "Pass Number  0\n",
      "[1, 2, 3, 5, 6, 8, 7, 8]\n",
      "[1, 2, 3, 5, 6, 8, 7, 8]\n",
      "[1, 2, 3, 5, 6, 8, 7, 8]\n",
      "[1, 2, 3, 5, 6, 8, 7, 8]\n",
      "[1, 2, 3, 5, 6, 8, 7, 8]\n",
      "[1, 2, 3, 5, 6, 7, 8, 8]\n",
      "[1, 2, 3, 5, 6, 7, 8, 8]\n",
      "Pass Number  1\n",
      "[1, 2, 3, 5, 6, 7, 8, 8]\n",
      "[1, 2, 3, 5, 6, 7, 8, 8]\n",
      "[1, 2, 3, 5, 6, 7, 8, 8]\n",
      "[1, 2, 3, 5, 6, 7, 8, 8]\n",
      "[1, 2, 3, 5, 6, 7, 8, 8]\n",
      "[1, 2, 3, 5, 6, 7, 8, 8]\n",
      "Pass Number  2\n",
      "[1, 2, 3, 5, 6, 7, 8, 8]\n",
      "[1, 2, 3, 5, 6, 7, 8, 8]\n",
      "[1, 2, 3, 5, 6, 7, 8, 8]\n",
      "[1, 2, 3, 5, 6, 7, 8, 8]\n",
      "[1, 2, 3, 5, 6, 7, 8, 8]\n",
      "Pass Number  3\n",
      "[1, 2, 3, 5, 6, 7, 8, 8]\n",
      "[1, 2, 3, 5, 6, 7, 8, 8]\n",
      "[1, 2, 3, 5, 6, 7, 8, 8]\n",
      "[1, 2, 3, 5, 6, 7, 8, 8]\n",
      "Pass Number  4\n",
      "[1, 2, 3, 5, 6, 7, 8, 8]\n",
      "[1, 2, 3, 5, 6, 7, 8, 8]\n",
      "[1, 2, 3, 5, 6, 7, 8, 8]\n",
      "Pass Number  5\n",
      "[1, 2, 3, 5, 6, 7, 8, 8]\n",
      "[1, 2, 3, 5, 6, 7, 8, 8]\n",
      "Pass Number  6\n",
      "[1, 2, 3, 5, 6, 7, 8, 8]\n",
      "[1, 2, 3, 5, 6, 7, 8, 8]\n"
     ]
    }
   ],
   "source": [
    "alist = [1,2,3,5,6,8,7,8]\n",
    "bubbleSort(alist)\n",
    "print(alist)"
   ]
  },
  {
   "cell_type": "code",
   "execution_count": null,
   "metadata": {
    "collapsed": true
   },
   "outputs": [],
   "source": []
  }
 ],
 "metadata": {
  "kernelspec": {
   "display_name": "Python 3",
   "language": "python",
   "name": "python3"
  },
  "language_info": {
   "codemirror_mode": {
    "name": "ipython",
    "version": 3
   },
   "file_extension": ".py",
   "mimetype": "text/x-python",
   "name": "python",
   "nbconvert_exporter": "python",
   "pygments_lexer": "ipython3",
   "version": "3.7.3"
  }
 },
 "nbformat": 4,
 "nbformat_minor": 1
}
