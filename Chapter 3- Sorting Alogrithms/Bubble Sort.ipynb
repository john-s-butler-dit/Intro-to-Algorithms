{
 "cells": [
  {
   "cell_type": "markdown",
   "metadata": {},
   "source": [
    "# Bubble Sort"
   ]
  },
  {
   "cell_type": "code",
   "execution_count": 18,
   "metadata": {},
   "outputs": [],
   "source": [
    "def BubbleSortMax(a):\n",
    "    n=len(a)-1\n",
    "    for passnum in range(0,n):\n",
    "        for i in range(0,n-passnum):\n",
    "            if a[i]>a[i+1]:\n",
    "                a[i],a[i+1] = a[i+1],a[i]\n",
    "            \n",
    "    return a        "
   ]
  },
  {
   "cell_type": "code",
   "execution_count": 21,
   "metadata": {},
   "outputs": [
    {
     "name": "stdout",
     "output_type": "stream",
     "text": [
      "[1, 2, 3, 4, 6, 7, 8, 8]\n"
     ]
    }
   ],
   "source": [
    "alist = [8,2,1,3,6,8,7,4]\n",
    "BubbleSortMax(alist)\n",
    "print(alist)"
   ]
  },
  {
   "cell_type": "code",
   "execution_count": 20,
   "metadata": {},
   "outputs": [
    {
     "name": "stdout",
     "output_type": "stream",
     "text": [
      "Pass Number  7\n",
      "[8, 2, 1, 3, 6, 8, 4, 7]\n",
      "[8, 2, 1, 3, 6, 4, 8, 7]\n",
      "[8, 2, 1, 3, 4, 6, 8, 7]\n",
      "[8, 2, 1, 3, 4, 6, 8, 7]\n",
      "[8, 2, 1, 3, 4, 6, 8, 7]\n",
      "[8, 1, 2, 3, 4, 6, 8, 7]\n",
      "[1, 8, 2, 3, 4, 6, 8, 7]\n",
      "Pass Number  6\n",
      "[1, 8, 2, 3, 4, 6, 7, 8]\n",
      "[1, 8, 2, 3, 4, 6, 7, 8]\n",
      "[1, 8, 2, 3, 4, 6, 7, 8]\n",
      "[1, 8, 2, 3, 4, 6, 7, 8]\n",
      "[1, 8, 2, 3, 4, 6, 7, 8]\n",
      "[1, 2, 8, 3, 4, 6, 7, 8]\n",
      "Pass Number  5\n",
      "[1, 2, 8, 3, 4, 6, 7, 8]\n",
      "[1, 2, 8, 3, 4, 6, 7, 8]\n",
      "[1, 2, 8, 3, 4, 6, 7, 8]\n",
      "[1, 2, 8, 3, 4, 6, 7, 8]\n",
      "[1, 2, 3, 8, 4, 6, 7, 8]\n",
      "Pass Number  4\n",
      "[1, 2, 3, 8, 4, 6, 7, 8]\n",
      "[1, 2, 3, 8, 4, 6, 7, 8]\n",
      "[1, 2, 3, 8, 4, 6, 7, 8]\n",
      "[1, 2, 3, 4, 8, 6, 7, 8]\n",
      "Pass Number  3\n",
      "[1, 2, 3, 4, 8, 6, 7, 8]\n",
      "[1, 2, 3, 4, 8, 6, 7, 8]\n",
      "[1, 2, 3, 4, 6, 8, 7, 8]\n",
      "Pass Number  2\n",
      "[1, 2, 3, 4, 6, 8, 7, 8]\n",
      "[1, 2, 3, 4, 6, 7, 8, 8]\n",
      "Pass Number  1\n",
      "[1, 2, 3, 4, 6, 7, 8, 8]\n",
      "[1, 2, 3, 4, 6, 7, 8, 8]\n"
     ]
    }
   ],
   "source": [
    "def BubbleSortMin(alist):\n",
    "    n=len(a)-1\n",
    "    for passnum in range(n,-1,-1):\n",
    "        for i in range(n,n-passnum,-1):\n",
    "            if a[i-1]>a[i]:\n",
    "                a[i-1],a[i] = a[i],a[i-1]\n",
    "    return a\n",
    "\n",
    "alist = [8,2,1,3,6,8,7,4]\n",
    "bubbleSortMin(alist)\n",
    "print(alist)"
   ]
  },
  {
   "cell_type": "code",
   "execution_count": 22,
   "metadata": {},
   "outputs": [],
   "source": [
    "\n",
    "def bubbleSortWord(aword):\n",
    "    alphabet=\"ABCDEFGHIJKLMNOPQRSTUVWXYZABCDEFGHIJKLMNOPQRSTUVWXYZ\"\n",
    "    aword=list(aword)\n",
    "    passnum=1\n",
    "    for passnum in range(0,len(aword)):\n",
    "       \n",
    "        print('Pass Number ', passnum)\n",
    "        # Find the minimum element in remaining \n",
    "        # unsorted array\n",
    "        count=0\n",
    "        min_idx = passnum\n",
    "     #   print(min_idx)\n",
    "    #    print(aword[passnum+1:len(aword)])\n",
    "        for j in range(passnum+1,len(aword)):\n",
    "            if alphabet.find(aword[min_idx]) > alphabet.find(aword[j]):\n",
    "                min_idx = j\n",
    "                \n",
    "                \n",
    "\n",
    "        # Swap the found minimum element with \n",
    "        # the first element        \n",
    "        temp=aword[passnum]\n",
    "        aword[passnum] = aword[min_idx]\n",
    "        aword[min_idx] = temp\n",
    "        print(aword)\n",
    "\n",
    "    "
   ]
  },
  {
   "cell_type": "code",
   "execution_count": 23,
   "metadata": {},
   "outputs": [
    {
     "name": "stdout",
     "output_type": "stream",
     "text": [
      "Pass Number  0\n",
      "['E', 'H', 'L', 'L', 'O']\n",
      "Pass Number  1\n",
      "['E', 'H', 'L', 'L', 'O']\n",
      "Pass Number  2\n",
      "['E', 'H', 'L', 'L', 'O']\n",
      "Pass Number  3\n",
      "['E', 'H', 'L', 'L', 'O']\n",
      "Pass Number  4\n",
      "['E', 'H', 'L', 'L', 'O']\n"
     ]
    }
   ],
   "source": [
    "bubbleSortWord(\"HELLO\")"
   ]
  },
  {
   "cell_type": "code",
   "execution_count": null,
   "metadata": {},
   "outputs": [],
   "source": []
  }
 ],
 "metadata": {
  "kernelspec": {
   "display_name": "Python 3 (ipykernel)",
   "language": "python",
   "name": "python3"
  },
  "language_info": {
   "codemirror_mode": {
    "name": "ipython",
    "version": 3
   },
   "file_extension": ".py",
   "mimetype": "text/x-python",
   "name": "python",
   "nbconvert_exporter": "python",
   "pygments_lexer": "ipython3",
   "version": "3.8.13"
  }
 },
 "nbformat": 4,
 "nbformat_minor": 1
}
