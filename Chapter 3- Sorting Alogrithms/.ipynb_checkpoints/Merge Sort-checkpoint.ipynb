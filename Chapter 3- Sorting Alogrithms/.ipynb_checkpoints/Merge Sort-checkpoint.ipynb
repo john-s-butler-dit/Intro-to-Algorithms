{
 "cells": [
  {
   "cell_type": "markdown",
   "metadata": {},
   "source": [
    "# Merge Sort"
   ]
  },
  {
   "cell_type": "code",
   "execution_count": 1,
   "metadata": {},
   "outputs": [
    {
     "name": "stdout",
     "output_type": "stream",
     "text": [
      "Splitting  [1, 2, 3, 5, 6, 8, 7, 8]\n",
      "Splitting  [1, 2, 3, 5]\n",
      "Splitting  [1, 2]\n",
      "Splitting  [1]\n",
      "Merging  [1]\n",
      "Splitting  [2]\n",
      "Merging  [2]\n",
      "Merging  [1, 2]\n",
      "Splitting  [3, 5]\n",
      "Splitting  [3]\n",
      "Merging  [3]\n",
      "Splitting  [5]\n",
      "Merging  [5]\n",
      "Merging  [3, 5]\n",
      "Merging  [1, 2, 3, 5]\n",
      "Splitting  [6, 8, 7, 8]\n",
      "Splitting  [6, 8]\n",
      "Splitting  [6]\n",
      "Merging  [6]\n",
      "Splitting  [8]\n",
      "Merging  [8]\n",
      "Merging  [6, 8]\n",
      "Splitting  [7, 8]\n",
      "Splitting  [7]\n",
      "Merging  [7]\n",
      "Splitting  [8]\n",
      "Merging  [8]\n",
      "Merging  [7, 8]\n",
      "Merging  [6, 7, 8, 8]\n",
      "Merging  [1, 2, 3, 5, 6, 7, 8, 8]\n",
      "[1, 2, 3, 5, 6, 7, 8, 8]\n"
     ]
    }
   ],
   "source": [
    "def mergeSort(alist):\n",
    "    print(\"Splitting \",alist)\n",
    "    if len(alist)>1:\n",
    "        mid = len(alist)//2\n",
    "        lefthalf = alist[:mid]\n",
    "        righthalf = alist[mid:]\n",
    "\n",
    "        mergeSort(lefthalf)\n",
    "        mergeSort(righthalf)\n",
    "\n",
    "        i=0\n",
    "        j=0\n",
    "        k=0\n",
    "        while i < len(lefthalf) and j < len(righthalf):\n",
    "            if lefthalf[i] < righthalf[j]:\n",
    "                alist[k]=lefthalf[i]\n",
    "                i=i+1\n",
    "            else:\n",
    "                alist[k]=righthalf[j]\n",
    "                j=j+1\n",
    "            k=k+1\n",
    "\n",
    "        while i < len(lefthalf):\n",
    "            alist[k]=lefthalf[i]\n",
    "            i=i+1\n",
    "            k=k+1\n",
    "\n",
    "        while j < len(righthalf):\n",
    "            alist[k]=righthalf[j]\n",
    "            j=j+1\n",
    "            k=k+1\n",
    "    print(\"Merging \",alist)\n",
    "\n",
    "alist = [1,2,3,5,6,8,7,8]\n",
    "mergeSort(alist)\n",
    "print(alist)\n"
   ]
  },
  {
   "cell_type": "code",
   "execution_count": null,
   "metadata": {
    "collapsed": true
   },
   "outputs": [],
   "source": []
  }
 ],
 "metadata": {
  "kernelspec": {
   "display_name": "Python 3",
   "language": "python",
   "name": "python3"
  },
  "language_info": {
   "codemirror_mode": {
    "name": "ipython",
    "version": 3
   },
   "file_extension": ".py",
   "mimetype": "text/x-python",
   "name": "python",
   "nbconvert_exporter": "python",
   "pygments_lexer": "ipython3",
   "version": "3.7.3"
  }
 },
 "nbformat": 4,
 "nbformat_minor": 1
}
