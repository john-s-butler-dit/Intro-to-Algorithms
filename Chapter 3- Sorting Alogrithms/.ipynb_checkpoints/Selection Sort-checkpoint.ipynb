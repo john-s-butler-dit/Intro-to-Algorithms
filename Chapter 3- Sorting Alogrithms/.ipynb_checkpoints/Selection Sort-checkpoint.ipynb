{
 "cells": [
  {
   "cell_type": "markdown",
   "metadata": {},
   "source": [
    "# Selection Sort"
   ]
  },
  {
   "cell_type": "code",
   "execution_count": 2,
   "metadata": {},
   "outputs": [],
   "source": [
    "def SelectionSort(alist):\n",
    "    for passnum in range(len(alist)):\n",
    "        \n",
    "        print('Pass Number ', passnum)\n",
    "        # Find the minimum element in remaining \n",
    "        # unsorted array\n",
    "        min_idx = passnum\n",
    "        for j in range(passnum+1, len(alist)):\n",
    "            if alist[min_idx] > alist[j]:\n",
    "                min_idx = j\n",
    "\n",
    "        # Swap the found minimum element with \n",
    "        # the first element        \n",
    "        alist[passnum], alist[min_idx] = alist[min_idx], alist[passnum]\n",
    "        print(alist)\n",
    "\n",
    "    "
   ]
  },
  {
   "cell_type": "code",
   "execution_count": 3,
   "metadata": {},
   "outputs": [
    {
     "name": "stdout",
     "output_type": "stream",
     "text": [
      "Pass Number  0\n",
      "[1, 2, 3, 5, 6, 8, 7, 8]\n",
      "Pass Number  1\n",
      "[1, 2, 3, 5, 6, 8, 7, 8]\n",
      "Pass Number  2\n",
      "[1, 2, 3, 5, 6, 8, 7, 8]\n",
      "Pass Number  3\n",
      "[1, 2, 3, 5, 6, 8, 7, 8]\n",
      "Pass Number  4\n",
      "[1, 2, 3, 5, 6, 8, 7, 8]\n",
      "Pass Number  5\n",
      "[1, 2, 3, 5, 6, 7, 8, 8]\n",
      "Pass Number  6\n",
      "[1, 2, 3, 5, 6, 7, 8, 8]\n",
      "Pass Number  7\n",
      "[1, 2, 3, 5, 6, 7, 8, 8]\n",
      "[1, 2, 3, 5, 6, 7, 8, 8]\n"
     ]
    }
   ],
   "source": [
    "alist = [1,2,3,5,6,8,7,8]\n",
    "SelectionSort(alist)\n",
    "print(alist)"
   ]
  },
  {
   "cell_type": "code",
   "execution_count": 4,
   "metadata": {},
   "outputs": [],
   "source": [
    "\n",
    "def bubbleSortWord(aword):\n",
    "    alphabet=\"ABCDEFGHIJKLMNOPQRSTUVWXYZABCDEFGHIJKLMNOPQRSTUVWXYZ\"\n",
    "    aword=list(aword)\n",
    "    passnum=1\n",
    "    for passnum in range(0,len(aword)):\n",
    "       \n",
    "        print('Pass Number ', passnum)\n",
    "        # Find the minimum element in remaining \n",
    "        # unsorted array\n",
    "        count=0\n",
    "        min_idx = passnum\n",
    "     #   print(min_idx)\n",
    "    #    print(aword[passnum+1:len(aword)])\n",
    "        for j in range(passnum+1,len(aword)):\n",
    "            if alphabet.find(aword[min_idx]) > alphabet.find(aword[j]):\n",
    "                min_idx = j\n",
    "                \n",
    "                \n",
    "\n",
    "        # Swap the found minimum element with \n",
    "        # the first element        \n",
    "        temp=aword[passnum]\n",
    "        aword[passnum] = aword[min_idx]\n",
    "        aword[min_idx] = temp\n",
    "        print(aword)\n",
    "\n",
    "    "
   ]
  },
  {
   "cell_type": "code",
   "execution_count": 6,
   "metadata": {},
   "outputs": [
    {
     "name": "stdout",
     "output_type": "stream",
     "text": [
      "Pass Number  0\n",
      "['E', 'H', 'L', 'L', 'O']\n",
      "Pass Number  1\n",
      "['E', 'H', 'L', 'L', 'O']\n",
      "Pass Number  2\n",
      "['E', 'H', 'L', 'L', 'O']\n",
      "Pass Number  3\n",
      "['E', 'H', 'L', 'L', 'O']\n",
      "Pass Number  4\n",
      "['E', 'H', 'L', 'L', 'O']\n"
     ]
    }
   ],
   "source": [
    "bubbleSortWord(\"HELLO\")"
   ]
  },
  {
   "cell_type": "code",
   "execution_count": null,
   "metadata": {},
   "outputs": [],
   "source": []
  }
 ],
 "metadata": {
  "kernelspec": {
   "display_name": "Python 3",
   "language": "python",
   "name": "python3"
  },
  "language_info": {
   "codemirror_mode": {
    "name": "ipython",
    "version": 3
   },
   "file_extension": ".py",
   "mimetype": "text/x-python",
   "name": "python",
   "nbconvert_exporter": "python",
   "pygments_lexer": "ipython3",
   "version": "3.7.3"
  }
 },
 "nbformat": 4,
 "nbformat_minor": 1
}
