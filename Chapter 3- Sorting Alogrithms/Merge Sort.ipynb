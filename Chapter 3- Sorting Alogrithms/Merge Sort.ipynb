{
 "cells": [
  {
   "cell_type": "markdown",
   "metadata": {},
   "source": [
    "# Merge Sort"
   ]
  },
  {
   "cell_type": "code",
   "execution_count": 11,
   "metadata": {},
   "outputs": [
    {
     "name": "stdout",
     "output_type": "stream",
     "text": [
      "Splitting  [70, 26, 58, 48, 81, 74, 45, 50, 66, 49]\n",
      "Splitting  [70, 26, 58, 48, 81]\n",
      "Splitting  [70, 26]\n",
      "Splitting  [70]\n",
      "Merging  [70]\n",
      "Splitting  [26]\n",
      "Merging  [26]\n",
      "Merging  [26, 70]\n",
      "Splitting  [58, 48, 81]\n",
      "Splitting  [58]\n",
      "Merging  [58]\n",
      "Splitting  [48, 81]\n",
      "Splitting  [48]\n",
      "Merging  [48]\n",
      "Splitting  [81]\n",
      "Merging  [81]\n",
      "Merging  [48, 81]\n",
      "Merging  [48, 58, 81]\n",
      "Merging  [26, 48, 58, 70, 81]\n",
      "Splitting  [74, 45, 50, 66, 49]\n",
      "Splitting  [74, 45]\n",
      "Splitting  [74]\n",
      "Merging  [74]\n",
      "Splitting  [45]\n",
      "Merging  [45]\n",
      "Merging  [45, 74]\n",
      "Splitting  [50, 66, 49]\n",
      "Splitting  [50]\n",
      "Merging  [50]\n",
      "Splitting  [66, 49]\n",
      "Splitting  [66]\n",
      "Merging  [66]\n",
      "Splitting  [49]\n",
      "Merging  [49]\n",
      "Merging  [49, 66]\n",
      "Merging  [49, 50, 66]\n",
      "Merging  [45, 49, 50, 66, 74]\n",
      "Merging  [26, 45, 48, 49, 50, 58, 66, 70, 74, 81]\n",
      "[26, 45, 48, 49, 50, 58, 66, 70, 74, 81]\n"
     ]
    }
   ],
   "source": [
    "def mergeSort(alist):\n",
    "    print(\"Splitting \",alist)\n",
    "    if len(alist)>1:\n",
    "        mid = len(alist)//2\n",
    "        lefthalf = alist[:mid]\n",
    "        righthalf = alist[mid:]\n",
    "\n",
    "        mergeSort(lefthalf)\n",
    "        mergeSort(righthalf)\n",
    "\n",
    "        i=0\n",
    "        j=0\n",
    "        k=0\n",
    "        while i < len(lefthalf) and j < len(righthalf):\n",
    "            if lefthalf[i] < righthalf[j]:\n",
    "                alist[k]=lefthalf[i]\n",
    "                i=i+1\n",
    "            else:\n",
    "                alist[k]=righthalf[j]\n",
    "                j=j+1\n",
    "            k=k+1\n",
    "\n",
    "        while i < len(lefthalf):\n",
    "            alist[k]=lefthalf[i]\n",
    "            i=i+1\n",
    "            k=k+1\n",
    "\n",
    "        while j < len(righthalf):\n",
    "            alist[k]=righthalf[j]\n",
    "            j=j+1\n",
    "            k=k+1\n",
    "    print(\"Merging \",alist)\n",
    "\n",
    "alist = [67, 71, 53, 24,  8, 58,  1, 74, 89, 31, 72, 62]\n",
    "mergeSort(alist)\n",
    "print(alist)\n"
   ]
  },
  {
   "cell_type": "code",
   "execution_count": 2,
   "metadata": {},
   "outputs": [],
   "source": [
    "import numpy as np"
   ]
  },
  {
   "cell_type": "code",
   "execution_count": 12,
   "metadata": {},
   "outputs": [
    {
     "data": {
      "text/plain": [
       "array([67, 71, 53, 24,  8, 58,  1, 74, 89, 31, 72, 62])"
      ]
     },
     "execution_count": 12,
     "metadata": {},
     "output_type": "execute_result"
    }
   ],
   "source": [
    "np.random.choice(90, size=12, replace=False)"
   ]
  },
  {
   "cell_type": "code",
   "execution_count": null,
   "metadata": {},
   "outputs": [],
   "source": []
  }
 ],
 "metadata": {
  "kernelspec": {
   "display_name": "Python 3",
   "language": "python",
   "name": "python3"
  },
  "language_info": {
   "codemirror_mode": {
    "name": "ipython",
    "version": 3
   },
   "file_extension": ".py",
   "mimetype": "text/x-python",
   "name": "python",
   "nbconvert_exporter": "python",
   "pygments_lexer": "ipython3",
   "version": "3.7.9"
  }
 },
 "nbformat": 4,
 "nbformat_minor": 1
}
