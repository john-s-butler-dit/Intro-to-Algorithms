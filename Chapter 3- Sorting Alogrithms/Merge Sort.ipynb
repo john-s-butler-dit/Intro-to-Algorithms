{
  "cells": [
    {
      "cell_type": "markdown",
      "metadata": {
        "id": "view-in-github",
        "colab_type": "text"
      },
      "source": [
        "<a href=\"https://colab.research.google.com/github/john-s-butler-dit/Intro-to-Algorithms/blob/master/Chapter%203-%20Sorting%20Alogrithms/Merge%20Sort.ipynb\" target=\"_parent\"><img src=\"https://colab.research.google.com/assets/colab-badge.svg\" alt=\"Open In Colab\"/></a>"
      ]
    },
    {
      "cell_type": "markdown",
      "metadata": {
        "id": "fFCVehRsvnpQ"
      },
      "source": [
        "# Merge Sort"
      ]
    },
    {
      "cell_type": "code",
      "execution_count": 1,
      "metadata": {
        "id": "TuPzTkOnvnpT",
        "outputId": "5def5398-ef59-4336-903b-378b13a93a7e",
        "colab": {
          "base_uri": "https://localhost:8080/"
        }
      },
      "outputs": [
        {
          "output_type": "stream",
          "name": "stdout",
          "text": [
            "Splitting  [67, 71, 53, 24, 8, 58, 1, 74, 89, 31, 72, 62]\n",
            "Splitting  [67, 71, 53, 24, 8, 58]\n",
            "Splitting  [67, 71, 53]\n",
            "Splitting  [67]\n",
            "Merging  [67]\n",
            "Splitting  [71, 53]\n",
            "Splitting  [71]\n",
            "Merging  [71]\n",
            "Splitting  [53]\n",
            "Merging  [53]\n",
            "Merging  [53, 71]\n",
            "Merging  [53, 67, 71]\n",
            "Splitting  [24, 8, 58]\n",
            "Splitting  [24]\n",
            "Merging  [24]\n",
            "Splitting  [8, 58]\n",
            "Splitting  [8]\n",
            "Merging  [8]\n",
            "Splitting  [58]\n",
            "Merging  [58]\n",
            "Merging  [8, 58]\n",
            "Merging  [8, 24, 58]\n",
            "Merging  [8, 24, 53, 58, 67, 71]\n",
            "Splitting  [1, 74, 89, 31, 72, 62]\n",
            "Splitting  [1, 74, 89]\n",
            "Splitting  [1]\n",
            "Merging  [1]\n",
            "Splitting  [74, 89]\n",
            "Splitting  [74]\n",
            "Merging  [74]\n",
            "Splitting  [89]\n",
            "Merging  [89]\n",
            "Merging  [74, 89]\n",
            "Merging  [1, 74, 89]\n",
            "Splitting  [31, 72, 62]\n",
            "Splitting  [31]\n",
            "Merging  [31]\n",
            "Splitting  [72, 62]\n",
            "Splitting  [72]\n",
            "Merging  [72]\n",
            "Splitting  [62]\n",
            "Merging  [62]\n",
            "Merging  [62, 72]\n",
            "Merging  [31, 62, 72]\n",
            "Merging  [1, 31, 62, 72, 74, 89]\n",
            "Merging  [1, 8, 24, 31, 53, 58, 62, 67, 71, 72, 74, 89]\n",
            "[1, 8, 24, 31, 53, 58, 62, 67, 71, 72, 74, 89]\n"
          ]
        }
      ],
      "source": [
        "def mergeSort(alist):\n",
        "    print(\"Splitting \",alist)\n",
        "    if len(alist)>1:\n",
        "        mid = len(alist)//2\n",
        "        lefthalf = alist[:mid]\n",
        "        righthalf = alist[mid:]\n",
        "\n",
        "        mergeSort(lefthalf)\n",
        "        mergeSort(righthalf)\n",
        "\n",
        "        i=0\n",
        "        j=0\n",
        "        k=0\n",
        "        while i < len(lefthalf) and j < len(righthalf):\n",
        "            if lefthalf[i] < righthalf[j]:\n",
        "                alist[k]=lefthalf[i]\n",
        "                i=i+1\n",
        "            else:\n",
        "                alist[k]=righthalf[j]\n",
        "                j=j+1\n",
        "            k=k+1\n",
        "\n",
        "        while i < len(lefthalf):\n",
        "            alist[k]=lefthalf[i]\n",
        "            i=i+1\n",
        "            k=k+1\n",
        "\n",
        "        while j < len(righthalf):\n",
        "            alist[k]=righthalf[j]\n",
        "            j=j+1\n",
        "            k=k+1\n",
        "    print(\"Merging \",alist)\n",
        "\n",
        "alist = [67, 71, 53, 24,  8, 58,  1, 74, 89, 31, 72, 62]\n",
        "mergeSort(alist)\n",
        "print(alist)\n"
      ]
    },
    {
      "cell_type": "code",
      "execution_count": null,
      "metadata": {
        "id": "WDQGanH4vnpW"
      },
      "outputs": [],
      "source": [
        "import numpy as np"
      ]
    },
    {
      "cell_type": "code",
      "execution_count": null,
      "metadata": {
        "id": "lmnr06zlvnpW",
        "outputId": "b7add6a8-f85e-4f67-9f49-a31c3eb6e7dc"
      },
      "outputs": [
        {
          "data": {
            "text/plain": [
              "array([67, 71, 53, 24,  8, 58,  1, 74, 89, 31, 72, 62])"
            ]
          },
          "execution_count": 12,
          "metadata": {},
          "output_type": "execute_result"
        }
      ],
      "source": [
        "np.random.choice(90, size=12, replace=False)"
      ]
    },
    {
      "cell_type": "code",
      "execution_count": null,
      "metadata": {
        "id": "VwY1Wf7-vnpW"
      },
      "outputs": [],
      "source": []
    }
  ],
  "metadata": {
    "kernelspec": {
      "display_name": "Python 3",
      "language": "python",
      "name": "python3"
    },
    "language_info": {
      "codemirror_mode": {
        "name": "ipython",
        "version": 3
      },
      "file_extension": ".py",
      "mimetype": "text/x-python",
      "name": "python",
      "nbconvert_exporter": "python",
      "pygments_lexer": "ipython3",
      "version": "3.7.9"
    },
    "colab": {
      "provenance": [],
      "include_colab_link": true
    }
  },
  "nbformat": 4,
  "nbformat_minor": 0
}