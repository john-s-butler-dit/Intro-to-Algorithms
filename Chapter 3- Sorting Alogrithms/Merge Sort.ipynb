{
  "cells": [
    {
      "cell_type": "markdown",
      "metadata": {
        "id": "view-in-github",
        "colab_type": "text"
      },
      "source": [
        "<a href=\"https://colab.research.google.com/github/john-s-butler-dit/Intro-to-Algorithms/blob/master/Chapter%203-%20Sorting%20Alogrithms/Merge%20Sort.ipynb\" target=\"_parent\"><img src=\"https://colab.research.google.com/assets/colab-badge.svg\" alt=\"Open In Colab\"/></a>"
      ]
    },
    {
      "cell_type": "markdown",
      "metadata": {
        "id": "fFCVehRsvnpQ"
      },
      "source": [
        "# Merge Sort\n",
        "\n"
      ]
    },
    {
      "cell_type": "code",
      "source": [
        "from IPython.display import YouTubeVideo\n",
        "\n",
        "YouTubeVideo('tQ3zkT-VGuk')"
      ],
      "metadata": {
        "colab": {
          "base_uri": "https://localhost:8080/",
          "height": 321
        },
        "id": "HJXcE6jL6m6J",
        "outputId": "0a816dd3-262a-4ba5-ee63-75887900ed13"
      },
      "execution_count": 63,
      "outputs": [
        {
          "output_type": "execute_result",
          "data": {
            "text/plain": [
              "<IPython.lib.display.YouTubeVideo at 0x7fa7f99df990>"
            ],
            "text/html": [
              "\n",
              "        <iframe\n",
              "            width=\"400\"\n",
              "            height=\"300\"\n",
              "            src=\"https://www.youtube.com/embed/tQ3zkT-VGuk\"\n",
              "            frameborder=\"0\"\n",
              "            allowfullscreen\n",
              "        ></iframe>\n",
              "        "
            ],
            "image/jpeg": "[encoded data removed]"
          },
          "metadata": {},
          "execution_count": 63
        }
      ]
    },
    {
      "cell_type": "code",
      "source": [
        "# Python program for implementation of MergeSort\n",
        "\n",
        "# Merges two subarrays of arr[].\n",
        "# First subarray is arr[l..m]\n",
        "# Second subarray is arr[m+1..r]\n",
        "\n",
        "\n",
        "def merge(arr, l, m, r):\n",
        "    n1 = m - l + 1\n",
        "    n2 = r - m\n",
        "\n",
        "    # create temp arrays\n",
        "    L = [0] * (n1)\n",
        "    R = [0] * (n2)\n",
        "\n",
        "    # Copy data to temp arrays L[] and R[]\n",
        "    for i in range(0, n1):\n",
        "      L[i] = arr[l + i]\n",
        "    print(L)\n",
        "    for j in range(0, n2):\n",
        "      R[j] = arr[m + 1 + j]\n",
        "    print(R)\n",
        "    # Merge the temp arrays back into arr[l..r]\n",
        "    i = 0\t # Initial index of first subarray\n",
        "    j = 0\t # Initial index of second subarray\n",
        "    k = l\t # Initial index of merged subarray\n",
        "\n",
        "    while i < n1 and j < n2:\n",
        "      if L[i] <= R[j]:\n",
        "        arr[k] = L[i]\n",
        "        i =i+ 1\n",
        "      else:\n",
        "        arr[k] = R[j]\n",
        "        j =j+ 1\n",
        "      k =k+ 1\n",
        "\n",
        "    # Copy the remaining elements of L[], if there\n",
        "    # are any\n",
        "    while i < n1:\n",
        "      arr[k] = L[i]\n",
        "      i =i+ 1\n",
        "      k =k+ 1\n",
        "\n",
        "    # Copy the remaining elements of R[], if there\n",
        "    # are any\n",
        "    while j < n2:\n",
        "      arr[k] = R[j]\n",
        "      j =j+ 1\n",
        "      k =k+ 1\n",
        "    print(arr)\n",
        "  # l is for left index and r is right index of the\n",
        "  # sub-array of arr to be sorted\n",
        "\n",
        "\n",
        "def mergeSort(arr, l, r):\n",
        "\tif l < r:\n",
        "\n",
        "\t\t# Same as (l+r)//2, but avoids overflow for\n",
        "\t\t# large l and h\n",
        "\t\tm = l+(r-l)//2\n",
        "\n",
        "\t\t# Sort first and second halves\n",
        "\t\tmergeSort(arr, l, m)\n",
        "\t\tmergeSort(arr, m+1, r)\n",
        "\t\tmerge(arr, l, m, r)\n"
      ],
      "metadata": {
        "id": "woKp2esE2Wcz"
      },
      "execution_count": 66,
      "outputs": []
    },
    {
      "cell_type": "code",
      "source": [
        "arr = np.random.choice(90, size=8, replace=False) \n",
        "n = len(arr)\n",
        "print(\"Given array is\")\n",
        "for i in range(n):\n",
        "\tprint(\"%d\" % arr[i],end=\" \")\n",
        "print(\"\\n\")\n",
        "mergeSort(arr, 0, n-1)\n",
        "print(\"\\n\\nSorted array is\")\n",
        "for i in range(n):\n",
        "\tprint(\"%d\" % arr[i],end=\" \")\n",
        "\n"
      ],
      "metadata": {
        "colab": {
          "base_uri": "https://localhost:8080/"
        },
        "id": "kgEQxBUi5kNI",
        "outputId": "e60af234-d1d3-4a4d-a554-39c0a95b4843"
      },
      "execution_count": 67,
      "outputs": [
        {
          "output_type": "stream",
          "name": "stdout",
          "text": [
            "Given array is\n",
            "38 41 2 72 21 57 62 65 \n",
            "\n",
            "[38]\n",
            "[41]\n",
            "[38 41  2 72 21 57 62 65]\n",
            "[2]\n",
            "[72]\n",
            "[38 41  2 72 21 57 62 65]\n",
            "[38, 41]\n",
            "[2, 72]\n",
            "[ 2 38 41 72 21 57 62 65]\n",
            "[21]\n",
            "[57]\n",
            "[ 2 38 41 72 21 57 62 65]\n",
            "[62]\n",
            "[65]\n",
            "[ 2 38 41 72 21 57 62 65]\n",
            "[21, 57]\n",
            "[62, 65]\n",
            "[ 2 38 41 72 21 57 62 65]\n",
            "[2, 38, 41, 72]\n",
            "[21, 57, 62, 65]\n",
            "[ 2 21 38 41 57 62 65 72]\n",
            "\n",
            "\n",
            "Sorted array is\n",
            "2 21 38 41 57 62 65 72 "
          ]
        }
      ]
    },
    {
      "cell_type": "code",
      "source": [],
      "metadata": {
        "id": "0QhjuRyE6yXt"
      },
      "execution_count": null,
      "outputs": []
    }
  ],
  "metadata": {
    "kernelspec": {
      "display_name": "Python 3",
      "language": "python",
      "name": "python3"
    },
    "language_info": {
      "codemirror_mode": {
        "name": "ipython",
        "version": 3
      },
      "file_extension": ".py",
      "mimetype": "text/x-python",
      "name": "python",
      "nbconvert_exporter": "python",
      "pygments_lexer": "ipython3",
      "version": "3.7.9"
    },
    "colab": {
      "provenance": [],
      "include_colab_link": true
    }
  },
  "nbformat": 4,
  "nbformat_minor": 0
}