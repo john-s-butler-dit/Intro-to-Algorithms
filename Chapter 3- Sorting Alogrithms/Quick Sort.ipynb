{
  "cells": [
    {
      "cell_type": "markdown",
      "metadata": {
        "id": "view-in-github",
        "colab_type": "text"
      },
      "source": [
        "<a href=\"https://colab.research.google.com/github/john-s-butler-dit/Intro-to-Algorithms/blob/master/Chapter%203-%20Sorting%20Alogrithms/Quick%20Sort.ipynb\" target=\"_parent\"><img src=\"https://colab.research.google.com/assets/colab-badge.svg\" alt=\"Open In Colab\"/></a>"
      ]
    },
    {
      "cell_type": "markdown",
      "metadata": {
        "id": "l3EH06rA7U-P"
      },
      "source": [
        "# Quick Sort"
      ]
    },
    {
      "cell_type": "code",
      "source": [
        "from IPython.display import YouTubeVideo\n",
        "\n",
        "YouTubeVideo('pbELMEwmpfc')"
      ],
      "metadata": {
        "id": "Oe-YMGp89rMu",
        "outputId": "40805749-118c-406b-ce10-ea88dc65fad5",
        "colab": {
          "base_uri": "https://localhost:8080/",
          "height": 321
        }
      },
      "execution_count": 11,
      "outputs": [
        {
          "output_type": "execute_result",
          "data": {
            "text/plain": [
              "<IPython.lib.display.YouTubeVideo at 0x7f088e524e50>"
            ],
            "text/html": [
              "\n",
              "        <iframe\n",
              "            width=\"400\"\n",
              "            height=\"300\"\n",
              "            src=\"https://www.youtube.com/embed/pbELMEwmpfc\"\n",
              "            frameborder=\"0\"\n",
              "            allowfullscreen\n",
              "        ></iframe>\n",
              "        "
            ],
            "image/jpeg": "[encoded data removed]"
          },
          "metadata": {},
          "execution_count": 11
        }
      ]
    },
    {
      "cell_type": "code",
      "execution_count": 8,
      "metadata": {
        "id": "tkwzjdVx7U-S"
      },
      "outputs": [],
      "source": [
        "def quickSort(alist):\n",
        "   quickSortHelper(alist,0,len(alist)-1)\n",
        "\n",
        "def quickSortHelper(alist,first,last):\n",
        "   if first<last:\n",
        "\n",
        "       splitpoint = partition(alist,first,last)\n",
        "\n",
        "       quickSortHelper(alist,first,splitpoint-1)\n",
        "       quickSortHelper(alist,splitpoint+1,last)\n",
        "\n",
        "\n",
        "def partition(alist,first,last):\n",
        "   print(alist)\n",
        "\n",
        "   pivotvalue = alist[first]\n",
        "   print(\"pivot:\",pivotvalue)\n",
        "\n",
        "   leftmark = first+1\n",
        "   rightmark = last\n",
        "\n",
        "   done = False\n",
        "   while not done:\n",
        "\n",
        "       while leftmark <= rightmark and alist[leftmark] <= pivotvalue:\n",
        "           leftmark = leftmark + 1\n",
        "\n",
        "       while alist[rightmark] >= pivotvalue and rightmark >= leftmark:\n",
        "           rightmark = rightmark -1\n",
        "\n",
        "       if rightmark < leftmark:\n",
        "           done = True\n",
        "       else:\n",
        "           temp = alist[leftmark]\n",
        "           alist[leftmark] = alist[rightmark]\n",
        "           alist[rightmark] = temp\n",
        "\n",
        "   temp = alist[first]\n",
        "    alist[first] = alist[rightmark]\n",
        "   alist[rightmark] = temp\n",
        "\n",
        "\n",
        "   return rightmark\n",
        "\n"
      ]
    },
    {
      "cell_type": "code",
      "execution_count": 10,
      "metadata": {
        "collapsed": true,
        "id": "Z7TzAsgK7U-V",
        "outputId": "8d54fa3c-b522-43b6-cada-5bc928fbc984",
        "colab": {
          "base_uri": "https://localhost:8080/"
        }
      },
      "outputs": [
        {
          "output_type": "stream",
          "name": "stdout",
          "text": [
            "[84 56 79 39 50 27 68 24]\n",
            "pivot: 84\n",
            "[84 56 79 39 50 27 68 24]\n",
            "[24 56 79 39 50 27 68 84]\n",
            "pivot: 24\n",
            "[24 56 79 39 50 27 68 84]\n",
            "[24 56 79 39 50 27 68 84]\n",
            "pivot: 56\n",
            "[24 56 27 39 50 79 68 84]\n",
            "[24 50 27 39 56 79 68 84]\n",
            "pivot: 50\n",
            "[24 50 27 39 56 79 68 84]\n",
            "[24 39 27 50 56 79 68 84]\n",
            "pivot: 39\n",
            "[24 39 27 50 56 79 68 84]\n",
            "[24 27 39 50 56 79 68 84]\n",
            "pivot: 79\n",
            "[24 27 39 50 56 79 68 84]\n",
            "\n",
            "\n",
            "Sorted array is\n",
            "[24 27 39 50 56 68 79 84]\n"
          ]
        }
      ],
      "source": [
        "import numpy as np\n",
        "arr = np.random.choice(90, size=8, replace=False) \n",
        "quickSort(arr)\n",
        "print(\"\\n\\nSorted array is\")\n",
        "\n",
        "print(arr)\n"
      ]
    },
    {
      "cell_type": "code",
      "source": [],
      "metadata": {
        "id": "_ulfi_uF7qNv"
      },
      "execution_count": null,
      "outputs": []
    }
  ],
  "metadata": {
    "kernelspec": {
      "display_name": "Python 3",
      "language": "python",
      "name": "python3"
    },
    "language_info": {
      "codemirror_mode": {
        "name": "ipython",
        "version": 3
      },
      "file_extension": ".py",
      "mimetype": "text/x-python",
      "name": "python",
      "nbconvert_exporter": "python",
      "pygments_lexer": "ipython3",
      "version": "3.7.3"
    },
    "colab": {
      "provenance": [],
      "include_colab_link": true
    }
  },
  "nbformat": 4,
  "nbformat_minor": 0
}